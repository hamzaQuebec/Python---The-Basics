{
 "cells": [
  {
   "cell_type": "code",
   "execution_count": 1,
   "id": "60698aab",
   "metadata": {},
   "outputs": [],
   "source": [
    "class ClassName:\n",
    "    #<statement-1>\n",
    "    \n",
    "    pass\n",
    "    \n",
    "    #<statement-N>"
   ]
  },
  {
   "cell_type": "code",
   "execution_count": 2,
   "id": "38f85d04",
   "metadata": {},
   "outputs": [],
   "source": [
    "class Trivial:\n",
    "    pass"
   ]
  },
  {
   "cell_type": "code",
   "execution_count": 3,
   "id": "43e02d4f",
   "metadata": {},
   "outputs": [],
   "source": [
    "t1=Trivial()"
   ]
  },
  {
   "cell_type": "code",
   "execution_count": 4,
   "id": "73b31987",
   "metadata": {},
   "outputs": [
    {
     "name": "stdout",
     "output_type": "stream",
     "text": [
      "<class '__main__.Trivial'>\n"
     ]
    }
   ],
   "source": [
    "print(type(t1))"
   ]
  },
  {
   "cell_type": "code",
   "execution_count": 5,
   "id": "52d56769",
   "metadata": {},
   "outputs": [
    {
     "data": {
      "text/plain": [
       "['__class__',\n",
       " '__delattr__',\n",
       " '__dict__',\n",
       " '__dir__',\n",
       " '__doc__',\n",
       " '__eq__',\n",
       " '__format__',\n",
       " '__ge__',\n",
       " '__getattribute__',\n",
       " '__getstate__',\n",
       " '__gt__',\n",
       " '__hash__',\n",
       " '__init__',\n",
       " '__init_subclass__',\n",
       " '__le__',\n",
       " '__lt__',\n",
       " '__module__',\n",
       " '__ne__',\n",
       " '__new__',\n",
       " '__reduce__',\n",
       " '__reduce_ex__',\n",
       " '__repr__',\n",
       " '__setattr__',\n",
       " '__sizeof__',\n",
       " '__str__',\n",
       " '__subclasshook__',\n",
       " '__weakref__']"
      ]
     },
     "execution_count": 5,
     "metadata": {},
     "output_type": "execute_result"
    }
   ],
   "source": [
    "dir(t1)"
   ]
  },
  {
   "cell_type": "code",
   "execution_count": 6,
   "id": "4a976cee",
   "metadata": {},
   "outputs": [],
   "source": [
    "t1.name= 'Hamza'"
   ]
  },
  {
   "cell_type": "code",
   "execution_count": 7,
   "id": "9dacb034",
   "metadata": {},
   "outputs": [
    {
     "data": {
      "text/plain": [
       "'Hamza'"
      ]
     },
     "execution_count": 7,
     "metadata": {},
     "output_type": "execute_result"
    }
   ],
   "source": [
    "t1.name"
   ]
  },
  {
   "cell_type": "code",
   "execution_count": 8,
   "id": "a27c0cbe",
   "metadata": {},
   "outputs": [
    {
     "data": {
      "text/plain": [
       "['__class__',\n",
       " '__delattr__',\n",
       " '__dict__',\n",
       " '__dir__',\n",
       " '__doc__',\n",
       " '__eq__',\n",
       " '__format__',\n",
       " '__ge__',\n",
       " '__getattribute__',\n",
       " '__getstate__',\n",
       " '__gt__',\n",
       " '__hash__',\n",
       " '__init__',\n",
       " '__init_subclass__',\n",
       " '__le__',\n",
       " '__lt__',\n",
       " '__module__',\n",
       " '__ne__',\n",
       " '__new__',\n",
       " '__reduce__',\n",
       " '__reduce_ex__',\n",
       " '__repr__',\n",
       " '__setattr__',\n",
       " '__sizeof__',\n",
       " '__str__',\n",
       " '__subclasshook__',\n",
       " '__weakref__',\n",
       " 'name']"
      ]
     },
     "execution_count": 8,
     "metadata": {},
     "output_type": "execute_result"
    }
   ],
   "source": [
    "dir(t1)"
   ]
  },
  {
   "cell_type": "code",
   "execution_count": 9,
   "id": "10349482",
   "metadata": {},
   "outputs": [],
   "source": [
    "t2= Trivial()"
   ]
  },
  {
   "cell_type": "code",
   "execution_count": 10,
   "id": "fab470fa",
   "metadata": {},
   "outputs": [],
   "source": [
    "t2.name = 'Badr'"
   ]
  },
  {
   "cell_type": "code",
   "execution_count": 11,
   "id": "084228bb",
   "metadata": {},
   "outputs": [
    {
     "name": "stdout",
     "output_type": "stream",
     "text": [
      "Badr Hamza\n"
     ]
    }
   ],
   "source": [
    "print(t2.name, t1.name)"
   ]
  },
  {
   "cell_type": "code",
   "execution_count": 12,
   "id": "4fd96d88",
   "metadata": {},
   "outputs": [],
   "source": [
    "class Dog:\n",
    "    def bark():  # method\n",
    "        print(' haw haw haw!!')\n",
    "        "
   ]
  },
  {
   "cell_type": "code",
   "execution_count": 13,
   "id": "7c80395e",
   "metadata": {},
   "outputs": [
    {
     "data": {
      "text/plain": [
       "['__class__',\n",
       " '__delattr__',\n",
       " '__dict__',\n",
       " '__dir__',\n",
       " '__doc__',\n",
       " '__eq__',\n",
       " '__format__',\n",
       " '__ge__',\n",
       " '__getattribute__',\n",
       " '__getstate__',\n",
       " '__gt__',\n",
       " '__hash__',\n",
       " '__init__',\n",
       " '__init_subclass__',\n",
       " '__le__',\n",
       " '__lt__',\n",
       " '__module__',\n",
       " '__ne__',\n",
       " '__new__',\n",
       " '__reduce__',\n",
       " '__reduce_ex__',\n",
       " '__repr__',\n",
       " '__setattr__',\n",
       " '__sizeof__',\n",
       " '__str__',\n",
       " '__subclasshook__',\n",
       " '__weakref__',\n",
       " 'bark']"
      ]
     },
     "execution_count": 13,
     "metadata": {},
     "output_type": "execute_result"
    }
   ],
   "source": [
    "dog1=Dog()\n",
    "dir(dog1)"
   ]
  },
  {
   "cell_type": "code",
   "execution_count": 14,
   "id": "da08df2f",
   "metadata": {},
   "outputs": [
    {
     "name": "stdout",
     "output_type": "stream",
     "text": [
      " haw haw haw!!\n"
     ]
    }
   ],
   "source": [
    "Dog.bark()"
   ]
  },
  {
   "cell_type": "code",
   "execution_count": 15,
   "id": "31ff4d0f",
   "metadata": {},
   "outputs": [
    {
     "ename": "TypeError",
     "evalue": "Dog.bark() takes 0 positional arguments but 1 was given",
     "output_type": "error",
     "traceback": [
      "\u001b[1;31m---------------------------------------------------------------------------\u001b[0m",
      "\u001b[1;31mTypeError\u001b[0m                                 Traceback (most recent call last)",
      "Cell \u001b[1;32mIn[15], line 1\u001b[0m\n\u001b[1;32m----> 1\u001b[0m dog1\u001b[38;5;241m.\u001b[39mbark()\n",
      "\u001b[1;31mTypeError\u001b[0m: Dog.bark() takes 0 positional arguments but 1 was given"
     ]
    }
   ],
   "source": [
    "dog1.bark()"
   ]
  },
  {
   "cell_type": "code",
   "execution_count": null,
   "id": "8b6e4a4c",
   "metadata": {},
   "outputs": [],
   "source": [
    "class Dog:\n",
    "    def bark(self):  # with self\n",
    "        print(' haw haw haw!!')"
   ]
  },
  {
   "cell_type": "code",
   "execution_count": null,
   "id": "032009c6",
   "metadata": {},
   "outputs": [],
   "source": [
    "dog1=Dog()\n",
    "Dog.bark(dog1)"
   ]
  },
  {
   "cell_type": "code",
   "execution_count": 16,
   "id": "43e5605b",
   "metadata": {},
   "outputs": [
    {
     "ename": "TypeError",
     "evalue": "Dog.bark() takes 0 positional arguments but 1 was given",
     "output_type": "error",
     "traceback": [
      "\u001b[1;31m---------------------------------------------------------------------------\u001b[0m",
      "\u001b[1;31mTypeError\u001b[0m                                 Traceback (most recent call last)",
      "Cell \u001b[1;32mIn[16], line 1\u001b[0m\n\u001b[1;32m----> 1\u001b[0m dog1\u001b[38;5;241m.\u001b[39mbark()\n",
      "\u001b[1;31mTypeError\u001b[0m: Dog.bark() takes 0 positional arguments but 1 was given"
     ]
    }
   ],
   "source": [
    "dog1.bark()"
   ]
  },
  {
   "cell_type": "code",
   "execution_count": 17,
   "id": "926fea0f",
   "metadata": {},
   "outputs": [
    {
     "ename": "TypeError",
     "evalue": "Dog.bark() takes 0 positional arguments but 1 was given",
     "output_type": "error",
     "traceback": [
      "\u001b[1;31m---------------------------------------------------------------------------\u001b[0m",
      "\u001b[1;31mTypeError\u001b[0m                                 Traceback (most recent call last)",
      "Cell \u001b[1;32mIn[17], line 2\u001b[0m\n\u001b[0;32m      1\u001b[0m dog2\u001b[38;5;241m=\u001b[39m Dog()\n\u001b[1;32m----> 2\u001b[0m dog2\u001b[38;5;241m.\u001b[39mbark()\n",
      "\u001b[1;31mTypeError\u001b[0m: Dog.bark() takes 0 positional arguments but 1 was given"
     ]
    }
   ],
   "source": [
    "dog2= Dog()\n",
    "dog2.bark()"
   ]
  },
  {
   "cell_type": "code",
   "execution_count": 18,
   "id": "66a79aea",
   "metadata": {},
   "outputs": [
    {
     "ename": "NameError",
     "evalue": "name 'self' is not defined",
     "output_type": "error",
     "traceback": [
      "\u001b[1;31m---------------------------------------------------------------------------\u001b[0m",
      "\u001b[1;31mNameError\u001b[0m                                 Traceback (most recent call last)",
      "Cell \u001b[1;32mIn[18], line 1\u001b[0m\n\u001b[1;32m----> 1\u001b[0m \u001b[38;5;28;01mclass\u001b[39;00m \u001b[38;5;21;01mDog\u001b[39;00m:\n\u001b[0;32m      2\u001b[0m     \u001b[38;5;28mself\u001b[39m\u001b[38;5;241m.\u001b[39mname\u001b[38;5;241m=\u001b[39m\u001b[38;5;124m'\u001b[39m\u001b[38;5;124m'\u001b[39m\n\u001b[0;32m      3\u001b[0m     \u001b[38;5;28;01mdef\u001b[39;00m \u001b[38;5;21mbark\u001b[39m(\u001b[38;5;28mself\u001b[39m):  \u001b[38;5;66;03m# with self\u001b[39;00m\n",
      "Cell \u001b[1;32mIn[18], line 2\u001b[0m, in \u001b[0;36mDog\u001b[1;34m()\u001b[0m\n\u001b[0;32m      1\u001b[0m \u001b[38;5;28;01mclass\u001b[39;00m \u001b[38;5;21;01mDog\u001b[39;00m:\n\u001b[1;32m----> 2\u001b[0m     \u001b[38;5;28mself\u001b[39m\u001b[38;5;241m.\u001b[39mname\u001b[38;5;241m=\u001b[39m\u001b[38;5;124m'\u001b[39m\u001b[38;5;124m'\u001b[39m\n\u001b[0;32m      3\u001b[0m     \u001b[38;5;28;01mdef\u001b[39;00m \u001b[38;5;21mbark\u001b[39m(\u001b[38;5;28mself\u001b[39m):  \u001b[38;5;66;03m# with self\u001b[39;00m\n\u001b[0;32m      4\u001b[0m         \u001b[38;5;28mprint\u001b[39m(\u001b[38;5;124m'\u001b[39m\u001b[38;5;124m haw haw haw!!\u001b[39m\u001b[38;5;124m'\u001b[39m)\n",
      "\u001b[1;31mNameError\u001b[0m: name 'self' is not defined"
     ]
    }
   ],
   "source": [
    "class Dog:\n",
    "    self.name=''\n",
    "    def bark(self):  # with self\n",
    "        print(' haw haw haw!!')"
   ]
  },
  {
   "cell_type": "code",
   "execution_count": 19,
   "id": "ebb47c07",
   "metadata": {},
   "outputs": [],
   "source": [
    "class Dog:\n",
    "    def __init__ (self): #dunder 'magic' method\n",
    "        self.name='rex'\n",
    "    def bark(self):  # with self\n",
    "        print(' haw haw haw!!')"
   ]
  },
  {
   "cell_type": "code",
   "execution_count": 20,
   "id": "ba7a9457",
   "metadata": {},
   "outputs": [],
   "source": [
    "dog1=Dog()"
   ]
  },
  {
   "cell_type": "code",
   "execution_count": 21,
   "id": "6b08687a",
   "metadata": {},
   "outputs": [
    {
     "data": {
      "text/plain": [
       "'rex'"
      ]
     },
     "execution_count": 21,
     "metadata": {},
     "output_type": "execute_result"
    }
   ],
   "source": [
    "dog1.name"
   ]
  },
  {
   "cell_type": "code",
   "execution_count": 22,
   "id": "04cf7f60",
   "metadata": {},
   "outputs": [
    {
     "name": "stdout",
     "output_type": "stream",
     "text": [
      " haw haw haw!!\n"
     ]
    }
   ],
   "source": [
    "dog1.bark()"
   ]
  },
  {
   "cell_type": "code",
   "execution_count": 23,
   "id": "1468f61c",
   "metadata": {},
   "outputs": [
    {
     "data": {
      "text/plain": [
       "'rex'"
      ]
     },
     "execution_count": 23,
     "metadata": {},
     "output_type": "execute_result"
    }
   ],
   "source": [
    "dog2=Dog()\n",
    "dog2.name"
   ]
  },
  {
   "cell_type": "code",
   "execution_count": 24,
   "id": "643c3178",
   "metadata": {},
   "outputs": [],
   "source": [
    "class Dog:\n",
    "    def __init__ (self, name): #dunder 'magic' method\n",
    "        self.name= name\n",
    "    def bark(self):  # with self\n",
    "        print(' haw haw haw!!')"
   ]
  },
  {
   "cell_type": "code",
   "execution_count": 25,
   "id": "9745320b",
   "metadata": {},
   "outputs": [],
   "source": [
    "dog1=Dog('Simba')"
   ]
  },
  {
   "cell_type": "code",
   "execution_count": 26,
   "id": "8b219862",
   "metadata": {},
   "outputs": [
    {
     "data": {
      "text/plain": [
       "'Simba'"
      ]
     },
     "execution_count": 26,
     "metadata": {},
     "output_type": "execute_result"
    }
   ],
   "source": [
    "dog1.name"
   ]
  },
  {
   "cell_type": "code",
   "execution_count": 27,
   "id": "fc6d91a4",
   "metadata": {},
   "outputs": [
    {
     "data": {
      "text/plain": [
       "'rex'"
      ]
     },
     "execution_count": 27,
     "metadata": {},
     "output_type": "execute_result"
    }
   ],
   "source": [
    "dog2=Dog('rex')\n",
    "dog2.name"
   ]
  },
  {
   "cell_type": "code",
   "execution_count": 28,
   "id": "688c36fe",
   "metadata": {},
   "outputs": [
    {
     "data": {
      "text/plain": [
       "'Joy'"
      ]
     },
     "execution_count": 28,
     "metadata": {},
     "output_type": "execute_result"
    }
   ],
   "source": [
    "dog1.name='Joy'\n",
    "dog1.name"
   ]
  },
  {
   "cell_type": "code",
   "execution_count": 29,
   "id": "d9fa970b",
   "metadata": {},
   "outputs": [],
   "source": [
    "class Dog:\n",
    "    def __init__ (self, name, age): \n",
    "        self.name= name\n",
    "        self.age=age\n",
    "    def bark(self):  \n",
    "        print(' haw haw haw!!')\n",
    "    def set_age(self, age):\n",
    "        self.age=age"
   ]
  },
  {
   "cell_type": "code",
   "execution_count": 30,
   "id": "0283e45d",
   "metadata": {},
   "outputs": [],
   "source": [
    "dog1=Dog('Lazy', 2)"
   ]
  },
  {
   "cell_type": "code",
   "execution_count": 31,
   "id": "8f2d6ad4",
   "metadata": {},
   "outputs": [
    {
     "data": {
      "text/plain": [
       "'Lazy'"
      ]
     },
     "execution_count": 31,
     "metadata": {},
     "output_type": "execute_result"
    }
   ],
   "source": [
    "dog1.name"
   ]
  },
  {
   "cell_type": "code",
   "execution_count": 32,
   "id": "76252a34",
   "metadata": {},
   "outputs": [
    {
     "data": {
      "text/plain": [
       "2"
      ]
     },
     "execution_count": 32,
     "metadata": {},
     "output_type": "execute_result"
    }
   ],
   "source": [
    "dog1.age"
   ]
  },
  {
   "cell_type": "code",
   "execution_count": 33,
   "id": "05c39f7d",
   "metadata": {},
   "outputs": [
    {
     "data": {
      "text/plain": [
       "5"
      ]
     },
     "execution_count": 33,
     "metadata": {},
     "output_type": "execute_result"
    }
   ],
   "source": [
    "dog1.set_age(5)\n",
    "dog1.age"
   ]
  },
  {
   "cell_type": "code",
   "execution_count": 34,
   "id": "e7c020e5",
   "metadata": {},
   "outputs": [],
   "source": [
    "#decorator\n",
    "class Dog:\n",
    "    def __init__ (self, name, age): \n",
    "        self.name= name\n",
    "        self.age=age\n",
    "    def bark(self):  \n",
    "        print(' haw haw haw!!')\n",
    "    def set_age(self, age):\n",
    "        self.age=age\n",
    "        \n",
    "    @property\n",
    "    def name(self):\n",
    "        return self._name\n",
    "    @name.setter\n",
    "    def name(self, name):\n",
    "        if not name.isalpha():\n",
    "            raise ValueError (\"Dog's Name Must Be Letter Only!\")\n",
    "        self._name=name\n",
    "    @name.deleter\n",
    "    def name(self):\n",
    "        self.name = None\n",
    "        "
   ]
  },
  {
   "cell_type": "code",
   "execution_count": 35,
   "id": "e66eeb8a",
   "metadata": {},
   "outputs": [],
   "source": [
    "dog1=Dog('Juva', 2)"
   ]
  },
  {
   "cell_type": "code",
   "execution_count": 36,
   "id": "9f308415",
   "metadata": {},
   "outputs": [
    {
     "ename": "ValueError",
     "evalue": "Dog's Name Must Be Letter Only!",
     "output_type": "error",
     "traceback": [
      "\u001b[1;31m---------------------------------------------------------------------------\u001b[0m",
      "\u001b[1;31mValueError\u001b[0m                                Traceback (most recent call last)",
      "Cell \u001b[1;32mIn[36], line 1\u001b[0m\n\u001b[1;32m----> 1\u001b[0m dog2\u001b[38;5;241m=\u001b[39mDog(\u001b[38;5;124m'\u001b[39m\u001b[38;5;124mabc1\u001b[39m\u001b[38;5;124m'\u001b[39m, \u001b[38;5;241m2\u001b[39m)\n",
      "Cell \u001b[1;32mIn[34], line 4\u001b[0m, in \u001b[0;36mDog.__init__\u001b[1;34m(self, name, age)\u001b[0m\n\u001b[0;32m      3\u001b[0m \u001b[38;5;28;01mdef\u001b[39;00m \u001b[38;5;21m__init__\u001b[39m (\u001b[38;5;28mself\u001b[39m, name, age): \n\u001b[1;32m----> 4\u001b[0m     \u001b[38;5;28mself\u001b[39m\u001b[38;5;241m.\u001b[39mname\u001b[38;5;241m=\u001b[39m name\n\u001b[0;32m      5\u001b[0m     \u001b[38;5;28mself\u001b[39m\u001b[38;5;241m.\u001b[39mage\u001b[38;5;241m=\u001b[39mage\n",
      "Cell \u001b[1;32mIn[34], line 17\u001b[0m, in \u001b[0;36mDog.name\u001b[1;34m(self, name)\u001b[0m\n\u001b[0;32m     14\u001b[0m \u001b[38;5;129m@name\u001b[39m\u001b[38;5;241m.\u001b[39msetter\n\u001b[0;32m     15\u001b[0m \u001b[38;5;28;01mdef\u001b[39;00m \u001b[38;5;21mname\u001b[39m(\u001b[38;5;28mself\u001b[39m, name):\n\u001b[0;32m     16\u001b[0m     \u001b[38;5;28;01mif\u001b[39;00m \u001b[38;5;129;01mnot\u001b[39;00m name\u001b[38;5;241m.\u001b[39misalpha():\n\u001b[1;32m---> 17\u001b[0m         \u001b[38;5;28;01mraise\u001b[39;00m \u001b[38;5;167;01mValueError\u001b[39;00m (\u001b[38;5;124m\"\u001b[39m\u001b[38;5;124mDog\u001b[39m\u001b[38;5;124m'\u001b[39m\u001b[38;5;124ms Name Must Be Letter Only!\u001b[39m\u001b[38;5;124m\"\u001b[39m)\n\u001b[0;32m     18\u001b[0m     \u001b[38;5;28mself\u001b[39m\u001b[38;5;241m.\u001b[39m_name\u001b[38;5;241m=\u001b[39mname\n",
      "\u001b[1;31mValueError\u001b[0m: Dog's Name Must Be Letter Only!"
     ]
    }
   ],
   "source": [
    "dog2=Dog('abc1', 2)"
   ]
  },
  {
   "cell_type": "code",
   "execution_count": 37,
   "id": "1119205c",
   "metadata": {},
   "outputs": [
    {
     "data": {
      "text/plain": [
       "'Juva'"
      ]
     },
     "execution_count": 37,
     "metadata": {},
     "output_type": "execute_result"
    }
   ],
   "source": [
    "dog1.name"
   ]
  },
  {
   "cell_type": "code",
   "execution_count": 38,
   "id": "450d9822",
   "metadata": {},
   "outputs": [
    {
     "data": {
      "text/plain": [
       "'Loly'"
      ]
     },
     "execution_count": 38,
     "metadata": {},
     "output_type": "execute_result"
    }
   ],
   "source": [
    "dog1.name='Loly'\n",
    "dog1.name"
   ]
  },
  {
   "cell_type": "code",
   "execution_count": 39,
   "id": "8b39b215",
   "metadata": {},
   "outputs": [
    {
     "ename": "ValueError",
     "evalue": "Dog's Name Must Be Letter Only!",
     "output_type": "error",
     "traceback": [
      "\u001b[1;31m---------------------------------------------------------------------------\u001b[0m",
      "\u001b[1;31mValueError\u001b[0m                                Traceback (most recent call last)",
      "Cell \u001b[1;32mIn[39], line 1\u001b[0m\n\u001b[1;32m----> 1\u001b[0m dog1\u001b[38;5;241m.\u001b[39mname\u001b[38;5;241m=\u001b[39m\u001b[38;5;124m'\u001b[39m\u001b[38;5;124mLoly1\u001b[39m\u001b[38;5;124m'\u001b[39m\n\u001b[0;32m      2\u001b[0m dog1\u001b[38;5;241m.\u001b[39mname\n",
      "Cell \u001b[1;32mIn[34], line 17\u001b[0m, in \u001b[0;36mDog.name\u001b[1;34m(self, name)\u001b[0m\n\u001b[0;32m     14\u001b[0m \u001b[38;5;129m@name\u001b[39m\u001b[38;5;241m.\u001b[39msetter\n\u001b[0;32m     15\u001b[0m \u001b[38;5;28;01mdef\u001b[39;00m \u001b[38;5;21mname\u001b[39m(\u001b[38;5;28mself\u001b[39m, name):\n\u001b[0;32m     16\u001b[0m     \u001b[38;5;28;01mif\u001b[39;00m \u001b[38;5;129;01mnot\u001b[39;00m name\u001b[38;5;241m.\u001b[39misalpha():\n\u001b[1;32m---> 17\u001b[0m         \u001b[38;5;28;01mraise\u001b[39;00m \u001b[38;5;167;01mValueError\u001b[39;00m (\u001b[38;5;124m\"\u001b[39m\u001b[38;5;124mDog\u001b[39m\u001b[38;5;124m'\u001b[39m\u001b[38;5;124ms Name Must Be Letter Only!\u001b[39m\u001b[38;5;124m\"\u001b[39m)\n\u001b[0;32m     18\u001b[0m     \u001b[38;5;28mself\u001b[39m\u001b[38;5;241m.\u001b[39m_name\u001b[38;5;241m=\u001b[39mname\n",
      "\u001b[1;31mValueError\u001b[0m: Dog's Name Must Be Letter Only!"
     ]
    }
   ],
   "source": [
    "dog1.name='Loly1'\n",
    "dog1.name"
   ]
  },
  {
   "cell_type": "code",
   "execution_count": 40,
   "id": "88c18d90",
   "metadata": {},
   "outputs": [],
   "source": [
    "class Account:\n",
    "    \"\"\" This class is base class for bank account\n",
    "    that is created by passing name and balance\"\"\"\n",
    "    def __init__(self, name, balance):\n",
    "        \"\"\"to initialize basic infos\"\"\"\n",
    "        self.name=name\n",
    "        self.balance=balance\n",
    "    \n",
    "    def deposit(self, amount):\n",
    "        self.balance+=amount\n",
    "    \n",
    "    def withdraw(self, amount):\n",
    "        self.balance-=amount"
   ]
  },
  {
   "cell_type": "code",
   "execution_count": 41,
   "id": "befc2ec9",
   "metadata": {},
   "outputs": [],
   "source": [
    "Account?"
   ]
  },
  {
   "cell_type": "code",
   "execution_count": 42,
   "id": "458715cc",
   "metadata": {},
   "outputs": [
    {
     "name": "stdout",
     "output_type": "stream",
     "text": [
      "<class 'type'>\n"
     ]
    }
   ],
   "source": [
    "print(type(Account))"
   ]
  },
  {
   "cell_type": "code",
   "execution_count": 43,
   "id": "c62691ce",
   "metadata": {},
   "outputs": [],
   "source": [
    "acct1= Account('Hamza', 250.65)"
   ]
  },
  {
   "cell_type": "code",
   "execution_count": 44,
   "id": "d15f4478",
   "metadata": {},
   "outputs": [
    {
     "data": {
      "text/plain": [
       "['__class__',\n",
       " '__delattr__',\n",
       " '__dict__',\n",
       " '__dir__',\n",
       " '__doc__',\n",
       " '__eq__',\n",
       " '__format__',\n",
       " '__ge__',\n",
       " '__getattribute__',\n",
       " '__getstate__',\n",
       " '__gt__',\n",
       " '__hash__',\n",
       " '__init__',\n",
       " '__init_subclass__',\n",
       " '__le__',\n",
       " '__lt__',\n",
       " '__module__',\n",
       " '__ne__',\n",
       " '__new__',\n",
       " '__reduce__',\n",
       " '__reduce_ex__',\n",
       " '__repr__',\n",
       " '__setattr__',\n",
       " '__sizeof__',\n",
       " '__str__',\n",
       " '__subclasshook__',\n",
       " '__weakref__',\n",
       " 'balance',\n",
       " 'deposit',\n",
       " 'name',\n",
       " 'withdraw']"
      ]
     },
     "execution_count": 44,
     "metadata": {},
     "output_type": "execute_result"
    }
   ],
   "source": [
    "dir(acct1)"
   ]
  },
  {
   "cell_type": "code",
   "execution_count": 45,
   "id": "8651c400",
   "metadata": {},
   "outputs": [
    {
     "data": {
      "text/plain": [
       "250.65"
      ]
     },
     "execution_count": 45,
     "metadata": {},
     "output_type": "execute_result"
    }
   ],
   "source": [
    "acct1.balance"
   ]
  },
  {
   "cell_type": "code",
   "execution_count": 46,
   "id": "a0199edf",
   "metadata": {},
   "outputs": [],
   "source": [
    "acct1.deposit(15)"
   ]
  },
  {
   "cell_type": "code",
   "execution_count": 47,
   "id": "95129ba6",
   "metadata": {},
   "outputs": [
    {
     "data": {
      "text/plain": [
       "265.65"
      ]
     },
     "execution_count": 47,
     "metadata": {},
     "output_type": "execute_result"
    }
   ],
   "source": [
    "acct1.balance"
   ]
  },
  {
   "cell_type": "code",
   "execution_count": 48,
   "id": "3dc3c764",
   "metadata": {},
   "outputs": [],
   "source": [
    "class Account:\n",
    "    \"\"\" This class is base class for bank account\n",
    "    that is created by passing name and balance\"\"\"\n",
    "    def __init__(self, name, balance):\n",
    "        \"\"\"to initialize basic infos\"\"\"\n",
    "        self.name=name\n",
    "        self.balance=balance\n",
    "    \n",
    "    def deposit(self, amount):\n",
    "        if amount>0:\n",
    "            self.balance+=amount\n",
    "        else:\n",
    "            raise ValueError ('Amount must be greater than 0 .')\n",
    "    \n",
    "    def withdraw(self, amount):\n",
    "        self.balance-=amount"
   ]
  },
  {
   "cell_type": "code",
   "execution_count": 49,
   "id": "146441bb",
   "metadata": {},
   "outputs": [
    {
     "name": "stdout",
     "output_type": "stream",
     "text": [
      "Balance de départ Hamza est : 0 $\n",
      "Balance de Hamza apres dépot est : 30 $\n"
     ]
    }
   ],
   "source": [
    "acc1=Account(\"Hamza\", 0)\n",
    "print(f'Balance de départ {acc1.name} est : {acc1.balance} $')\n",
    "acc1.deposit(30)\n",
    "print(f'Balance de {acc1.name} apres dépot est : {acc1.balance} $')"
   ]
  },
  {
   "cell_type": "code",
   "execution_count": 50,
   "id": "efef52b8",
   "metadata": {},
   "outputs": [
    {
     "ename": "ValueError",
     "evalue": "Amount must be greater than 0 .",
     "output_type": "error",
     "traceback": [
      "\u001b[1;31m---------------------------------------------------------------------------\u001b[0m",
      "\u001b[1;31mValueError\u001b[0m                                Traceback (most recent call last)",
      "Cell \u001b[1;32mIn[50], line 1\u001b[0m\n\u001b[1;32m----> 1\u001b[0m acc1\u001b[38;5;241m.\u001b[39mdeposit(\u001b[38;5;241m-\u001b[39m\u001b[38;5;241m12\u001b[39m)\n",
      "Cell \u001b[1;32mIn[48], line 13\u001b[0m, in \u001b[0;36mAccount.deposit\u001b[1;34m(self, amount)\u001b[0m\n\u001b[0;32m     11\u001b[0m     \u001b[38;5;28mself\u001b[39m\u001b[38;5;241m.\u001b[39mbalance\u001b[38;5;241m+\u001b[39m\u001b[38;5;241m=\u001b[39mamount\n\u001b[0;32m     12\u001b[0m \u001b[38;5;28;01melse\u001b[39;00m:\n\u001b[1;32m---> 13\u001b[0m     \u001b[38;5;28;01mraise\u001b[39;00m \u001b[38;5;167;01mValueError\u001b[39;00m (\u001b[38;5;124m'\u001b[39m\u001b[38;5;124mAmount must be greater than 0 .\u001b[39m\u001b[38;5;124m'\u001b[39m)\n",
      "\u001b[1;31mValueError\u001b[0m: Amount must be greater than 0 ."
     ]
    }
   ],
   "source": [
    "acc1.deposit(-12)"
   ]
  },
  {
   "cell_type": "code",
   "execution_count": 51,
   "id": "5bb5781d",
   "metadata": {},
   "outputs": [],
   "source": [
    "class Account:\n",
    "    def __init__(self, name, balance):\n",
    "   \n",
    "        self.name=name\n",
    "        self.balance=balance\n",
    "        self.__ssn='123-456-789' #double underscore convention \n",
    "    \n",
    "    def deposit(self, amount):\n",
    "        if amount>0:\n",
    "            self.balance+=amount\n",
    "        else:\n",
    "            raise ValueError ('Amount must be greater than 0 .')\n",
    "    \n",
    "    def withdraw(self, amount):\n",
    "        self.balance-=amount"
   ]
  },
  {
   "cell_type": "code",
   "execution_count": 52,
   "id": "6bb276b1",
   "metadata": {},
   "outputs": [],
   "source": [
    "acc2=Account('Hamza', 1526)"
   ]
  },
  {
   "cell_type": "code",
   "execution_count": 53,
   "id": "973aeea9",
   "metadata": {},
   "outputs": [
    {
     "data": {
      "text/plain": [
       "['_Account__ssn',\n",
       " '__class__',\n",
       " '__delattr__',\n",
       " '__dict__',\n",
       " '__dir__',\n",
       " '__doc__',\n",
       " '__eq__',\n",
       " '__format__',\n",
       " '__ge__',\n",
       " '__getattribute__',\n",
       " '__getstate__',\n",
       " '__gt__',\n",
       " '__hash__',\n",
       " '__init__',\n",
       " '__init_subclass__',\n",
       " '__le__',\n",
       " '__lt__',\n",
       " '__module__',\n",
       " '__ne__',\n",
       " '__new__',\n",
       " '__reduce__',\n",
       " '__reduce_ex__',\n",
       " '__repr__',\n",
       " '__setattr__',\n",
       " '__sizeof__',\n",
       " '__str__',\n",
       " '__subclasshook__',\n",
       " '__weakref__',\n",
       " 'balance',\n",
       " 'deposit',\n",
       " 'name',\n",
       " 'withdraw']"
      ]
     },
     "execution_count": 53,
     "metadata": {},
     "output_type": "execute_result"
    }
   ],
   "source": [
    " dir(acc2)"
   ]
  },
  {
   "cell_type": "code",
   "execution_count": 54,
   "id": "e51d1518",
   "metadata": {},
   "outputs": [
    {
     "data": {
      "text/plain": [
       "'123-456-789'"
      ]
     },
     "execution_count": 54,
     "metadata": {},
     "output_type": "execute_result"
    }
   ],
   "source": [
    "acc2._Account__ssn"
   ]
  },
  {
   "cell_type": "code",
   "execution_count": 55,
   "id": "610fccde",
   "metadata": {},
   "outputs": [],
   "source": [
    "acc2._Account__ssn='987-654-321'"
   ]
  },
  {
   "cell_type": "code",
   "execution_count": 56,
   "id": "550ca14e",
   "metadata": {},
   "outputs": [
    {
     "data": {
      "text/plain": [
       "'987-654-321'"
      ]
     },
     "execution_count": 56,
     "metadata": {},
     "output_type": "execute_result"
    }
   ],
   "source": [
    "acc2._Account__ssn"
   ]
  },
  {
   "cell_type": "code",
   "execution_count": 57,
   "id": "4360a781",
   "metadata": {},
   "outputs": [
    {
     "data": {
      "text/plain": [
       "<__main__.Account at 0x1f2b76ed710>"
      ]
     },
     "execution_count": 57,
     "metadata": {},
     "output_type": "execute_result"
    }
   ],
   "source": [
    "acc2"
   ]
  },
  {
   "cell_type": "code",
   "execution_count": 58,
   "id": "9eea5269",
   "metadata": {},
   "outputs": [
    {
     "name": "stdout",
     "output_type": "stream",
     "text": [
      "<__main__.Account object at 0x000001F2B76ED710>\n"
     ]
    }
   ],
   "source": [
    "print(acc2)"
   ]
  },
  {
   "cell_type": "code",
   "execution_count": 59,
   "id": "488672d9",
   "metadata": {},
   "outputs": [],
   "source": [
    "class Account:\n",
    "    def __init__(self, name, balance):\n",
    "   \n",
    "        self.name=name\n",
    "        self.balance=balance\n",
    "        self.__ssn='123-456-789' #double underscore convention \n",
    "    \n",
    "    def deposit(self, amount):\n",
    "        if amount>0:\n",
    "            self.balance+=amount\n",
    "        else:\n",
    "            raise ValueError ('Amount must be greater than 0 .')\n",
    "    \n",
    "    def withdraw(self, amount):\n",
    "        self.balance-=amount\n",
    "        \n",
    "    def __repr__(self): #magic method __repr__()\n",
    "        return f'{self.name} currently has {self.balance} in his account'\n",
    "        "
   ]
  },
  {
   "cell_type": "code",
   "execution_count": 60,
   "id": "30cec57d",
   "metadata": {},
   "outputs": [],
   "source": [
    "acc3=Account('Hamza',999999)"
   ]
  },
  {
   "cell_type": "code",
   "execution_count": 61,
   "id": "c713b21c",
   "metadata": {},
   "outputs": [
    {
     "data": {
      "text/plain": [
       "Hamza currently has 999999 in his account"
      ]
     },
     "execution_count": 61,
     "metadata": {},
     "output_type": "execute_result"
    }
   ],
   "source": [
    "acc3"
   ]
  },
  {
   "cell_type": "code",
   "execution_count": 62,
   "id": "ed8f3f2d",
   "metadata": {},
   "outputs": [
    {
     "name": "stdout",
     "output_type": "stream",
     "text": [
      "Hamza currently has 999999 in his account\n"
     ]
    }
   ],
   "source": [
    "print(acc3)"
   ]
  },
  {
   "cell_type": "code",
   "execution_count": 63,
   "id": "0e765b8a",
   "metadata": {},
   "outputs": [],
   "source": [
    "acc4=Account('Marry', 10000)"
   ]
  },
  {
   "cell_type": "code",
   "execution_count": 64,
   "id": "41a4cadb",
   "metadata": {},
   "outputs": [
    {
     "ename": "TypeError",
     "evalue": "unsupported operand type(s) for +: 'Account' and 'Account'",
     "output_type": "error",
     "traceback": [
      "\u001b[1;31m---------------------------------------------------------------------------\u001b[0m",
      "\u001b[1;31mTypeError\u001b[0m                                 Traceback (most recent call last)",
      "Cell \u001b[1;32mIn[64], line 1\u001b[0m\n\u001b[1;32m----> 1\u001b[0m acc3 \u001b[38;5;241m+\u001b[39m acc4\n",
      "\u001b[1;31mTypeError\u001b[0m: unsupported operand type(s) for +: 'Account' and 'Account'"
     ]
    }
   ],
   "source": [
    "acc3 + acc4"
   ]
  },
  {
   "cell_type": "code",
   "execution_count": 65,
   "id": "f443b911",
   "metadata": {},
   "outputs": [],
   "source": [
    "#changing default behavior of a maic method\n",
    "#operator overloading\n",
    "class Account:\n",
    "    def __init__(self, name, balance):\n",
    "   \n",
    "        self.name=name\n",
    "        self.balance=balance\n",
    "        self.__ssn='123-456-789' #double underscore convention \n",
    "    \n",
    "    def deposit(self, amount):\n",
    "        if amount>0:\n",
    "            self.balance+=amount\n",
    "        else:\n",
    "            raise ValueError ('Amount must be greater than 0 .')\n",
    "    \n",
    "    def withdraw(self, amount):\n",
    "        self.balance-=amount\n",
    "        \n",
    "    def __repr__(self):                         # magic method __repr__()\n",
    "        return f'{self.name} currently has {self.balance} in his account'\n",
    "    def __add__(self, other):                   # magic method __add__()\n",
    "        return f'{self.name} and {other.name} both have a total of {self.balance + other.balance} .'"
   ]
  },
  {
   "cell_type": "code",
   "execution_count": 66,
   "id": "4c711192",
   "metadata": {},
   "outputs": [
    {
     "data": {
      "text/plain": [
       "'Hamza and Marry both have a total of 1009999 .'"
      ]
     },
     "execution_count": 66,
     "metadata": {},
     "output_type": "execute_result"
    }
   ],
   "source": [
    "acc3=Account('Hamza',999999)\n",
    "acc4=Account('Marry', 10000)\n",
    "\n",
    "acc3 + acc4"
   ]
  },
  {
   "cell_type": "markdown",
   "id": "60bbcdb6",
   "metadata": {},
   "source": [
    "### inheritance"
   ]
  },
  {
   "cell_type": "code",
   "execution_count": 67,
   "id": "17c8bcbc",
   "metadata": {},
   "outputs": [],
   "source": [
    "class Employee:\n",
    "    def __init__(self, fname, lname):\n",
    "        self.fname=fname\n",
    "        self.lname=lname\n",
    "        self.email =fname+'.'+lname+'@myjob.com'\n",
    "        "
   ]
  },
  {
   "cell_type": "code",
   "execution_count": 68,
   "id": "2ffc4cb7",
   "metadata": {},
   "outputs": [
    {
     "data": {
      "text/plain": [
       "'Hamza.Badr@myjob.com'"
      ]
     },
     "execution_count": 68,
     "metadata": {},
     "output_type": "execute_result"
    }
   ],
   "source": [
    "emp1=Employee('Hamza', 'Badr')\n",
    "emp1.email"
   ]
  },
  {
   "cell_type": "code",
   "execution_count": 69,
   "id": "20fd7a44",
   "metadata": {},
   "outputs": [],
   "source": [
    "class Teacher(Employee):\n",
    "    pass\n",
    "    "
   ]
  },
  {
   "cell_type": "code",
   "execution_count": 70,
   "id": "67310b6d",
   "metadata": {},
   "outputs": [
    {
     "data": {
      "text/plain": [
       "'Hamza.Badr@myjob.com'"
      ]
     },
     "execution_count": 70,
     "metadata": {},
     "output_type": "execute_result"
    }
   ],
   "source": [
    "tr1=Teacher('Hamza', 'Badr')\n",
    "tr1.email"
   ]
  },
  {
   "cell_type": "code",
   "execution_count": 71,
   "id": "e919034e",
   "metadata": {},
   "outputs": [],
   "source": [
    "class Teacher(Employee):\n",
    "    def __init__(self, fname, lname):\n",
    "        super().__init__(fname, lname)\n",
    "        self.email ='t-'+fname+'.'+lname+'@myjob.com'\n",
    "        "
   ]
  },
  {
   "cell_type": "code",
   "execution_count": 72,
   "id": "b996b872",
   "metadata": {},
   "outputs": [],
   "source": [
    "tr1= Teacher('Hamza', 'Badr')"
   ]
  },
  {
   "cell_type": "code",
   "execution_count": 73,
   "id": "49c88d39",
   "metadata": {},
   "outputs": [
    {
     "data": {
      "text/plain": [
       "'t-Hamza.Badr@myjob.com'"
      ]
     },
     "execution_count": 73,
     "metadata": {},
     "output_type": "execute_result"
    }
   ],
   "source": [
    "tr1.email"
   ]
  },
  {
   "cell_type": "code",
   "execution_count": null,
   "id": "35ed4a80",
   "metadata": {},
   "outputs": [],
   "source": []
  }
 ],
 "metadata": {
  "kernelspec": {
   "display_name": "Python 3 (ipykernel)",
   "language": "python",
   "name": "python3"
  },
  "language_info": {
   "codemirror_mode": {
    "name": "ipython",
    "version": 3
   },
   "file_extension": ".py",
   "mimetype": "text/x-python",
   "name": "python",
   "nbconvert_exporter": "python",
   "pygments_lexer": "ipython3",
   "version": "3.11.5"
  }
 },
 "nbformat": 4,
 "nbformat_minor": 5
}
