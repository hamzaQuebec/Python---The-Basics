{
 "cells": [
  {
   "cell_type": "code",
   "execution_count": 1,
   "id": "1ec7eace",
   "metadata": {},
   "outputs": [
    {
     "name": "stdout",
     "output_type": "stream",
     "text": [
      "What is your name ? Hamza\n",
      "Hello Hamza !!\n"
     ]
    }
   ],
   "source": [
    "#block of code to perform a task\n",
    "\n",
    "name=input('What is your name ? ')\n",
    "print(f'Hello {name} !!')"
   ]
  },
  {
   "cell_type": "code",
   "execution_count": 2,
   "id": "615794f2",
   "metadata": {},
   "outputs": [],
   "source": [
    "#function definition \n",
    "def greeting():\n",
    "    name=input('What is your name ? ')\n",
    "    print(f'Hello {name} !!')"
   ]
  },
  {
   "cell_type": "code",
   "execution_count": 3,
   "id": "7e993a30",
   "metadata": {},
   "outputs": [
    {
     "name": "stdout",
     "output_type": "stream",
     "text": [
      "What is your name ? Hamza\n",
      "Hello Hamza !!\n"
     ]
    }
   ],
   "source": [
    "#function call\n",
    "greeting()"
   ]
  },
  {
   "cell_type": "code",
   "execution_count": 4,
   "id": "2747bbd8",
   "metadata": {},
   "outputs": [],
   "source": [
    "#passing  arguments\n",
    "def greeting(username):\n",
    "    print(f'Welcome {username.title()}')"
   ]
  },
  {
   "cell_type": "code",
   "execution_count": 5,
   "id": "210d2bc4",
   "metadata": {},
   "outputs": [
    {
     "name": "stdout",
     "output_type": "stream",
     "text": [
      "Welcome Hamza\n"
     ]
    }
   ],
   "source": [
    "greeting('hamza')"
   ]
  },
  {
   "cell_type": "code",
   "execution_count": 6,
   "id": "cd253b07",
   "metadata": {},
   "outputs": [],
   "source": [
    "#passing multiple arguments:\n",
    "def pets(owner_name, pet_name):\n",
    "    print(f'Hi {owner_name.title()}, please take care of {pet_name.title()} !!')"
   ]
  },
  {
   "cell_type": "code",
   "execution_count": 7,
   "id": "9c053938",
   "metadata": {},
   "outputs": [
    {
     "name": "stdout",
     "output_type": "stream",
     "text": [
      "Hi Hamza, please take care of Kat !!\n"
     ]
    }
   ],
   "source": [
    "pets('hamza', 'kat')"
   ]
  },
  {
   "cell_type": "code",
   "execution_count": 8,
   "id": "08e73c3b",
   "metadata": {},
   "outputs": [
    {
     "name": "stdout",
     "output_type": "stream",
     "text": [
      "Hi Hamza, please take care of Kat !!\n"
     ]
    }
   ],
   "source": [
    "#keyword arguments\n",
    "pets(owner_name='hamza', pet_name= 'KAT')"
   ]
  },
  {
   "cell_type": "code",
   "execution_count": 9,
   "id": "71a49230",
   "metadata": {},
   "outputs": [
    {
     "ename": "TypeError",
     "evalue": "pets() missing 1 required positional argument: 'pet_name'",
     "output_type": "error",
     "traceback": [
      "\u001b[1;31m---------------------------------------------------------------------------\u001b[0m",
      "\u001b[1;31mTypeError\u001b[0m                                 Traceback (most recent call last)",
      "Cell \u001b[1;32mIn[9], line 2\u001b[0m\n\u001b[0;32m      1\u001b[0m \u001b[38;5;66;03m#defaut values\u001b[39;00m\n\u001b[1;32m----> 2\u001b[0m pets(\u001b[38;5;124m'\u001b[39m\u001b[38;5;124mHamza\u001b[39m\u001b[38;5;124m'\u001b[39m)\n",
      "\u001b[1;31mTypeError\u001b[0m: pets() missing 1 required positional argument: 'pet_name'"
     ]
    }
   ],
   "source": [
    "#defaut values\n",
    "pets('Hamza') # TypeError"
   ]
  },
  {
   "cell_type": "code",
   "execution_count": 10,
   "id": "bb8f52bd",
   "metadata": {},
   "outputs": [],
   "source": [
    "def pets(owner_name, pet_name='KAT'):\n",
    "    print(f'Hi {owner_name.title()}, please take care of {pet_name.title()} !!')"
   ]
  },
  {
   "cell_type": "code",
   "execution_count": 11,
   "id": "01a6b829",
   "metadata": {},
   "outputs": [
    {
     "name": "stdout",
     "output_type": "stream",
     "text": [
      "Hi Hamza, please take care of Kat !!\n"
     ]
    }
   ],
   "source": [
    "pets('Hamza') #no error"
   ]
  },
  {
   "cell_type": "code",
   "execution_count": 12,
   "id": "2ba06a94",
   "metadata": {},
   "outputs": [],
   "source": [
    "#return values:\n",
    "def pets(owner_name='Hamza', pet_name='kat'):\n",
    "    advice= f'Hi {owner_name.title()}, please take care of {pet_name.title()} !!'\n",
    "    return advice"
   ]
  },
  {
   "cell_type": "code",
   "execution_count": 13,
   "id": "853c5ec7",
   "metadata": {},
   "outputs": [
    {
     "data": {
      "text/plain": [
       "'Hi Hamza, please take care of Kat !!'"
      ]
     },
     "execution_count": 13,
     "metadata": {},
     "output_type": "execute_result"
    }
   ],
   "source": [
    "pets()"
   ]
  },
  {
   "cell_type": "code",
   "execution_count": 14,
   "id": "0e451362",
   "metadata": {},
   "outputs": [],
   "source": [
    "def pets(owner_name='Hamza', pet_name='kat'):\n",
    "    return f'Hi {owner_name.title()}, please take care of {pet_name.title()} !!'"
   ]
  },
  {
   "cell_type": "code",
   "execution_count": 15,
   "id": "87d1b982",
   "metadata": {},
   "outputs": [
    {
     "data": {
      "text/plain": [
       "'Hi Hamza, please take care of Kat !!'"
      ]
     },
     "execution_count": 15,
     "metadata": {},
     "output_type": "execute_result"
    }
   ],
   "source": [
    "pets()"
   ]
  },
  {
   "cell_type": "code",
   "execution_count": 16,
   "id": "b7792c4d",
   "metadata": {},
   "outputs": [
    {
     "data": {
      "text/plain": [
       "function"
      ]
     },
     "execution_count": 16,
     "metadata": {},
     "output_type": "execute_result"
    }
   ],
   "source": [
    "type(pets)"
   ]
  },
  {
   "cell_type": "code",
   "execution_count": 17,
   "id": "a8b07b53",
   "metadata": {},
   "outputs": [
    {
     "data": {
      "text/plain": [
       "str"
      ]
     },
     "execution_count": 17,
     "metadata": {},
     "output_type": "execute_result"
    }
   ],
   "source": [
    "type(pets())"
   ]
  },
  {
   "cell_type": "code",
   "execution_count": 18,
   "id": "119b8dfd",
   "metadata": {},
   "outputs": [
    {
     "data": {
      "text/plain": [
       "'Hi Hamza, please take care of  !!'"
      ]
     },
     "execution_count": 18,
     "metadata": {},
     "output_type": "execute_result"
    }
   ],
   "source": [
    "#which default is considered?\n",
    "def pets(owner_name='', pet_name=''):\n",
    "    return f'Hi {owner_name.title()}, please take care of {pet_name.title()} !!'\n",
    "\n",
    "pets('Hamza')"
   ]
  },
  {
   "cell_type": "code",
   "execution_count": 19,
   "id": "6c613954",
   "metadata": {},
   "outputs": [
    {
     "data": {
      "text/plain": [
       "'Your fullname is : Hamza Jr Badr.'"
      ]
     },
     "execution_count": 19,
     "metadata": {},
     "output_type": "execute_result"
    }
   ],
   "source": [
    "#optional arguments:\n",
    "def fullname (fname ='x', mname='y', lname='z'):\n",
    "    return f'Your fullname is : {fname.title()} {mname.title()} {lname.title() }.'\n",
    "\n",
    "fullname('hamza', 'jr', 'badr')"
   ]
  },
  {
   "cell_type": "code",
   "execution_count": 20,
   "id": "f9685d90",
   "metadata": {},
   "outputs": [
    {
     "data": {
      "text/plain": [
       "'Your fullname is : Hamza Y Z.'"
      ]
     },
     "execution_count": 20,
     "metadata": {},
     "output_type": "execute_result"
    }
   ],
   "source": [
    "fullname('Hamza')"
   ]
  },
  {
   "cell_type": "code",
   "execution_count": 21,
   "id": "846aea92",
   "metadata": {},
   "outputs": [
    {
     "data": {
      "text/plain": [
       "'Your fullname is : Hamza Badr.'"
      ]
     },
     "execution_count": 21,
     "metadata": {},
     "output_type": "execute_result"
    }
   ],
   "source": [
    "#optional argument mut be defaulted and be last arg in list:\n",
    "def fullname (fname , lname, mname=''):\n",
    "    if mname:\n",
    "        full_name= f'Your fullname is : {fname.title()} {mname.title()} {lname.title() }.'\n",
    "    else:\n",
    "        full_name= f'Your fullname is : {fname.title()} {lname.title() }.'\n",
    "    return full_name\n",
    "\n",
    "fullname('hamza', 'badr')\n"
   ]
  },
  {
   "cell_type": "code",
   "execution_count": 22,
   "id": "b3c0a4e9",
   "metadata": {},
   "outputs": [
    {
     "data": {
      "text/plain": [
       "'Your fullname is : Hamza Jr Badr.'"
      ]
     },
     "execution_count": 22,
     "metadata": {},
     "output_type": "execute_result"
    }
   ],
   "source": [
    "fullname('hamza', 'badr', 'jr')"
   ]
  },
  {
   "cell_type": "code",
   "execution_count": 23,
   "id": "438059ec",
   "metadata": {},
   "outputs": [],
   "source": [
    "#python style code recommends begining the code block with a docstring \"\"\" func desc  \"\"\"\n",
    "def fullname (fname , lname, mname=''):\n",
    "    \"\"\"prints out au fullname for a given triplet firstname, middlename and lastname\n",
    "    with an optioanl parameter 'middlename'\n",
    "    \"\"\"\n",
    "    if mname:\n",
    "        full_name= f'Your fullname is : {fname.title()} {mname.title()} {lname.title() }.'\n",
    "    else:\n",
    "        full_name= f'Your fullname is : {fname.title()} {lname.title() }.'\n",
    "    return full_name"
   ]
  },
  {
   "cell_type": "code",
   "execution_count": 24,
   "id": "f5cb7990",
   "metadata": {},
   "outputs": [],
   "source": [
    "#to see signature && docstring\n",
    "fullname?"
   ]
  },
  {
   "cell_type": "code",
   "execution_count": 25,
   "id": "cbcbcf17",
   "metadata": {},
   "outputs": [],
   "source": [
    "#to see signature and code\n",
    "fullname??"
   ]
  },
  {
   "cell_type": "code",
   "execution_count": 26,
   "id": "57134412",
   "metadata": {},
   "outputs": [
    {
     "data": {
      "text/plain": [
       "4.5"
      ]
     },
     "execution_count": 26,
     "metadata": {},
     "output_type": "execute_result"
    }
   ],
   "source": [
    "#arbitrary arguments lists\n",
    "def average(*args):\n",
    "    return  sum(args)/len(args)\n",
    "average(1, 2, 3, 4, 5, 6, 7, 8, 9, 0)"
   ]
  },
  {
   "cell_type": "code",
   "execution_count": 27,
   "id": "a874ac1b",
   "metadata": {},
   "outputs": [],
   "source": [
    "#local scope vs global scope\n",
    "x=10 #global variable within this ipython script scope\n",
    "\n",
    "#functions can reference global variables\n",
    "def access_global():\n",
    "    print('x printed from acess_global : ', x)"
   ]
  },
  {
   "cell_type": "code",
   "execution_count": 28,
   "id": "2bb71aec",
   "metadata": {},
   "outputs": [
    {
     "name": "stdout",
     "output_type": "stream",
     "text": [
      "x printed from acess_global :  10\n"
     ]
    }
   ],
   "source": [
    "access_global()"
   ]
  },
  {
   "cell_type": "code",
   "execution_count": 29,
   "id": "7796e79b",
   "metadata": {},
   "outputs": [
    {
     "name": "stdout",
     "output_type": "stream",
     "text": [
      "x printed from try_to_modify_global:  3.5\n"
     ]
    }
   ],
   "source": [
    "#if a variable wasn\"t defined within a function python will look for it in the global variables\n",
    "#however, unline other languages, a function cannnot modify a global variable!\n",
    "\n",
    "def try_to_modify_global():\n",
    "    x=3.5\n",
    "    print('x printed from try_to_modify_global: ', x)\n",
    "try_to_modify_global()"
   ]
  },
  {
   "cell_type": "code",
   "execution_count": 30,
   "id": "13d4f446",
   "metadata": {},
   "outputs": [
    {
     "data": {
      "text/plain": [
       "10"
      ]
     },
     "execution_count": 30,
     "metadata": {},
     "output_type": "execute_result"
    }
   ],
   "source": [
    "x #gloab variable"
   ]
  },
  {
   "cell_type": "code",
   "execution_count": 31,
   "id": "85178dbf",
   "metadata": {},
   "outputs": [
    {
     "name": "stdout",
     "output_type": "stream",
     "text": [
      "x printed from modify_global:  hello\n"
     ]
    }
   ],
   "source": [
    "#we can resolve this by using 'global' statement\n",
    "def modify_global():\n",
    "    global x\n",
    "    x='hello'\n",
    "    print('x printed from modify_global: ', x)\n",
    "    \n",
    "    \n",
    "modify_global()"
   ]
  },
  {
   "cell_type": "code",
   "execution_count": 32,
   "id": "1b7e74db",
   "metadata": {},
   "outputs": [
    {
     "data": {
      "text/plain": [
       "'hello'"
      ]
     },
     "execution_count": 32,
     "metadata": {},
     "output_type": "execute_result"
    }
   ],
   "source": [
    "x"
   ]
  },
  {
   "cell_type": "code",
   "execution_count": 33,
   "id": "f8d277ea",
   "metadata": {},
   "outputs": [
    {
     "data": {
      "text/plain": [
       "builtin_function_or_method"
      ]
     },
     "execution_count": 33,
     "metadata": {},
     "output_type": "execute_result"
    }
   ],
   "source": [
    "# be careful of the function 'shadow' of death\n",
    "type(sum)"
   ]
  },
  {
   "cell_type": "code",
   "execution_count": 34,
   "id": "003417ac",
   "metadata": {},
   "outputs": [],
   "source": [
    "sum = 10 + 40"
   ]
  },
  {
   "cell_type": "code",
   "execution_count": 35,
   "id": "de89f8a2",
   "metadata": {},
   "outputs": [
    {
     "data": {
      "text/plain": [
       "50"
      ]
     },
     "execution_count": 35,
     "metadata": {},
     "output_type": "execute_result"
    }
   ],
   "source": [
    "sum"
   ]
  },
  {
   "cell_type": "code",
   "execution_count": 36,
   "id": "d9870be8",
   "metadata": {},
   "outputs": [
    {
     "ename": "TypeError",
     "evalue": "'int' object is not callable",
     "output_type": "error",
     "traceback": [
      "\u001b[1;31m---------------------------------------------------------------------------\u001b[0m",
      "\u001b[1;31mTypeError\u001b[0m                                 Traceback (most recent call last)",
      "Cell \u001b[1;32mIn[36], line 1\u001b[0m\n\u001b[1;32m----> 1\u001b[0m \u001b[38;5;28msum\u001b[39m([\u001b[38;5;241m10\u001b[39m, \u001b[38;5;241m40\u001b[39m])\n",
      "\u001b[1;31mTypeError\u001b[0m: 'int' object is not callable"
     ]
    }
   ],
   "source": [
    "sum([10, 40])"
   ]
  },
  {
   "cell_type": "code",
   "execution_count": 37,
   "id": "61825f5c",
   "metadata": {},
   "outputs": [
    {
     "data": {
      "text/plain": [
       "int"
      ]
     },
     "execution_count": 37,
     "metadata": {},
     "output_type": "execute_result"
    }
   ],
   "source": [
    "type(sum) #overwrite function"
   ]
  },
  {
   "cell_type": "code",
   "execution_count": 38,
   "id": "165e225e",
   "metadata": {},
   "outputs": [
    {
     "ename": "TypeError",
     "evalue": "'int' object is not callable",
     "output_type": "error",
     "traceback": [
      "\u001b[1;31m---------------------------------------------------------------------------\u001b[0m",
      "\u001b[1;31mTypeError\u001b[0m                                 Traceback (most recent call last)",
      "Cell \u001b[1;32mIn[38], line 1\u001b[0m\n\u001b[1;32m----> 1\u001b[0m \u001b[38;5;28msum\u001b[39m(\u001b[38;5;241m10\u001b[39m, \u001b[38;5;241m40\u001b[39m)\n",
      "\u001b[1;31mTypeError\u001b[0m: 'int' object is not callable"
     ]
    }
   ],
   "source": [
    "sum(10, 40)"
   ]
  },
  {
   "cell_type": "code",
   "execution_count": 39,
   "id": "78c29bf2",
   "metadata": {},
   "outputs": [],
   "source": [
    "#are parameters passed by value id or reference"
   ]
  },
  {
   "cell_type": "code",
   "execution_count": 40,
   "id": "825393df",
   "metadata": {},
   "outputs": [],
   "source": [
    "x=13"
   ]
  },
  {
   "cell_type": "code",
   "execution_count": 41,
   "id": "5ce045c2",
   "metadata": {},
   "outputs": [
    {
     "data": {
      "text/plain": [
       "140704558257320"
      ]
     },
     "execution_count": 41,
     "metadata": {},
     "output_type": "execute_result"
    }
   ],
   "source": [
    "id(x)"
   ]
  },
  {
   "cell_type": "code",
   "execution_count": 42,
   "id": "3b87133b",
   "metadata": {},
   "outputs": [],
   "source": [
    "def cube(number):\n",
    "    print('id(number)', id(number))\n",
    "    return number**3"
   ]
  },
  {
   "cell_type": "code",
   "execution_count": 43,
   "id": "37ef7258",
   "metadata": {},
   "outputs": [
    {
     "name": "stdout",
     "output_type": "stream",
     "text": [
      "id(number) 140704558257320\n"
     ]
    },
    {
     "data": {
      "text/plain": [
       "2197"
      ]
     },
     "execution_count": 43,
     "metadata": {},
     "output_type": "execute_result"
    }
   ],
   "source": [
    "cube(x)"
   ]
  },
  {
   "cell_type": "code",
   "execution_count": 44,
   "id": "0be21e6a",
   "metadata": {},
   "outputs": [
    {
     "name": "stdout",
     "output_type": "stream",
     "text": [
      "id(number) 140704558257320\n"
     ]
    },
    {
     "data": {
      "text/plain": [
       "2197"
      ]
     },
     "execution_count": 44,
     "metadata": {},
     "output_type": "execute_result"
    }
   ],
   "source": [
    "cube(13)"
   ]
  },
  {
   "cell_type": "code",
   "execution_count": 45,
   "id": "467b1f30",
   "metadata": {},
   "outputs": [],
   "source": [
    "#what about immutable objects?\n",
    "def cube(number):\n",
    "    print('id(number) before modifying number:', id(number))\n",
    "    number**=3\n",
    "    print('id(number) after modifying number:', id(number))\n",
    "    return number"
   ]
  },
  {
   "cell_type": "code",
   "execution_count": 46,
   "id": "14910532",
   "metadata": {},
   "outputs": [
    {
     "name": "stdout",
     "output_type": "stream",
     "text": [
      "id(number) before modifying number: 140704558257320\n",
      "id(number) after modifying number: 1982526509808\n"
     ]
    },
    {
     "data": {
      "text/plain": [
       "2197"
      ]
     },
     "execution_count": 46,
     "metadata": {},
     "output_type": "execute_result"
    }
   ],
   "source": [
    "cube(x)"
   ]
  },
  {
   "cell_type": "code",
   "execution_count": 47,
   "id": "e8f46dfa",
   "metadata": {},
   "outputs": [
    {
     "data": {
      "text/plain": [
       "<map at 0x1cd970da3b0>"
      ]
     },
     "execution_count": 47,
     "metadata": {},
     "output_type": "execute_result"
    }
   ],
   "source": [
    "#map() function\n",
    "\n",
    "def cuber(x):\n",
    "    return x**3\n",
    "my_list=[2, 3, 4, 5]\n",
    "\n",
    "result=map(cuber, my_list)\n",
    "result"
   ]
  },
  {
   "cell_type": "code",
   "execution_count": 48,
   "id": "4b89165d",
   "metadata": {},
   "outputs": [
    {
     "data": {
      "text/plain": [
       "map"
      ]
     },
     "execution_count": 48,
     "metadata": {},
     "output_type": "execute_result"
    }
   ],
   "source": [
    "type(result)"
   ]
  },
  {
   "cell_type": "code",
   "execution_count": 49,
   "id": "e6d38b4b",
   "metadata": {},
   "outputs": [
    {
     "data": {
      "text/plain": [
       "[8, 27, 64, 125]"
      ]
     },
     "execution_count": 49,
     "metadata": {},
     "output_type": "execute_result"
    }
   ],
   "source": [
    "list(result)"
   ]
  },
  {
   "cell_type": "code",
   "execution_count": 50,
   "id": "81bc8f6d",
   "metadata": {},
   "outputs": [
    {
     "data": {
      "text/plain": [
       "[8, 27, 64, 125]"
      ]
     },
     "execution_count": 50,
     "metadata": {},
     "output_type": "execute_result"
    }
   ],
   "source": [
    "#map() function equivalent to :\n",
    "result=[]\n",
    "for item in my_list:\n",
    "    result.append(cuber(item))\n",
    "result"
   ]
  },
  {
   "cell_type": "code",
   "execution_count": 51,
   "id": "8dbc8855",
   "metadata": {},
   "outputs": [
    {
     "data": {
      "text/plain": [
       "<function __main__.<lambda>(a)>"
      ]
     },
     "execution_count": 51,
     "metadata": {},
     "output_type": "execute_result"
    }
   ],
   "source": [
    "#anonymous functions = lambda expressions\n",
    "#lambda  <arguments> : <expression>\n",
    "lambda a: a+10"
   ]
  },
  {
   "cell_type": "code",
   "execution_count": 52,
   "id": "a1f1b333",
   "metadata": {},
   "outputs": [
    {
     "data": {
      "text/plain": [
       "16"
      ]
     },
     "execution_count": 52,
     "metadata": {},
     "output_type": "execute_result"
    }
   ],
   "source": [
    "#lambda a, b, ...,n : <expression>\n",
    "#any number of arguments\n",
    "#the <expression> is the return value\n",
    "#all must be in single line\n",
    "\n",
    "f = lambda x: x**2 #lambda name is f and it takes one arg 'x' and it squares it\n",
    "f(4)"
   ]
  },
  {
   "cell_type": "code",
   "execution_count": 53,
   "id": "c2159c3e",
   "metadata": {},
   "outputs": [
    {
     "data": {
      "text/plain": [
       "724"
      ]
     },
     "execution_count": 53,
     "metadata": {},
     "output_type": "execute_result"
    }
   ],
   "source": [
    "f= lambda x, y :3 *(x ** 3) +4 - 5 *y #lambda can also take multiple args\n",
    "f(10, 456)"
   ]
  },
  {
   "cell_type": "code",
   "execution_count": 54,
   "id": "6b9f649e",
   "metadata": {},
   "outputs": [
    {
     "data": {
      "text/plain": [
       "[8, 27, 64, 125]"
      ]
     },
     "execution_count": 54,
     "metadata": {},
     "output_type": "execute_result"
    }
   ],
   "source": [
    "# def cuber(x):\n",
    "#     return x**3\n",
    "my_list=[2, 3, 4, 5]\n",
    "\n",
    "# result=map(cuber, my_list)\n",
    "# result\n",
    "\n",
    "result = list(map(lambda x: x**3, my_list))\n",
    "result"
   ]
  },
  {
   "cell_type": "code",
   "execution_count": 55,
   "id": "67552c93",
   "metadata": {},
   "outputs": [
    {
     "data": {
      "text/plain": [
       "['Badr', 'John', 'Lisa', 'Hamza']"
      ]
     },
     "execution_count": 55,
     "metadata": {},
     "output_type": "execute_result"
    }
   ],
   "source": [
    "the_greats=['Hamza', 'Badr', 'John', 'Lisa']\n",
    "the_greats.sort(key=len)\n",
    "the_greats"
   ]
  },
  {
   "cell_type": "code",
   "execution_count": 56,
   "id": "2c3b26db",
   "metadata": {},
   "outputs": [],
   "source": [
    "the_greats.sort(key = lambda item:  list(item)[0]) "
   ]
  },
  {
   "cell_type": "code",
   "execution_count": 57,
   "id": "1fa7cc1c",
   "metadata": {},
   "outputs": [
    {
     "data": {
      "text/plain": [
       "['Badr', 'Hamza', 'John', 'Lisa']"
      ]
     },
     "execution_count": 57,
     "metadata": {},
     "output_type": "execute_result"
    }
   ],
   "source": [
    "the_greats"
   ]
  },
  {
   "cell_type": "code",
   "execution_count": 58,
   "id": "cbc3a842",
   "metadata": {},
   "outputs": [
    {
     "name": "stdout",
     "output_type": "stream",
     "text": [
      "<class 'function'>\n",
      "22\n"
     ]
    }
   ],
   "source": [
    "#one level deeper\n",
    "def myfunc(n):\n",
    "    return lambda a : a * n\n",
    "\n",
    "mydoubler = myfunc(2)\n",
    "print(type(mydoubler))\n",
    "\n",
    "print(mydoubler(11))"
   ]
  },
  {
   "cell_type": "code",
   "execution_count": 59,
   "id": "dbfde5f0",
   "metadata": {},
   "outputs": [
    {
     "data": {
      "text/plain": [
       "9"
      ]
     },
     "execution_count": 59,
     "metadata": {},
     "output_type": "execute_result"
    }
   ],
   "source": [
    "#remember this\n",
    "#lambda x, y: 3*(x**2)+2*y-5\n",
    "\n",
    "def quadratic(a, b, c):\n",
    "    return lambda x: a * (x ** 2) + b * x - c\n",
    "f = quadratic(2, 3, 5)\n",
    "f(2)"
   ]
  },
  {
   "cell_type": "code",
   "execution_count": 60,
   "id": "90525519",
   "metadata": {},
   "outputs": [
    {
     "data": {
      "text/plain": [
       "9"
      ]
     },
     "execution_count": 60,
     "metadata": {},
     "output_type": "execute_result"
    }
   ],
   "source": [
    "def quadratic(a, b, c):\n",
    "    return lambda x: a * (x ** 2) + b * x - c\n",
    "\n",
    "quadratic(2, 3, 5)(2) #same as but not readable"
   ]
  },
  {
   "cell_type": "code",
   "execution_count": null,
   "id": "c44feacc",
   "metadata": {},
   "outputs": [],
   "source": []
  }
 ],
 "metadata": {
  "kernelspec": {
   "display_name": "Python 3 (ipykernel)",
   "language": "python",
   "name": "python3"
  },
  "language_info": {
   "codemirror_mode": {
    "name": "ipython",
    "version": 3
   },
   "file_extension": ".py",
   "mimetype": "text/x-python",
   "name": "python",
   "nbconvert_exporter": "python",
   "pygments_lexer": "ipython3",
   "version": "3.11.5"
  }
 },
 "nbformat": 4,
 "nbformat_minor": 5
}
