{
 "cells": [
  {
   "cell_type": "code",
   "execution_count": 1,
   "id": "f576a29c",
   "metadata": {},
   "outputs": [
    {
     "data": {
      "text/plain": [
       "'Le Lorem Ipsum est simplement du faux texte employé dans la composition et la mise en page avant impression Le Lorem Ipsum est le faux texte standard de l imprimerie depuis les années 1500On sait depuis longtemps que travailler avec du texte lisible et contenant du sens est source de distractions et empêche de se concentrer sur la mise en page elle-même'"
      ]
     },
     "execution_count": 1,
     "metadata": {},
     "output_type": "execute_result"
    }
   ],
   "source": [
    "lorem =\"Le Lorem Ipsum est simplement du faux texte employé dans la composition et la mise en page avant impression Le Lorem Ipsum est le faux texte standard de l imprimerie depuis les années 1500On sait depuis longtemps que travailler avec du texte lisible et contenant du sens est source de distractions et empêche de se concentrer sur la mise en page elle-même\"\n",
    "lorem"
   ]
  },
  {
   "cell_type": "code",
   "execution_count": 2,
   "id": "42623cea",
   "metadata": {},
   "outputs": [
    {
     "data": {
      "text/plain": [
       "['Le',\n",
       " 'Lorem',\n",
       " 'Ipsum',\n",
       " 'est',\n",
       " 'simplement',\n",
       " 'du',\n",
       " 'faux',\n",
       " 'texte',\n",
       " 'employé',\n",
       " 'dans',\n",
       " 'la',\n",
       " 'composition',\n",
       " 'et',\n",
       " 'la',\n",
       " 'mise',\n",
       " 'en',\n",
       " 'page',\n",
       " 'avant',\n",
       " 'impression',\n",
       " 'Le',\n",
       " 'Lorem',\n",
       " 'Ipsum',\n",
       " 'est',\n",
       " 'le',\n",
       " 'faux',\n",
       " 'texte',\n",
       " 'standard',\n",
       " 'de',\n",
       " 'l',\n",
       " 'imprimerie',\n",
       " 'depuis',\n",
       " 'les',\n",
       " 'années',\n",
       " '1500On',\n",
       " 'sait',\n",
       " 'depuis',\n",
       " 'longtemps',\n",
       " 'que',\n",
       " 'travailler',\n",
       " 'avec',\n",
       " 'du',\n",
       " 'texte',\n",
       " 'lisible',\n",
       " 'et',\n",
       " 'contenant',\n",
       " 'du',\n",
       " 'sens',\n",
       " 'est',\n",
       " 'source',\n",
       " 'de',\n",
       " 'distractions',\n",
       " 'et',\n",
       " 'empêche',\n",
       " 'de',\n",
       " 'se',\n",
       " 'concentrer',\n",
       " 'sur',\n",
       " 'la',\n",
       " 'mise',\n",
       " 'en',\n",
       " 'page',\n",
       " 'elle-même']"
      ]
     },
     "execution_count": 2,
     "metadata": {},
     "output_type": "execute_result"
    }
   ],
   "source": [
    "lorem.split()"
   ]
  },
  {
   "cell_type": "code",
   "execution_count": 3,
   "id": "7ae6b3ed",
   "metadata": {},
   "outputs": [
    {
     "data": {
      "text/plain": [
       "62"
      ]
     },
     "execution_count": 3,
     "metadata": {},
     "output_type": "execute_result"
    }
   ],
   "source": [
    "len(lorem.split())"
   ]
  },
  {
   "cell_type": "code",
   "execution_count": 4,
   "id": "0d15d0b3",
   "metadata": {},
   "outputs": [
    {
     "data": {
      "text/plain": [
       "{'Le': 2,\n",
       " 'Lorem': 2,\n",
       " 'Ipsum': 2,\n",
       " 'est': 3,\n",
       " 'simplement': 1,\n",
       " 'du': 3,\n",
       " 'faux': 2,\n",
       " 'texte': 3,\n",
       " 'employé': 1,\n",
       " 'dans': 1,\n",
       " 'la': 3,\n",
       " 'composition': 1,\n",
       " 'et': 3,\n",
       " 'mise': 2,\n",
       " 'en': 2,\n",
       " 'page': 2,\n",
       " 'avant': 1,\n",
       " 'impression': 1,\n",
       " 'le': 1,\n",
       " 'standard': 1,\n",
       " 'de': 3,\n",
       " 'l': 1,\n",
       " 'imprimerie': 1,\n",
       " 'depuis': 2,\n",
       " 'les': 1,\n",
       " 'années': 1,\n",
       " '1500On': 1,\n",
       " 'sait': 1,\n",
       " 'longtemps': 1,\n",
       " 'que': 1,\n",
       " 'travailler': 1,\n",
       " 'avec': 1,\n",
       " 'lisible': 1,\n",
       " 'contenant': 1,\n",
       " 'sens': 1,\n",
       " 'source': 1,\n",
       " 'distractions': 1,\n",
       " 'empêche': 1,\n",
       " 'se': 1,\n",
       " 'concentrer': 1,\n",
       " 'sur': 1,\n",
       " 'elle-même': 1}"
      ]
     },
     "execution_count": 4,
     "metadata": {},
     "output_type": "execute_result"
    }
   ],
   "source": [
    "word_counts={}\n",
    "for word in lorem.split():\n",
    "    if word in word_counts:\n",
    "        word_counts[word] +=1\n",
    "    else:\n",
    "        word_counts[word]=1\n",
    "word_counts"
   ]
  },
  {
   "cell_type": "code",
   "execution_count": 5,
   "id": "d006193a",
   "metadata": {},
   "outputs": [
    {
     "name": "stdout",
     "output_type": "stream",
     "text": [
      "1500On         : 1 \n",
      "Ipsum          : 2 \n",
      "Le             : 2 \n",
      "Lorem          : 2 \n",
      "années         : 1 \n",
      "avant          : 1 \n",
      "avec           : 1 \n",
      "composition    : 1 \n",
      "concentrer     : 1 \n",
      "contenant      : 1 \n",
      "dans           : 1 \n",
      "de             : 3 \n",
      "depuis         : 2 \n",
      "distractions   : 1 \n",
      "du             : 3 \n",
      "elle-même      : 1 \n",
      "employé        : 1 \n",
      "empêche        : 1 \n",
      "en             : 2 \n",
      "est            : 3 \n",
      "et             : 3 \n",
      "faux           : 2 \n",
      "impression     : 1 \n",
      "imprimerie     : 1 \n",
      "l              : 1 \n",
      "la             : 3 \n",
      "le             : 1 \n",
      "les            : 1 \n",
      "lisible        : 1 \n",
      "longtemps      : 1 \n",
      "mise           : 2 \n",
      "page           : 2 \n",
      "que            : 1 \n",
      "sait           : 1 \n",
      "se             : 1 \n",
      "sens           : 1 \n",
      "simplement     : 1 \n",
      "source         : 1 \n",
      "standard       : 1 \n",
      "sur            : 1 \n",
      "texte          : 3 \n",
      "travailler     : 1 \n"
     ]
    }
   ],
   "source": [
    "for word, count in sorted(word_counts.items()):\n",
    "    print (f'{word:<12}   : {count} ')"
   ]
  },
  {
   "cell_type": "code",
   "execution_count": 7,
   "id": "32ed9129",
   "metadata": {},
   "outputs": [
    {
     "name": "stdout",
     "output_type": "stream",
     "text": [
      "42\n"
     ]
    }
   ],
   "source": [
    "print(len(word_counts.values())) #unique words"
   ]
  },
  {
   "cell_type": "markdown",
   "id": "c836e758",
   "metadata": {},
   "source": [
    "### Python Standard Library Module collections"
   ]
  },
  {
   "cell_type": "code",
   "execution_count": 9,
   "id": "99d4a008",
   "metadata": {},
   "outputs": [],
   "source": [
    "from collections import Counter"
   ]
  },
  {
   "cell_type": "code",
   "execution_count": 10,
   "id": "48056a61",
   "metadata": {},
   "outputs": [
    {
     "data": {
      "text/plain": [
       "'Le Lorem Ipsum est simplement du faux texte employé dans la composition et la mise en page avant impression Le Lorem Ipsum est le faux texte standard de l imprimerie depuis les années 1500On sait depuis longtemps que travailler avec du texte lisible et contenant du sens est source de distractions et empêche de se concentrer sur la mise en page elle-même'"
      ]
     },
     "execution_count": 10,
     "metadata": {},
     "output_type": "execute_result"
    }
   ],
   "source": [
    "lorem"
   ]
  },
  {
   "cell_type": "code",
   "execution_count": 11,
   "id": "9f96f66d",
   "metadata": {},
   "outputs": [
    {
     "name": "stdout",
     "output_type": "stream",
     "text": [
      "<class 'list'>\n"
     ]
    }
   ],
   "source": [
    "print(type(lorem.split()))"
   ]
  },
  {
   "cell_type": "code",
   "execution_count": 13,
   "id": "ec1c9531",
   "metadata": {},
   "outputs": [
    {
     "data": {
      "text/plain": [
       "Counter({'est': 3,\n",
       "         'du': 3,\n",
       "         'texte': 3,\n",
       "         'la': 3,\n",
       "         'et': 3,\n",
       "         'de': 3,\n",
       "         'Le': 2,\n",
       "         'Lorem': 2,\n",
       "         'Ipsum': 2,\n",
       "         'faux': 2,\n",
       "         'mise': 2,\n",
       "         'en': 2,\n",
       "         'page': 2,\n",
       "         'depuis': 2,\n",
       "         'simplement': 1,\n",
       "         'employé': 1,\n",
       "         'dans': 1,\n",
       "         'composition': 1,\n",
       "         'avant': 1,\n",
       "         'impression': 1,\n",
       "         'le': 1,\n",
       "         'standard': 1,\n",
       "         'l': 1,\n",
       "         'imprimerie': 1,\n",
       "         'les': 1,\n",
       "         'années': 1,\n",
       "         '1500On': 1,\n",
       "         'sait': 1,\n",
       "         'longtemps': 1,\n",
       "         'que': 1,\n",
       "         'travailler': 1,\n",
       "         'avec': 1,\n",
       "         'lisible': 1,\n",
       "         'contenant': 1,\n",
       "         'sens': 1,\n",
       "         'source': 1,\n",
       "         'distractions': 1,\n",
       "         'empêche': 1,\n",
       "         'se': 1,\n",
       "         'concentrer': 1,\n",
       "         'sur': 1,\n",
       "         'elle-même': 1})"
      ]
     },
     "execution_count": 13,
     "metadata": {},
     "output_type": "execute_result"
    }
   ],
   "source": [
    "counter=Counter(lorem.split())\n",
    "counter"
   ]
  },
  {
   "cell_type": "code",
   "execution_count": 14,
   "id": "6fb9727a",
   "metadata": {},
   "outputs": [
    {
     "name": "stdout",
     "output_type": "stream",
     "text": [
      "1500On         : 1 \n",
      "Ipsum          : 2 \n",
      "Le             : 2 \n",
      "Lorem          : 2 \n",
      "années         : 1 \n",
      "avant          : 1 \n",
      "avec           : 1 \n",
      "composition    : 1 \n",
      "concentrer     : 1 \n",
      "contenant      : 1 \n",
      "dans           : 1 \n",
      "de             : 3 \n",
      "depuis         : 2 \n",
      "distractions   : 1 \n",
      "du             : 3 \n",
      "elle-même      : 1 \n",
      "employé        : 1 \n",
      "empêche        : 1 \n",
      "en             : 2 \n",
      "est            : 3 \n",
      "et             : 3 \n",
      "faux           : 2 \n",
      "impression     : 1 \n",
      "imprimerie     : 1 \n",
      "l              : 1 \n",
      "la             : 3 \n",
      "le             : 1 \n",
      "les            : 1 \n",
      "lisible        : 1 \n",
      "longtemps      : 1 \n",
      "mise           : 2 \n",
      "page           : 2 \n",
      "que            : 1 \n",
      "sait           : 1 \n",
      "se             : 1 \n",
      "sens           : 1 \n",
      "simplement     : 1 \n",
      "source         : 1 \n",
      "standard       : 1 \n",
      "sur            : 1 \n",
      "texte          : 3 \n",
      "travailler     : 1 \n"
     ]
    }
   ],
   "source": [
    "for word, count in sorted(counter.items()):\n",
    "    print (f'{word:<12}   : {count} ')"
   ]
  },
  {
   "cell_type": "code",
   "execution_count": 16,
   "id": "479619b6",
   "metadata": {},
   "outputs": [
    {
     "name": "stdout",
     "output_type": "stream",
     "text": [
      "Number of unique keys :  42\n"
     ]
    }
   ],
   "source": [
    "print('Number of unique keys : ', len(counter.keys()))"
   ]
  },
  {
   "cell_type": "code",
   "execution_count": null,
   "id": "726212e4",
   "metadata": {},
   "outputs": [],
   "source": []
  }
 ],
 "metadata": {
  "kernelspec": {
   "display_name": "Python 3 (ipykernel)",
   "language": "python",
   "name": "python3"
  },
  "language_info": {
   "codemirror_mode": {
    "name": "ipython",
    "version": 3
   },
   "file_extension": ".py",
   "mimetype": "text/x-python",
   "name": "python",
   "nbconvert_exporter": "python",
   "pygments_lexer": "ipython3",
   "version": "3.11.5"
  }
 },
 "nbformat": 4,
 "nbformat_minor": 5
}
