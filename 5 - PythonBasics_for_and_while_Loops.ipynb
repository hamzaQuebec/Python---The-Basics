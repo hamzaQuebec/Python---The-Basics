{
 "cells": [
  {
   "cell_type": "markdown",
   "id": "71194c13",
   "metadata": {},
   "source": [
    "### while statement"
   ]
  },
  {
   "cell_type": "code",
   "execution_count": 1,
   "id": "c2394857",
   "metadata": {},
   "outputs": [],
   "source": [
    "#cont. if statement logic\n",
    "#while True:\n",
    "#     < do something then repeat UNTIL condition is False>"
   ]
  },
  {
   "cell_type": "code",
   "execution_count": 2,
   "id": "c82aeab1",
   "metadata": {},
   "outputs": [
    {
     "data": {
      "text/plain": [
       "4"
      ]
     },
     "execution_count": 2,
     "metadata": {},
     "output_type": "execute_result"
    }
   ],
   "source": [
    "counter=1\n",
    "if counter<90:\n",
    "\n",
    "    counter +=3\n",
    "\n",
    "counter"
   ]
  },
  {
   "cell_type": "code",
   "execution_count": 3,
   "id": "1fa6e640",
   "metadata": {},
   "outputs": [
    {
     "data": {
      "text/plain": [
       "91"
      ]
     },
     "execution_count": 3,
     "metadata": {},
     "output_type": "execute_result"
    }
   ],
   "source": [
    "counter=1\n",
    "while counter<90:\n",
    "    counter +=3\n",
    "\n",
    "counter"
   ]
  },
  {
   "cell_type": "code",
   "execution_count": 4,
   "id": "e563feb6",
   "metadata": {},
   "outputs": [
    {
     "name": "stdout",
     "output_type": "stream",
     "text": [
      "1-->3 || 3-->9 || 9-->27 || 27-->81 || 81-->243 || "
     ]
    }
   ],
   "source": [
    "counter=1\n",
    "while counter<90:\n",
    "    print(counter, end='-->')\n",
    "    counter *=3\n",
    "    print(counter, end=' || ')\n",
    "\n",
    "#counter"
   ]
  },
  {
   "cell_type": "code",
   "execution_count": 5,
   "id": "e4a0705b",
   "metadata": {},
   "outputs": [
    {
     "name": "stdout",
     "output_type": "stream",
     "text": [
      "tacos\n",
      "pizza\n",
      "spagh\n",
      "couscous\n",
      "falafel\n",
      "---\n",
      " FINI!\n"
     ]
    }
   ],
   "source": [
    "my_list=['falafel', 'couscous', 'spagh', 'pizza', 'tacos']\n",
    "while len(my_list)>0:\n",
    "    print(my_list[-1])\n",
    "    my_list.pop()\n",
    "print('---\\n FINI!')"
   ]
  },
  {
   "cell_type": "code",
   "execution_count": 6,
   "id": "5ef8589d",
   "metadata": {},
   "outputs": [
    {
     "name": "stdout",
     "output_type": "stream",
     "text": [
      "Type an integer:56\n",
      "Finally! the square root of the number you entred is 7.48331\n"
     ]
    }
   ],
   "source": [
    "#combine while and if:\n",
    "#why use a break statement?\n",
    "\n",
    "retries=1\n",
    "while retries <=3:\n",
    "    user_input = input('Type an integer:')\n",
    "    if not user_input.isdigit():\n",
    "        retries += 1\n",
    "    else:\n",
    "        print(\n",
    "              f'Finally! the square root of the number you entred is {int(user_input)**(1/2):.5f}'\n",
    "              )\n",
    "        break\n",
    "if retries > 2:\n",
    "    print(\"It's OK!\")"
   ]
  },
  {
   "cell_type": "markdown",
   "id": "00058e22",
   "metadata": {},
   "source": [
    "### for statement"
   ]
  },
  {
   "cell_type": "code",
   "execution_count": 7,
   "id": "77fe1749",
   "metadata": {},
   "outputs": [
    {
     "name": "stdout",
     "output_type": "stream",
     "text": [
      "--- falafel ---- \n",
      "\n",
      "--- couscous ---- \n",
      "\n",
      "--- spagh ---- \n",
      "\n",
      "--- pizza ---- \n",
      "\n",
      "--- tacos ---- \n",
      "\n"
     ]
    }
   ],
   "source": [
    "food_list=['falafel', 'couscous', 'spagh', 'pizza', 'tacos']\n",
    "\n",
    "for food in food_list: \n",
    "    print(f'--- {food} ---- \\n')"
   ]
  },
  {
   "cell_type": "code",
   "execution_count": 8,
   "id": "15a92f5d",
   "metadata": {},
   "outputs": [
    {
     "name": "stdout",
     "output_type": "stream",
     "text": [
      "T\n",
      "H\n",
      "I\n",
      "S\n",
      " \n",
      "I\n",
      "S\n",
      " \n",
      "S\n",
      "T\n",
      "R\n",
      "I\n",
      "N\n",
      "G\n"
     ]
    }
   ],
   "source": [
    "some_text ='This is string'\n",
    "for letter in some_text:\n",
    "    print(letter.upper())"
   ]
  },
  {
   "cell_type": "code",
   "execution_count": 9,
   "id": "9be500af",
   "metadata": {},
   "outputs": [
    {
     "name": "stdout",
     "output_type": "stream",
     "text": [
      "--- couscous ---- \n",
      "--- falafel ---- \n",
      "--- tacos ---- \n",
      "--- spagh ---- \n",
      "--- pizza ---- \n",
      "__________\n",
      "--- falafel ---- \n",
      "--- couscous ---- \n",
      "--- spagh ---- \n",
      "--- pizza ---- \n",
      "--- tacos ---- \n"
     ]
    }
   ],
   "source": [
    "food_set={'falafel', 'couscous', 'spagh', 'pizza', 'tacos'}\n",
    "food_tuple=('falafel', 'couscous', 'spagh', 'pizza', 'tacos')\n",
    "food_dict={'1':'falafel', \n",
    "           '2':'couscous', \n",
    "           '3':'spagh', \n",
    "           '4':'pizza', \n",
    "           '5':'tacos'}\n",
    "\n",
    "for food in food_set: \n",
    "    print(f'--- {food} ---- ')\n",
    "print('__________')\n",
    "\n",
    "for food in food_tuple: \n",
    "    print(f'--- {food} ---- ')"
   ]
  },
  {
   "cell_type": "code",
   "execution_count": 10,
   "id": "15f0cbee",
   "metadata": {},
   "outputs": [
    {
     "name": "stdout",
     "output_type": "stream",
     "text": [
      "0 falafel\n",
      "1 couscous\n",
      "2 spagh\n",
      "3 pizza\n",
      "4 tacos\n"
     ]
    }
   ],
   "source": [
    "for index, food in enumerate(food_tuple):\n",
    "    print(index, food)"
   ]
  },
  {
   "cell_type": "code",
   "execution_count": 11,
   "id": "429d9540",
   "metadata": {},
   "outputs": [
    {
     "name": "stdout",
     "output_type": "stream",
     "text": [
      "falafel\n",
      "couscous\n",
      "spagh\n",
      "pizza\n",
      "tacos\n"
     ]
    }
   ],
   "source": [
    "for food in enumerate(food_dict.values()):\n",
    "    print(food[1])"
   ]
  },
  {
   "cell_type": "code",
   "execution_count": 12,
   "id": "91604d05",
   "metadata": {},
   "outputs": [
    {
     "name": "stdout",
     "output_type": "stream",
     "text": [
      "1 falafel\n",
      "2 couscous\n",
      "3 spagh\n",
      "4 pizza\n",
      "5 tacos\n"
     ]
    }
   ],
   "source": [
    "for counter, (index, food) in enumerate( food_dict.items()): \n",
    "    print(index, food)"
   ]
  },
  {
   "cell_type": "code",
   "execution_count": 13,
   "id": "97f129d2",
   "metadata": {},
   "outputs": [
    {
     "name": "stdout",
     "output_type": "stream",
     "text": [
      "1 is odd!\n",
      "2 is even!\n",
      "3 is odd!\n",
      "4 is even!\n",
      "5 is odd!\n",
      "6 is even!\n",
      "7 is odd!\n",
      "8 is even!\n",
      "9 is odd!\n",
      "10 is even!\n",
      "11 is odd!\n",
      "12 is even!\n",
      "13 is odd!\n",
      "14 is even!\n",
      "15 is odd!\n",
      "16 is even!\n",
      "17 is odd!\n",
      "18 is even!\n",
      "19 is odd!\n",
      "20 is even!\n",
      "21 is odd!\n"
     ]
    }
   ],
   "source": [
    "# range()\n",
    "\n",
    "for counter in range(1, 22):\n",
    "    if counter % 2!=0:\n",
    "        print(f'{counter} is odd!')\n",
    "    else:\n",
    "        print(f'{counter} is even!')"
   ]
  },
  {
   "cell_type": "code",
   "execution_count": 14,
   "id": "73eb2ecf",
   "metadata": {},
   "outputs": [
    {
     "name": "stdout",
     "output_type": "stream",
     "text": [
      "falafel\n",
      "couscous\n",
      "spagh\n",
      "Bingo :)\n"
     ]
    }
   ],
   "source": [
    "#break statement:\n",
    "food_list=['falafel', 'couscous', 'spagh', 'pizza', 'tacos']\n",
    "for food in food_list:\n",
    "    if food =='pizza':\n",
    "        print('Bingo :)')\n",
    "        break\n",
    "    print(food)"
   ]
  },
  {
   "cell_type": "code",
   "execution_count": 15,
   "id": "4dc36616",
   "metadata": {},
   "outputs": [
    {
     "name": "stdout",
     "output_type": "stream",
     "text": [
      "2 is a prime number\n",
      "3 is a prime number\n",
      "4 equals 2 * 2\n",
      "5 is a prime number\n",
      "6 equals 2 * 3\n",
      "7 is a prime number\n",
      "8 equals 2 * 4\n",
      "9 equals 3 * 3\n"
     ]
    }
   ],
   "source": [
    "#nested for whit if\n",
    "#prime number\n",
    "\n",
    "for n in range(2, 10):\n",
    "    for x in range(2, n):\n",
    "        if n % x == 0:\n",
    "            print(n, 'equals', x, '*' , n // x)\n",
    "            break\n",
    "    else:\n",
    "        #loop fell through without finding a factor\n",
    "        print(n, 'is a prime number')"
   ]
  },
  {
   "cell_type": "code",
   "execution_count": 16,
   "id": "20c01be8",
   "metadata": {},
   "outputs": [
    {
     "name": "stdout",
     "output_type": "stream",
     "text": [
      "1 is odd!\n",
      "2 is even!\n",
      "3 is odd!\n",
      "4 is even!\n",
      "5 is odd!\n",
      "6 is even!\n",
      "7 is odd!\n",
      "8 is even!\n",
      "9 is odd!\n",
      "10 is even!\n",
      "11 is odd!\n",
      "12 is even!\n",
      "13 is odd!\n",
      "14 is even!\n",
      "15 is odd!\n",
      "16 is even!\n",
      "17 is odd!\n",
      "18 is even!\n",
      "19 is odd!\n",
      "20 is even!\n",
      "21 is odd!\n"
     ]
    }
   ],
   "source": [
    "# range()\n",
    "\n",
    "for counter in range(1, 22):\n",
    "    if counter % 2==0:\n",
    "        print(f'{counter} is even!')\n",
    "        continue\n",
    "\n",
    "    print(f'{counter} is odd!')"
   ]
  },
  {
   "cell_type": "code",
   "execution_count": 17,
   "id": "3e2ec372",
   "metadata": {},
   "outputs": [
    {
     "name": "stdout",
     "output_type": "stream",
     "text": [
      "T\n",
      "h\n",
      "s\n",
      " \n",
      "s\n",
      " \n",
      "a\n",
      " \n",
      "s\n",
      "m\n",
      "p\n",
      "l\n",
      "e\n",
      " \n",
      "s\n",
      "t\n",
      "r\n",
      "n\n",
      "g\n"
     ]
    }
   ],
   "source": [
    "for letter in 'This is a simple string':\n",
    "    if letter == 'i':\n",
    "        continue\n",
    "    print(letter)"
   ]
  },
  {
   "cell_type": "code",
   "execution_count": 18,
   "id": "3cbb22c5",
   "metadata": {},
   "outputs": [
    {
     "name": "stdout",
     "output_type": "stream",
     "text": [
      "0 is dividable by 3\n",
      "3 is dividable by 3\n",
      "6 is dividable by 3\n",
      "9 is dividable by 3\n",
      "12 is dividable by 3\n",
      "15 is dividable by 3\n",
      "18 is dividable by 3\n",
      "19\n"
     ]
    }
   ],
   "source": [
    "# else statement with for??\n",
    "for num in range(20):\n",
    "    if num % 3 == 0:\n",
    "        print(f'{num} is dividable by 3')\n",
    "else:\n",
    "    print(num)"
   ]
  },
  {
   "cell_type": "code",
   "execution_count": null,
   "id": "46fce122",
   "metadata": {},
   "outputs": [],
   "source": []
  }
 ],
 "metadata": {
  "kernelspec": {
   "display_name": "Python 3 (ipykernel)",
   "language": "python",
   "name": "python3"
  },
  "language_info": {
   "codemirror_mode": {
    "name": "ipython",
    "version": 3
   },
   "file_extension": ".py",
   "mimetype": "text/x-python",
   "name": "python",
   "nbconvert_exporter": "python",
   "pygments_lexer": "ipython3",
   "version": "3.11.5"
  }
 },
 "nbformat": 4,
 "nbformat_minor": 5
}
