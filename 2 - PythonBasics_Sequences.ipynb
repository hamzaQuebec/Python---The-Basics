{
 "cells": [
  {
   "cell_type": "markdown",
   "id": "5c2d75bc",
   "metadata": {},
   "source": [
    "### Lists"
   ]
  },
  {
   "cell_type": "code",
   "execution_count": 1,
   "id": "79d699c3",
   "metadata": {},
   "outputs": [
    {
     "data": {
      "text/plain": [
       "[54, 56, 12, 1234]"
      ]
     },
     "execution_count": 1,
     "metadata": {},
     "output_type": "execute_result"
    }
   ],
   "source": [
    "numbers = [54, 56, 12, 1234]\n",
    "numbers"
   ]
  },
  {
   "cell_type": "code",
   "execution_count": 8,
   "id": "9f201a4a",
   "metadata": {},
   "outputs": [
    {
     "name": "stdout",
     "output_type": "stream",
     "text": [
      "<class 'list'>\n"
     ]
    }
   ],
   "source": [
    "print(type(numbers))"
   ]
  },
  {
   "cell_type": "code",
   "execution_count": 6,
   "id": "27a0e747",
   "metadata": {},
   "outputs": [
    {
     "data": {
      "text/plain": [
       "[(1, 2), 'Hamza', 45, [25, 86]]"
      ]
     },
     "execution_count": 6,
     "metadata": {},
     "output_type": "execute_result"
    }
   ],
   "source": [
    "misc=[(1,2), \"Hamza\", 45, [25, 86]]\n",
    "misc"
   ]
  },
  {
   "cell_type": "code",
   "execution_count": 9,
   "id": "fde17fa1",
   "metadata": {},
   "outputs": [
    {
     "name": "stdout",
     "output_type": "stream",
     "text": [
      "<class 'list'>\n"
     ]
    }
   ],
   "source": [
    "print(type(misc))"
   ]
  },
  {
   "cell_type": "code",
   "execution_count": 10,
   "id": "0b0a0a4d",
   "metadata": {},
   "outputs": [
    {
     "name": "stdout",
     "output_type": "stream",
     "text": [
      "['treck', 'cannondale', 'redline']\n"
     ]
    }
   ],
   "source": [
    "bicycles=['treck', 'cannondale', 'redline', 'specialized']\n",
    "print(bicycles)"
   ]
  },
  {
   "cell_type": "code",
   "execution_count": 12,
   "id": "730aa366",
   "metadata": {},
   "outputs": [
    {
     "data": {
      "text/plain": [
       "['treck', 'redline', 'specialized']"
      ]
     },
     "execution_count": 12,
     "metadata": {},
     "output_type": "execute_result"
    }
   ],
   "source": [
    "#implicit line joining\n",
    "bicycles= [\n",
    "    'treck',\n",
    "    'redline',\n",
    "    \"specialized\"\n",
    "]\n",
    "bicycles"
   ]
  },
  {
   "cell_type": "markdown",
   "id": "6cf53403",
   "metadata": {},
   "source": [
    "#### Accessing Elements in a List"
   ]
  },
  {
   "cell_type": "code",
   "execution_count": 13,
   "id": "5411d56e",
   "metadata": {},
   "outputs": [
    {
     "name": "stdout",
     "output_type": "stream",
     "text": [
      "treck\n"
     ]
    }
   ],
   "source": [
    "bicycles=['treck', 'cannondale', 'redline', 'specialized']\n",
    "print(bicycles[0])"
   ]
  },
  {
   "cell_type": "code",
   "execution_count": 14,
   "id": "b3ffe0dc",
   "metadata": {},
   "outputs": [
    {
     "name": "stdout",
     "output_type": "stream",
     "text": [
      "Treck\n"
     ]
    }
   ],
   "source": [
    "print(bicycles[0].title())"
   ]
  },
  {
   "cell_type": "code",
   "execution_count": 18,
   "id": "b4a9388f",
   "metadata": {},
   "outputs": [
    {
     "data": {
      "text/plain": [
       "('Cannondale', 'Specialized')"
      ]
     },
     "execution_count": 18,
     "metadata": {},
     "output_type": "execute_result"
    }
   ],
   "source": [
    "#index positions start at 0 not 1\n",
    "bicycles[1].title(), bicycles[3].title()"
   ]
  },
  {
   "cell_type": "code",
   "execution_count": 19,
   "id": "00f36b33",
   "metadata": {},
   "outputs": [
    {
     "ename": "IndexError",
     "evalue": "list index out of range",
     "output_type": "error",
     "traceback": [
      "\u001b[1;31m---------------------------------------------------------------------------\u001b[0m",
      "\u001b[1;31mIndexError\u001b[0m                                Traceback (most recent call last)",
      "Cell \u001b[1;32mIn[19], line 2\u001b[0m\n\u001b[0;32m      1\u001b[0m \u001b[38;5;66;03m#index error:\u001b[39;00m\n\u001b[1;32m----> 2\u001b[0m bicycles[\u001b[38;5;241m4\u001b[39m]\n",
      "\u001b[1;31mIndexError\u001b[0m: list index out of range"
     ]
    }
   ],
   "source": [
    "#IndexError:\n",
    "bicycles[4]"
   ]
  },
  {
   "cell_type": "code",
   "execution_count": 20,
   "id": "b5b23910",
   "metadata": {},
   "outputs": [
    {
     "data": {
      "text/plain": [
       "4"
      ]
     },
     "execution_count": 20,
     "metadata": {},
     "output_type": "execute_result"
    }
   ],
   "source": [
    "len(bicycles)"
   ]
  },
  {
   "cell_type": "code",
   "execution_count": 22,
   "id": "fcbbc490",
   "metadata": {},
   "outputs": [
    {
     "data": {
      "text/plain": [
       "('specialized', 'redline')"
      ]
     },
     "execution_count": 22,
     "metadata": {},
     "output_type": "execute_result"
    }
   ],
   "source": [
    "bicycles[-1], bicycles[-2]"
   ]
  },
  {
   "cell_type": "code",
   "execution_count": 23,
   "id": "0597a976",
   "metadata": {},
   "outputs": [
    {
     "data": {
      "text/plain": [
       "'My first bicycle was a Treck .'"
      ]
     },
     "execution_count": 23,
     "metadata": {},
     "output_type": "execute_result"
    }
   ],
   "source": [
    "message = f\"My first bicycle was a {bicycles[0].title()} .\"\n",
    "message"
   ]
  },
  {
   "cell_type": "code",
   "execution_count": 24,
   "id": "10cdac23",
   "metadata": {},
   "outputs": [
    {
     "name": "stdout",
     "output_type": "stream",
     "text": [
      "My first bicycle was a Treck .\n"
     ]
    }
   ],
   "source": [
    "print(message)"
   ]
  },
  {
   "cell_type": "code",
   "execution_count": 25,
   "id": "d888c0c8",
   "metadata": {},
   "outputs": [
    {
     "name": "stdout",
     "output_type": "stream",
     "text": [
      "['honda', 'yamaha', 'suzuki']\n",
      "['ducati', 'yamaha', 'suzuki']\n"
     ]
    }
   ],
   "source": [
    "#modifying elements in a list:\n",
    "motocycles=[\"honda\", \"yamaha\", \"suzuki\"]\n",
    "print(motocycles)\n",
    "motocycles[0]= \"ducati\"\n",
    "print(motocycles)"
   ]
  },
  {
   "cell_type": "code",
   "execution_count": 26,
   "id": "dc7e456c",
   "metadata": {},
   "outputs": [],
   "source": [
    "#adding elements to the END of list\n",
    "motocycles.append(\"honda\")"
   ]
  },
  {
   "cell_type": "code",
   "execution_count": 27,
   "id": "1185ab10",
   "metadata": {},
   "outputs": [
    {
     "data": {
      "text/plain": [
       "['ducati', 'yamaha', 'suzuki', 'honda']"
      ]
     },
     "execution_count": 27,
     "metadata": {},
     "output_type": "execute_result"
    }
   ],
   "source": [
    "motocycles"
   ]
  },
  {
   "cell_type": "code",
   "execution_count": 28,
   "id": "01d4bc8d",
   "metadata": {},
   "outputs": [
    {
     "name": "stdout",
     "output_type": "stream",
     "text": [
      "<class 'list'>\n",
      "['honda', 'yamaha', 'suzuki']\n"
     ]
    }
   ],
   "source": [
    "motocycles=[]\n",
    "print(type(motocycles))\n",
    "\n",
    "motocycles.append(\"honda\")\n",
    "motocycles.append(\"yamaha\")\n",
    "motocycles.append(\"suzuki\")\n",
    "\n",
    "print(motocycles)"
   ]
  },
  {
   "cell_type": "code",
   "execution_count": 30,
   "id": "43267a6d",
   "metadata": {},
   "outputs": [
    {
     "data": {
      "text/plain": [
       "[12, 423, 109, 99, -24]"
      ]
     },
     "execution_count": 30,
     "metadata": {},
     "output_type": "execute_result"
    }
   ],
   "source": [
    "#concatinating Lists\n",
    "\n",
    "num1 = [12, 423, 109]\n",
    "num2 = [99, -24]\n",
    "num = num1 + num2\n",
    "num"
   ]
  },
  {
   "cell_type": "code",
   "execution_count": 31,
   "id": "4c993744",
   "metadata": {},
   "outputs": [
    {
     "data": {
      "text/plain": [
       "[2, 4, 7, 2, 4, 7]"
      ]
     },
     "execution_count": 31,
     "metadata": {},
     "output_type": "execute_result"
    }
   ],
   "source": [
    "num=[2,4,7]\n",
    "num * 2"
   ]
  },
  {
   "cell_type": "code",
   "execution_count": 32,
   "id": "4e751ef6",
   "metadata": {},
   "outputs": [
    {
     "name": "stdout",
     "output_type": "stream",
     "text": [
      "['honda', 'yamaha', 'suzuki']\n",
      "['honda', 'yamaha', 'ducato', 'suzuki']\n"
     ]
    }
   ],
   "source": [
    "#Inserting Elements intot a list\n",
    "print(motocycles)\n",
    "motocycles.insert(2, \"ducato\") #index 2\n",
    "print(motocycles)"
   ]
  },
  {
   "cell_type": "code",
   "execution_count": 33,
   "id": "8771d643",
   "metadata": {},
   "outputs": [
    {
     "name": "stdout",
     "output_type": "stream",
     "text": [
      "['yamaha', 'ducato', 'suzuki']\n"
     ]
    }
   ],
   "source": [
    "#Removing an item \n",
    "del motocycles[0] # removing using del\n",
    "print(motocycles)"
   ]
  },
  {
   "cell_type": "code",
   "execution_count": 34,
   "id": "0469d090",
   "metadata": {},
   "outputs": [
    {
     "name": "stdout",
     "output_type": "stream",
     "text": [
      "['yamaha', 'ducato']\n",
      "suzuki\n"
     ]
    }
   ],
   "source": [
    "poped_motocycle = motocycles.pop() #using pop last value in list\n",
    "print(motocycles)\n",
    "print(poped_motocycle)"
   ]
  },
  {
   "cell_type": "code",
   "execution_count": 35,
   "id": "f69e9252",
   "metadata": {},
   "outputs": [
    {
     "name": "stdout",
     "output_type": "stream",
     "text": [
      "The first motorcycle i owned as a Yamaha\n"
     ]
    }
   ],
   "source": [
    "#poping items from any position in a list\n",
    "motorcycles=['honda', 'yamaha', 'suzuki']\n",
    "first_owned = motorcycles.pop(1)\n",
    "print(f\"The first motorcycle i owned as a {first_owned.title()}\")"
   ]
  },
  {
   "cell_type": "code",
   "execution_count": 36,
   "id": "7bbe9040",
   "metadata": {},
   "outputs": [
    {
     "name": "stdout",
     "output_type": "stream",
     "text": [
      "['honda', 'yamaha', 'suzuki', 'ducati']\n",
      "['honda', 'yamaha', 'suzuki']\n"
     ]
    }
   ],
   "source": [
    "motorcycles=['honda', 'yamaha', 'suzuki', 'ducati']\n",
    "print(motorcycles)\n",
    "motorcycles.remove('ducati')\n",
    "print(motorcycles)"
   ]
  },
  {
   "cell_type": "markdown",
   "id": "fd944bac",
   "metadata": {},
   "source": [
    "#### Organizing a List"
   ]
  },
  {
   "cell_type": "code",
   "execution_count": 42,
   "id": "82012f43",
   "metadata": {},
   "outputs": [
    {
     "data": {
      "text/plain": [
       "['audi', 'bmw', 'subaru', 'toyota']"
      ]
     },
     "execution_count": 42,
     "metadata": {},
     "output_type": "execute_result"
    }
   ],
   "source": [
    "# sort() method\n",
    "cars=['bmw', 'audi', 'toyota', 'subaru']\n",
    "cars.sort()\n",
    "cars"
   ]
  },
  {
   "cell_type": "code",
   "execution_count": 43,
   "id": "0a16f1f5",
   "metadata": {},
   "outputs": [
    {
     "data": {
      "text/plain": [
       "['toyota', 'subaru', 'bmw', 'audi']"
      ]
     },
     "execution_count": 43,
     "metadata": {},
     "output_type": "execute_result"
    }
   ],
   "source": [
    "cars=['bmw', 'audi', 'toyota', 'subaru']\n",
    "cars.sort(reverse=True)\n",
    "cars"
   ]
  },
  {
   "cell_type": "code",
   "execution_count": 46,
   "id": "a7356947",
   "metadata": {},
   "outputs": [
    {
     "name": "stdout",
     "output_type": "stream",
     "text": [
      "['bmw', 'audi', 'toyota', 'subaru']\n",
      "\n",
      " ++++++++  sorted  ++++++++++\n",
      "\n",
      "['audi', 'bmw', 'subaru', 'toyota']\n",
      "\n",
      "++++++++++ no changes ++++++++\n",
      "\n",
      "['bmw', 'audi', 'toyota', 'subaru']\n"
     ]
    }
   ],
   "source": [
    "# Sorting a list temporarily using sorted() function\n",
    "cars=['bmw', 'audi', 'toyota', 'subaru']\n",
    "print(cars)\n",
    "print('\\n ++++++++  sorted  ++++++++++\\n')\n",
    "print(sorted(cars))\n",
    "print('\\n++++++++++ no changes ++++++++\\n')\n",
    "print(cars)"
   ]
  },
  {
   "cell_type": "code",
   "execution_count": 50,
   "id": "0724fd16",
   "metadata": {},
   "outputs": [
    {
     "name": "stdout",
     "output_type": "stream",
     "text": [
      "['subaru', 'toyota', 'audi', 'bmw']\n",
      "['bmw', 'audi', 'toyota', 'subaru']\n"
     ]
    }
   ],
   "source": [
    "#printing in reverse\n",
    "print(cars)\n",
    "cars.reverse()\n",
    "print(cars)"
   ]
  },
  {
   "cell_type": "code",
   "execution_count": 51,
   "id": "39880e49",
   "metadata": {},
   "outputs": [
    {
     "data": {
      "text/plain": [
       "4"
      ]
     },
     "execution_count": 51,
     "metadata": {},
     "output_type": "execute_result"
    }
   ],
   "source": [
    "#finding the length of a list\n",
    "len(cars)"
   ]
  },
  {
   "cell_type": "code",
   "execution_count": 52,
   "id": "b1115c15",
   "metadata": {},
   "outputs": [
    {
     "data": {
      "text/plain": [
       "[1, 2, 3, 4]"
      ]
     },
     "execution_count": 52,
     "metadata": {},
     "output_type": "execute_result"
    }
   ],
   "source": [
    "#list() constructor function\n",
    "list([1, 2, 3, 4])"
   ]
  },
  {
   "cell_type": "code",
   "execution_count": 53,
   "id": "826ef63e",
   "metadata": {},
   "outputs": [
    {
     "data": {
      "text/plain": [
       "list"
      ]
     },
     "execution_count": 53,
     "metadata": {},
     "output_type": "execute_result"
    }
   ],
   "source": [
    "type(list([1, 2, 3, 4]))"
   ]
  },
  {
   "cell_type": "code",
   "execution_count": 54,
   "id": "15eb73f0",
   "metadata": {},
   "outputs": [
    {
     "data": {
      "text/plain": [
       "['P', 'y', 't', 'h', 'o', 'n']"
      ]
     },
     "execution_count": 54,
     "metadata": {},
     "output_type": "execute_result"
    }
   ],
   "source": [
    "list('Python')"
   ]
  },
  {
   "cell_type": "code",
   "execution_count": 55,
   "id": "67790241",
   "metadata": {},
   "outputs": [
    {
     "name": "stdout",
     "output_type": "stream",
     "text": [
      "0 first\n",
      "1 second\n",
      "2 third\n",
      "3 fourth\n"
     ]
    }
   ],
   "source": [
    "# list() with enumerate()\n",
    "values= ['first', 'second', 'third', 'fourth']\n",
    "for index in range(len(values)):\n",
    "    value=values[index]\n",
    "    print(index, value)"
   ]
  },
  {
   "cell_type": "code",
   "execution_count": 56,
   "id": "5aaa8fcb",
   "metadata": {},
   "outputs": [
    {
     "data": {
      "text/plain": [
       "<enumerate at 0x234b2570e00>"
      ]
     },
     "execution_count": 56,
     "metadata": {},
     "output_type": "execute_result"
    }
   ],
   "source": [
    "enumerate(values)"
   ]
  },
  {
   "cell_type": "code",
   "execution_count": 57,
   "id": "0ee22461",
   "metadata": {},
   "outputs": [
    {
     "data": {
      "text/plain": [
       "[(0, 'first'), (1, 'second'), (2, 'third'), (3, 'fourth')]"
      ]
     },
     "execution_count": 57,
     "metadata": {},
     "output_type": "execute_result"
    }
   ],
   "source": [
    "list(enumerate(values)) #unpacking sequences"
   ]
  },
  {
   "cell_type": "code",
   "execution_count": 58,
   "id": "7512ba75",
   "metadata": {},
   "outputs": [
    {
     "name": "stdout",
     "output_type": "stream",
     "text": [
      "0 first\n",
      "1 second\n",
      "2 third\n",
      "3 fourth\n"
     ]
    }
   ],
   "source": [
    "values= ['first', 'second', 'third', 'fourth']\n",
    "for index, value in enumerate(values):\n",
    "    print(index, value)"
   ]
  },
  {
   "cell_type": "markdown",
   "id": "adbcd2b7",
   "metadata": {},
   "source": [
    "#### Making Numerical Lists\n"
   ]
  },
  {
   "cell_type": "code",
   "execution_count": 61,
   "id": "d2508b7a",
   "metadata": {},
   "outputs": [
    {
     "name": "stdout",
     "output_type": "stream",
     "text": [
      "range(0, 5)\n"
     ]
    }
   ],
   "source": [
    "print(range(5))"
   ]
  },
  {
   "cell_type": "code",
   "execution_count": 63,
   "id": "ad873522",
   "metadata": {},
   "outputs": [
    {
     "name": "stdout",
     "output_type": "stream",
     "text": [
      "<class 'range'>\n"
     ]
    }
   ],
   "source": [
    "print(type(range(5)))"
   ]
  },
  {
   "cell_type": "code",
   "execution_count": 64,
   "id": "214790d4",
   "metadata": {},
   "outputs": [
    {
     "data": {
      "text/plain": [
       "[0, 1, 2, 3, 4]"
      ]
     },
     "execution_count": 64,
     "metadata": {},
     "output_type": "execute_result"
    }
   ],
   "source": [
    "list(range(5))"
   ]
  },
  {
   "cell_type": "code",
   "execution_count": 65,
   "id": "376791ad",
   "metadata": {},
   "outputs": [
    {
     "data": {
      "text/plain": [
       "[2, 4, 6, 8, 10, 12, 14, 16, 18]"
      ]
     },
     "execution_count": 65,
     "metadata": {},
     "output_type": "execute_result"
    }
   ],
   "source": [
    "#slicing convention in python (start, stop, step)\n",
    "list(range(2, 20, 2))"
   ]
  },
  {
   "cell_type": "code",
   "execution_count": 66,
   "id": "3568370c",
   "metadata": {},
   "outputs": [
    {
     "data": {
      "text/plain": [
       "[18, 16, 14, 12, 10, 8, 6, 4, 2]"
      ]
     },
     "execution_count": 66,
     "metadata": {},
     "output_type": "execute_result"
    }
   ],
   "source": [
    "list(reversed(range(2,20,2)))"
   ]
  },
  {
   "cell_type": "code",
   "execution_count": 69,
   "id": "84b145bb",
   "metadata": {},
   "outputs": [
    {
     "data": {
      "text/plain": [
       "[18, 16, 14, 12, 10, 8, 6, 4, 2]"
      ]
     },
     "execution_count": 69,
     "metadata": {},
     "output_type": "execute_result"
    }
   ],
   "source": [
    "list(range(18,0, -2))"
   ]
  },
  {
   "cell_type": "code",
   "execution_count": 59,
   "id": "454c51fe",
   "metadata": {},
   "outputs": [
    {
     "name": "stdout",
     "output_type": "stream",
     "text": [
      "1\n",
      "2\n",
      "3\n",
      "4\n"
     ]
    }
   ],
   "source": [
    "#using range function\n",
    "for value in range(1,5):\n",
    "    print(value)"
   ]
  },
  {
   "cell_type": "code",
   "execution_count": 60,
   "id": "c0f8903e",
   "metadata": {},
   "outputs": [
    {
     "name": "stdout",
     "output_type": "stream",
     "text": [
      "0\n",
      "1\n",
      "2\n",
      "3\n",
      "4\n"
     ]
    }
   ],
   "source": [
    "for value in range(5):\n",
    "    print(value)"
   ]
  },
  {
   "cell_type": "code",
   "execution_count": 70,
   "id": "357b5644",
   "metadata": {},
   "outputs": [
    {
     "data": {
      "text/plain": [
       "[1, 2, 3, 4, 5]"
      ]
     },
     "execution_count": 70,
     "metadata": {},
     "output_type": "execute_result"
    }
   ],
   "source": [
    "#using range() to make a list of numbers:\n",
    "numbers=list(range(1,6))\n",
    "numbers"
   ]
  },
  {
   "cell_type": "code",
   "execution_count": 72,
   "id": "58a1bf96",
   "metadata": {},
   "outputs": [
    {
     "data": {
      "text/plain": [
       "[0, 2, 4, 6, 8, 10]"
      ]
     },
     "execution_count": 72,
     "metadata": {},
     "output_type": "execute_result"
    }
   ],
   "source": [
    "even_numbers=list(range(0, 11, 2))\n",
    "even_numbers"
   ]
  },
  {
   "cell_type": "code",
   "execution_count": 74,
   "id": "951a0ba5",
   "metadata": {},
   "outputs": [
    {
     "data": {
      "text/plain": [
       "[0, 1, 4, 9, 16, 25, 36, 49, 64, 81, 100]"
      ]
     },
     "execution_count": 74,
     "metadata": {},
     "output_type": "execute_result"
    }
   ],
   "source": [
    "squares=[]\n",
    "for value in range(11):\n",
    "    value=value**2\n",
    "    squares.append(value)\n",
    "squares"
   ]
  },
  {
   "cell_type": "code",
   "execution_count": 76,
   "id": "8da16648",
   "metadata": {},
   "outputs": [
    {
     "name": "stdout",
     "output_type": "stream",
     "text": [
      "[0, 1, 2, 3, 4, 5, 6, 7, 8, 9, 10]\n",
      "10\n",
      "0\n",
      "55\n"
     ]
    }
   ],
   "source": [
    "digits=list(range(11))\n",
    "print(digits)\n",
    "print(max(digits))\n",
    "print(min(digits))\n",
    "print(sum(digits))\n"
   ]
  },
  {
   "cell_type": "markdown",
   "id": "3b01560d",
   "metadata": {},
   "source": [
    "#### List comprehensions"
   ]
  },
  {
   "cell_type": "code",
   "execution_count": 77,
   "id": "5f944b4e",
   "metadata": {},
   "outputs": [
    {
     "data": {
      "text/plain": [
       "[0, 1, 4, 9, 16, 25, 36, 49, 64, 81, 100]"
      ]
     },
     "execution_count": 77,
     "metadata": {},
     "output_type": "execute_result"
    }
   ],
   "source": [
    "squares = [sqr**2 for sqr in range(11)]\n",
    "squares"
   ]
  },
  {
   "cell_type": "markdown",
   "id": "b883081c",
   "metadata": {},
   "source": [
    "### Slicing a List"
   ]
  },
  {
   "cell_type": "code",
   "execution_count": 83,
   "id": "b4e1a9f2",
   "metadata": {},
   "outputs": [],
   "source": [
    "# list[start:stop:step]"
   ]
  },
  {
   "cell_type": "code",
   "execution_count": 78,
   "id": "ebbf39fe",
   "metadata": {},
   "outputs": [
    {
     "data": {
      "text/plain": [
       "['charles', 'martina', 'michael']"
      ]
     },
     "execution_count": 78,
     "metadata": {},
     "output_type": "execute_result"
    }
   ],
   "source": [
    "players = ['charles', 'martina', 'michael', 'florence', 'eli']\n",
    "players[0:3]"
   ]
  },
  {
   "cell_type": "code",
   "execution_count": 79,
   "id": "d29f42e1",
   "metadata": {},
   "outputs": [
    {
     "data": {
      "text/plain": [
       "['martina', 'michael', 'florence']"
      ]
     },
     "execution_count": 79,
     "metadata": {},
     "output_type": "execute_result"
    }
   ],
   "source": [
    "players[1:4]"
   ]
  },
  {
   "cell_type": "code",
   "execution_count": 80,
   "id": "f4c1bea5",
   "metadata": {},
   "outputs": [
    {
     "data": {
      "text/plain": [
       "['charles', 'martina', 'michael', 'florence']"
      ]
     },
     "execution_count": 80,
     "metadata": {},
     "output_type": "execute_result"
    }
   ],
   "source": [
    "players[:4]"
   ]
  },
  {
   "cell_type": "code",
   "execution_count": 81,
   "id": "83106f1f",
   "metadata": {},
   "outputs": [
    {
     "data": {
      "text/plain": [
       "['michael', 'florence', 'eli']"
      ]
     },
     "execution_count": 81,
     "metadata": {},
     "output_type": "execute_result"
    }
   ],
   "source": [
    "players[2:]"
   ]
  },
  {
   "cell_type": "code",
   "execution_count": 82,
   "id": "998a85bb",
   "metadata": {},
   "outputs": [
    {
     "data": {
      "text/plain": [
       "['michael', 'florence', 'eli']"
      ]
     },
     "execution_count": 82,
     "metadata": {},
     "output_type": "execute_result"
    }
   ],
   "source": [
    "players[2:5]"
   ]
  },
  {
   "cell_type": "markdown",
   "id": "94a9896f",
   "metadata": {},
   "source": [
    "#### Looping Through a Slice"
   ]
  },
  {
   "cell_type": "code",
   "execution_count": 84,
   "id": "e54b3efb",
   "metadata": {},
   "outputs": [
    {
     "name": "stdout",
     "output_type": "stream",
     "text": [
      "Here are the first three players on my team: \n",
      "\n",
      "Charles\n",
      "Martina\n",
      "Michael\n"
     ]
    }
   ],
   "source": [
    "print(\"Here are the first three players on my team: \\n\")\n",
    "for player in players[:3]:\n",
    "    print(player.title())"
   ]
  },
  {
   "cell_type": "markdown",
   "id": "5f5df2b6",
   "metadata": {},
   "source": [
    "#### Copying a List"
   ]
  },
  {
   "cell_type": "code",
   "execution_count": 85,
   "id": "21e4f7b0",
   "metadata": {},
   "outputs": [
    {
     "name": "stdout",
     "output_type": "stream",
     "text": [
      "['pizza', 'falafel', 'couscous', 'carrot cake']\n",
      "['pizza', 'falafel', 'couscous', 'carrot cake']\n"
     ]
    }
   ],
   "source": [
    "my_foods=['pizza', 'falafel', 'couscous','carrot cake']\n",
    "\n",
    "friend_food=my_foods[:]\n",
    "print(my_foods)\n",
    "print(friend_food)"
   ]
  },
  {
   "cell_type": "code",
   "execution_count": 87,
   "id": "ba85915e",
   "metadata": {},
   "outputs": [],
   "source": [
    "#this dosen't work\n",
    "my_foods=['pizza', 'falafel', 'couscous','carrot cake']\n",
    "friend_food=my_foods"
   ]
  },
  {
   "cell_type": "code",
   "execution_count": 88,
   "id": "66ac3206",
   "metadata": {},
   "outputs": [
    {
     "data": {
      "text/plain": [
       "['pizza', 'falafel', 'couscous', 'carrot cake']"
      ]
     },
     "execution_count": 88,
     "metadata": {},
     "output_type": "execute_result"
    }
   ],
   "source": [
    "friend_food"
   ]
  },
  {
   "cell_type": "code",
   "execution_count": 89,
   "id": "3ec0eb96",
   "metadata": {},
   "outputs": [
    {
     "name": "stdout",
     "output_type": "stream",
     "text": [
      "['pizza', 'falafel', 'couscous', 'carrot cake', 'ice cream']\n",
      "['pizza', 'falafel', 'couscous', 'carrot cake', 'ice cream']\n"
     ]
    }
   ],
   "source": [
    "friend_food.append('ice cream')\n",
    "print(friend_food)\n",
    "print(my_foods)"
   ]
  },
  {
   "cell_type": "code",
   "execution_count": 92,
   "id": "69891969",
   "metadata": {},
   "outputs": [
    {
     "name": "stdout",
     "output_type": "stream",
     "text": [
      "Friend food: \n",
      "\n",
      "['pizza', 'falafel', 'couscous', 'carrot cake', 'ice cream']\n",
      "\n",
      "My foods:\n",
      "\n",
      "['pizza', 'falafel', 'couscous', 'carrot cake']\n"
     ]
    }
   ],
   "source": [
    "#this should work: \n",
    "my_foods=['pizza', 'falafel', 'couscous','carrot cake']\n",
    "friend_food=my_foods.copy()\n",
    "\n",
    "friend_food.append('ice cream')\n",
    "print('Friend food: \\n')\n",
    "print(friend_food)\n",
    "print('\\nMy foods:\\n')\n",
    "print(my_foods)"
   ]
  },
  {
   "cell_type": "markdown",
   "id": "f70cdb3e",
   "metadata": {},
   "source": [
    "## Tuples"
   ]
  },
  {
   "cell_type": "code",
   "execution_count": 94,
   "id": "b5f88ae4",
   "metadata": {},
   "outputs": [
    {
     "name": "stdout",
     "output_type": "stream",
     "text": [
      "200\n",
      "50\n",
      "100\n"
     ]
    }
   ],
   "source": [
    "#Immutable list\n",
    "dimensions=(200, 50, 100)\n",
    "print(dimensions[0])\n",
    "print(dimensions[1])\n",
    "print(dimensions[2])"
   ]
  },
  {
   "cell_type": "code",
   "execution_count": 95,
   "id": "8550f816",
   "metadata": {},
   "outputs": [
    {
     "ename": "TypeError",
     "evalue": "'tuple' object does not support item assignment",
     "output_type": "error",
     "traceback": [
      "\u001b[1;31m---------------------------------------------------------------------------\u001b[0m",
      "\u001b[1;31mTypeError\u001b[0m                                 Traceback (most recent call last)",
      "Cell \u001b[1;32mIn[95], line 3\u001b[0m\n\u001b[0;32m      1\u001b[0m \u001b[38;5;66;03m#Error \u001b[39;00m\n\u001b[0;32m      2\u001b[0m dimensions\u001b[38;5;241m=\u001b[39m(\u001b[38;5;241m200\u001b[39m, \u001b[38;5;241m50\u001b[39m)\n\u001b[1;32m----> 3\u001b[0m dimensions[\u001b[38;5;241m0\u001b[39m]\u001b[38;5;241m=\u001b[39m\u001b[38;5;241m250\u001b[39m\n",
      "\u001b[1;31mTypeError\u001b[0m: 'tuple' object does not support item assignment"
     ]
    }
   ],
   "source": [
    "#Error \n",
    "dimensions=(200, 50)\n",
    "dimensions[0]=250"
   ]
  },
  {
   "cell_type": "code",
   "execution_count": 96,
   "id": "54544af7",
   "metadata": {},
   "outputs": [
    {
     "data": {
      "text/plain": [
       "((0, 19), (25, 6), (81, 58, 56))"
      ]
     },
     "execution_count": 96,
     "metadata": {},
     "output_type": "execute_result"
    }
   ],
   "source": [
    "two_d =((0, 19), (25, 6), (81, 58, 56))\n",
    "two_d"
   ]
  },
  {
   "cell_type": "code",
   "execution_count": 98,
   "id": "1fa8a18c",
   "metadata": {},
   "outputs": [
    {
     "data": {
      "text/plain": [
       "(15, 'abc', (9, 1), [1, 2, 3], {'def': 15})"
      ]
     },
     "execution_count": 98,
     "metadata": {},
     "output_type": "execute_result"
    }
   ],
   "source": [
    "misc_d=(15, 'abc', (9,1), [1,2,3], {'def':15})\n",
    "misc_d"
   ]
  },
  {
   "cell_type": "code",
   "execution_count": 101,
   "id": "10b5cc4c",
   "metadata": {},
   "outputs": [
    {
     "name": "stdout",
     "output_type": "stream",
     "text": [
      "<class 'int'>\n",
      "<class 'str'>\n",
      "<class 'tuple'>\n",
      "<class 'list'>\n",
      "<class 'dict'>\n"
     ]
    }
   ],
   "source": [
    "print(type(misc_d[0]))\n",
    "print(type(misc_d[1]))\n",
    "print(type(misc_d[2]))\n",
    "print(type(misc_d[3]))\n",
    "print(type(misc_d[4]))"
   ]
  },
  {
   "cell_type": "code",
   "execution_count": 105,
   "id": "a2991c35",
   "metadata": {},
   "outputs": [
    {
     "name": "stdout",
     "output_type": "stream",
     "text": [
      "200\n",
      "50\n",
      "92\n",
      "92\n"
     ]
    }
   ],
   "source": [
    "#looping through all values in a Tuple\n",
    "dimensions= (200, 50, 92, 92)\n",
    "for dimension in dimensions:\n",
    "    print(dimension)"
   ]
  },
  {
   "cell_type": "code",
   "execution_count": 106,
   "id": "11f09e85",
   "metadata": {},
   "outputs": [
    {
     "data": {
      "text/plain": [
       "2"
      ]
     },
     "execution_count": 106,
     "metadata": {},
     "output_type": "execute_result"
    }
   ],
   "source": [
    "dimensions.count(92)"
   ]
  },
  {
   "cell_type": "code",
   "execution_count": 108,
   "id": "1804fc7d",
   "metadata": {},
   "outputs": [
    {
     "data": {
      "text/plain": [
       "2"
      ]
     },
     "execution_count": 108,
     "metadata": {},
     "output_type": "execute_result"
    }
   ],
   "source": [
    "dimensions.index(92)"
   ]
  },
  {
   "cell_type": "code",
   "execution_count": null,
   "id": "9f18ad3a",
   "metadata": {},
   "outputs": [],
   "source": [
    "# list() with enumerate()"
   ]
  },
  {
   "cell_type": "code",
   "execution_count": 110,
   "id": "f9852674",
   "metadata": {},
   "outputs": [
    {
     "name": "stdout",
     "output_type": "stream",
     "text": [
      "0 zero\n",
      "1 un\n",
      "2 deux\n",
      "3 trois\n",
      "4 quatre\n"
     ]
    }
   ],
   "source": [
    "values = ('zero', 'un', 'deux', 'trois', 'quatre')\n",
    "for index, value in enumerate(values):\n",
    "    print(index, value)"
   ]
  },
  {
   "cell_type": "code",
   "execution_count": 111,
   "id": "0e515a95",
   "metadata": {},
   "outputs": [
    {
     "name": "stdout",
     "output_type": "stream",
     "text": [
      "Original dimensions:\n",
      "200\n",
      "50\n",
      "88\n",
      "\n",
      "Modified dimensions:\n",
      "400\n",
      "500\n"
     ]
    }
   ],
   "source": [
    "# Writing over tuple:\n",
    "dimensions= (200, 50, 88)\n",
    "print('Original dimensions:')\n",
    "for dimension in dimensions:\n",
    "    print(dimension)\n",
    "\n",
    "dimensions=(400, 500)\n",
    "print('\\nModified dimensions:')\n",
    "for dimension in dimensions:\n",
    "    print(dimension)"
   ]
  },
  {
   "cell_type": "markdown",
   "id": "693c5389",
   "metadata": {},
   "source": [
    "### Strings\n",
    "#### Yes, Strings are ordred sequences :)"
   ]
  },
  {
   "cell_type": "code",
   "execution_count": 112,
   "id": "9c4185d6",
   "metadata": {},
   "outputs": [
    {
     "data": {
      "text/plain": [
       "'H'"
      ]
     },
     "execution_count": 112,
     "metadata": {},
     "output_type": "execute_result"
    }
   ],
   "source": [
    "string = 'Hello Hamza'\n",
    "string[0]"
   ]
  },
  {
   "cell_type": "code",
   "execution_count": 113,
   "id": "3d1d59ce",
   "metadata": {},
   "outputs": [
    {
     "ename": "TypeError",
     "evalue": "'str' object does not support item assignment",
     "output_type": "error",
     "traceback": [
      "\u001b[1;31m---------------------------------------------------------------------------\u001b[0m",
      "\u001b[1;31mTypeError\u001b[0m                                 Traceback (most recent call last)",
      "Cell \u001b[1;32mIn[113], line 1\u001b[0m\n\u001b[1;32m----> 1\u001b[0m string[\u001b[38;5;241m0\u001b[39m]\u001b[38;5;241m=\u001b[39m\u001b[38;5;124m'\u001b[39m\u001b[38;5;124mM\u001b[39m\u001b[38;5;124m'\u001b[39m\n",
      "\u001b[1;31mTypeError\u001b[0m: 'str' object does not support item assignment"
     ]
    }
   ],
   "source": [
    "string[0]='M' # Error, strings are immutable sequences"
   ]
  },
  {
   "cell_type": "code",
   "execution_count": 114,
   "id": "4d0a742d",
   "metadata": {},
   "outputs": [
    {
     "data": {
      "text/plain": [
       "2"
      ]
     },
     "execution_count": 114,
     "metadata": {},
     "output_type": "execute_result"
    }
   ],
   "source": [
    "string.count('a')"
   ]
  },
  {
   "cell_type": "code",
   "execution_count": 115,
   "id": "20b27288",
   "metadata": {},
   "outputs": [
    {
     "data": {
      "text/plain": [
       "0"
      ]
     },
     "execution_count": 115,
     "metadata": {},
     "output_type": "execute_result"
    }
   ],
   "source": [
    "string.index('H')"
   ]
  },
  {
   "cell_type": "code",
   "execution_count": 116,
   "id": "2e0bc1cd",
   "metadata": {},
   "outputs": [
    {
     "ename": "ValueError",
     "evalue": "substring not found",
     "output_type": "error",
     "traceback": [
      "\u001b[1;31m---------------------------------------------------------------------------\u001b[0m",
      "\u001b[1;31mValueError\u001b[0m                                Traceback (most recent call last)",
      "Cell \u001b[1;32mIn[116], line 1\u001b[0m\n\u001b[1;32m----> 1\u001b[0m string\u001b[38;5;241m.\u001b[39mindex(\u001b[38;5;124m'\u001b[39m\u001b[38;5;124mh\u001b[39m\u001b[38;5;124m'\u001b[39m)\n",
      "\u001b[1;31mValueError\u001b[0m: substring not found"
     ]
    }
   ],
   "source": [
    "string.index('h') #upper and lower error"
   ]
  },
  {
   "cell_type": "code",
   "execution_count": 117,
   "id": "a94e0d8f",
   "metadata": {},
   "outputs": [
    {
     "data": {
      "text/plain": [
       "['H', 'e', 'l', 'l', 'o', ' ', 'H', 'a', 'm', 'z', 'a']"
      ]
     },
     "execution_count": 117,
     "metadata": {},
     "output_type": "execute_result"
    }
   ],
   "source": [
    "list(string)"
   ]
  },
  {
   "cell_type": "code",
   "execution_count": 118,
   "id": "802b8f19",
   "metadata": {},
   "outputs": [
    {
     "data": {
      "text/plain": [
       "['__add__',\n",
       " '__class__',\n",
       " '__contains__',\n",
       " '__delattr__',\n",
       " '__dir__',\n",
       " '__doc__',\n",
       " '__eq__',\n",
       " '__format__',\n",
       " '__ge__',\n",
       " '__getattribute__',\n",
       " '__getitem__',\n",
       " '__getnewargs__',\n",
       " '__getstate__',\n",
       " '__gt__',\n",
       " '__hash__',\n",
       " '__init__',\n",
       " '__init_subclass__',\n",
       " '__iter__',\n",
       " '__le__',\n",
       " '__len__',\n",
       " '__lt__',\n",
       " '__mod__',\n",
       " '__mul__',\n",
       " '__ne__',\n",
       " '__new__',\n",
       " '__reduce__',\n",
       " '__reduce_ex__',\n",
       " '__repr__',\n",
       " '__rmod__',\n",
       " '__rmul__',\n",
       " '__setattr__',\n",
       " '__sizeof__',\n",
       " '__str__',\n",
       " '__subclasshook__',\n",
       " 'capitalize',\n",
       " 'casefold',\n",
       " 'center',\n",
       " 'count',\n",
       " 'encode',\n",
       " 'endswith',\n",
       " 'expandtabs',\n",
       " 'find',\n",
       " 'format',\n",
       " 'format_map',\n",
       " 'index',\n",
       " 'isalnum',\n",
       " 'isalpha',\n",
       " 'isascii',\n",
       " 'isdecimal',\n",
       " 'isdigit',\n",
       " 'isidentifier',\n",
       " 'islower',\n",
       " 'isnumeric',\n",
       " 'isprintable',\n",
       " 'isspace',\n",
       " 'istitle',\n",
       " 'isupper',\n",
       " 'join',\n",
       " 'ljust',\n",
       " 'lower',\n",
       " 'lstrip',\n",
       " 'maketrans',\n",
       " 'partition',\n",
       " 'removeprefix',\n",
       " 'removesuffix',\n",
       " 'replace',\n",
       " 'rfind',\n",
       " 'rindex',\n",
       " 'rjust',\n",
       " 'rpartition',\n",
       " 'rsplit',\n",
       " 'rstrip',\n",
       " 'split',\n",
       " 'splitlines',\n",
       " 'startswith',\n",
       " 'strip',\n",
       " 'swapcase',\n",
       " 'title',\n",
       " 'translate',\n",
       " 'upper',\n",
       " 'zfill']"
      ]
     },
     "execution_count": 118,
     "metadata": {},
     "output_type": "execute_result"
    }
   ],
   "source": [
    "dir(string)"
   ]
  },
  {
   "cell_type": "markdown",
   "id": "e84b29f4",
   "metadata": {},
   "source": [
    "### Unordered Sequences"
   ]
  },
  {
   "cell_type": "markdown",
   "id": "79130f96",
   "metadata": {},
   "source": [
    "### Sets"
   ]
  },
  {
   "cell_type": "code",
   "execution_count": 124,
   "id": "928eedb1",
   "metadata": {},
   "outputs": [
    {
     "data": {
      "text/plain": [
       "{1, 2, 3, 4, 5, 6, 8, 9}"
      ]
     },
     "execution_count": 124,
     "metadata": {},
     "output_type": "execute_result"
    }
   ],
   "source": [
    "set1={1,2,3,4,5,6,8,9,9}\n",
    "set1 #unique items"
   ]
  },
  {
   "cell_type": "code",
   "execution_count": 129,
   "id": "175b6943",
   "metadata": {},
   "outputs": [
    {
     "data": {
      "text/plain": [
       "['one', 'one', 'two', 'three', 'three', 'four']"
      ]
     },
     "execution_count": 129,
     "metadata": {},
     "output_type": "execute_result"
    }
   ],
   "source": [
    "my_list=['one', 'one', 'two', 'three', 'three', 'four']\n",
    "my_list"
   ]
  },
  {
   "cell_type": "code",
   "execution_count": 130,
   "id": "0cd47602",
   "metadata": {},
   "outputs": [
    {
     "data": {
      "text/plain": [
       "{'four', 'one', 'three', 'two'}"
      ]
     },
     "execution_count": 130,
     "metadata": {},
     "output_type": "execute_result"
    }
   ],
   "source": [
    "#using the set function:\n",
    "my_set=set(my_list)\n",
    "my_set"
   ]
  },
  {
   "cell_type": "code",
   "execution_count": 131,
   "id": "2e8de4fa",
   "metadata": {},
   "outputs": [],
   "source": [
    "list_again= list(my_set)"
   ]
  },
  {
   "cell_type": "code",
   "execution_count": 132,
   "id": "54fa417c",
   "metadata": {},
   "outputs": [
    {
     "data": {
      "text/plain": [
       "['three', 'one', 'four', 'two']"
      ]
     },
     "execution_count": 132,
     "metadata": {},
     "output_type": "execute_result"
    }
   ],
   "source": [
    "list_again"
   ]
  },
  {
   "cell_type": "code",
   "execution_count": 133,
   "id": "bd0e9858",
   "metadata": {},
   "outputs": [
    {
     "data": {
      "text/plain": [
       "['__and__',\n",
       " '__class__',\n",
       " '__class_getitem__',\n",
       " '__contains__',\n",
       " '__delattr__',\n",
       " '__dir__',\n",
       " '__doc__',\n",
       " '__eq__',\n",
       " '__format__',\n",
       " '__ge__',\n",
       " '__getattribute__',\n",
       " '__getstate__',\n",
       " '__gt__',\n",
       " '__hash__',\n",
       " '__iand__',\n",
       " '__init__',\n",
       " '__init_subclass__',\n",
       " '__ior__',\n",
       " '__isub__',\n",
       " '__iter__',\n",
       " '__ixor__',\n",
       " '__le__',\n",
       " '__len__',\n",
       " '__lt__',\n",
       " '__ne__',\n",
       " '__new__',\n",
       " '__or__',\n",
       " '__rand__',\n",
       " '__reduce__',\n",
       " '__reduce_ex__',\n",
       " '__repr__',\n",
       " '__ror__',\n",
       " '__rsub__',\n",
       " '__rxor__',\n",
       " '__setattr__',\n",
       " '__sizeof__',\n",
       " '__str__',\n",
       " '__sub__',\n",
       " '__subclasshook__',\n",
       " '__xor__',\n",
       " 'add',\n",
       " 'clear',\n",
       " 'copy',\n",
       " 'difference',\n",
       " 'difference_update',\n",
       " 'discard',\n",
       " 'intersection',\n",
       " 'intersection_update',\n",
       " 'isdisjoint',\n",
       " 'issubset',\n",
       " 'issuperset',\n",
       " 'pop',\n",
       " 'remove',\n",
       " 'symmetric_difference',\n",
       " 'symmetric_difference_update',\n",
       " 'union',\n",
       " 'update']"
      ]
     },
     "execution_count": 133,
     "metadata": {},
     "output_type": "execute_result"
    }
   ],
   "source": [
    "dir(set1)"
   ]
  },
  {
   "cell_type": "code",
   "execution_count": 135,
   "id": "190ab638",
   "metadata": {},
   "outputs": [
    {
     "data": {
      "text/plain": [
       "{1, 2, 3, 4, 5, 6, 8, 9, 15, 100}"
      ]
     },
     "execution_count": 135,
     "metadata": {},
     "output_type": "execute_result"
    }
   ],
   "source": [
    "set1.add(15)\n",
    "set1.add(100)\n",
    "set1"
   ]
  },
  {
   "cell_type": "code",
   "execution_count": 136,
   "id": "2972742d",
   "metadata": {},
   "outputs": [
    {
     "name": "stdout",
     "output_type": "stream",
     "text": [
      "{1, 3}\n"
     ]
    }
   ],
   "source": [
    "#initialize my_set\n",
    "my_set={1,3}\n",
    "print(my_set)"
   ]
  },
  {
   "cell_type": "code",
   "execution_count": 138,
   "id": "140d4fbc",
   "metadata": {},
   "outputs": [
    {
     "data": {
      "text/plain": [
       "{1, 3, 4, 5, 6, 8}"
      ]
     },
     "execution_count": 138,
     "metadata": {},
     "output_type": "execute_result"
    }
   ],
   "source": [
    "my_set.update([4,5], {1,6,8})\n",
    "my_set"
   ]
  },
  {
   "cell_type": "code",
   "execution_count": 139,
   "id": "d632f3f3",
   "metadata": {},
   "outputs": [
    {
     "name": "stdout",
     "output_type": "stream",
     "text": [
      "{1, 2, 3, 4, 5, 6, 7, 8}\n",
      "{1, 2, 3, 4, 5, 6, 7, 8}\n"
     ]
    }
   ],
   "source": [
    "#set union method\n",
    "#initialize A and B\n",
    "A={1, 2, 3, 4, 5}\n",
    "B={4, 5, 6, 7, 8}\n",
    "#use | operator UNION\n",
    "print(A|B)\n",
    "print(A.union(B))"
   ]
  },
  {
   "cell_type": "code",
   "execution_count": 140,
   "id": "e4242a00",
   "metadata": {},
   "outputs": [
    {
     "name": "stdout",
     "output_type": "stream",
     "text": [
      "{4, 5}\n"
     ]
    }
   ],
   "source": [
    "print(A.intersection(B))"
   ]
  },
  {
   "cell_type": "code",
   "execution_count": 143,
   "id": "4ad88bba",
   "metadata": {},
   "outputs": [
    {
     "data": {
      "text/plain": [
       "{4, 5}"
      ]
     },
     "execution_count": 143,
     "metadata": {},
     "output_type": "execute_result"
    }
   ],
   "source": [
    "A & B"
   ]
  },
  {
   "cell_type": "code",
   "execution_count": 141,
   "id": "a7e9d509",
   "metadata": {},
   "outputs": [
    {
     "name": "stdout",
     "output_type": "stream",
     "text": [
      "None\n"
     ]
    }
   ],
   "source": [
    "print(A.discard(B))"
   ]
  },
  {
   "cell_type": "code",
   "execution_count": 142,
   "id": "e1ded85a",
   "metadata": {},
   "outputs": [
    {
     "data": {
      "text/plain": [
       "{1, 2, 3, 4, 5, 6, 7, 8}"
      ]
     },
     "execution_count": 142,
     "metadata": {},
     "output_type": "execute_result"
    }
   ],
   "source": [
    "B.union(A)"
   ]
  },
  {
   "cell_type": "code",
   "execution_count": 144,
   "id": "5b50508a",
   "metadata": {},
   "outputs": [
    {
     "name": "stdout",
     "output_type": "stream",
     "text": [
      "{1, 2, 3}\n",
      "{1, 2, 3}\n"
     ]
    }
   ],
   "source": [
    "print(A - B)\n",
    "print(A.difference(B))"
   ]
  },
  {
   "cell_type": "code",
   "execution_count": 145,
   "id": "be9fb58f",
   "metadata": {},
   "outputs": [
    {
     "name": "stdout",
     "output_type": "stream",
     "text": [
      "{8, 6, 7}\n",
      "{8, 6, 7}\n"
     ]
    }
   ],
   "source": [
    "print(B-A)\n",
    "print(B.difference(A))"
   ]
  },
  {
   "cell_type": "code",
   "execution_count": 146,
   "id": "14c9a750",
   "metadata": {},
   "outputs": [
    {
     "name": "stdout",
     "output_type": "stream",
     "text": [
      "{1, 2, 3, 6, 7, 8}\n",
      "{1, 2, 3, 6, 7, 8}\n"
     ]
    }
   ],
   "source": [
    "#Symetric difference of two sets\n",
    "print(A^B)\n",
    "print(A.symmetric_difference(B))"
   ]
  },
  {
   "cell_type": "code",
   "execution_count": 147,
   "id": "e242a843",
   "metadata": {},
   "outputs": [
    {
     "name": "stdout",
     "output_type": "stream",
     "text": [
      "1\n",
      "2\n",
      "3\n",
      "4\n",
      "5\n"
     ]
    }
   ],
   "source": [
    "for item in A:\n",
    "    print(item)"
   ]
  },
  {
   "cell_type": "code",
   "execution_count": 148,
   "id": "f853f0ac",
   "metadata": {},
   "outputs": [
    {
     "name": "stdout",
     "output_type": "stream",
     "text": [
      "True\n",
      "False\n"
     ]
    }
   ],
   "source": [
    "print(2 in A)\n",
    "print(10 in B)"
   ]
  },
  {
   "cell_type": "code",
   "execution_count": 149,
   "id": "cb57eded",
   "metadata": {},
   "outputs": [
    {
     "data": {
      "text/plain": [
       "' \\nenumerate()\\nmax()\\nmin()\\nsum()\\nlen()\\nsorted()\\n'"
      ]
     },
     "execution_count": 149,
     "metadata": {},
     "output_type": "execute_result"
    }
   ],
   "source": [
    "#We can also use the following methods with sets:\n",
    "\"\"\" \n",
    "enumerate()\n",
    "max()\n",
    "min()\n",
    "sum()\n",
    "len()\n",
    "sorted()\n",
    "\"\"\""
   ]
  },
  {
   "cell_type": "markdown",
   "id": "b6d1845d",
   "metadata": {},
   "source": [
    "### Dictionaries"
   ]
  },
  {
   "cell_type": "code",
   "execution_count": 150,
   "id": "7180645c",
   "metadata": {},
   "outputs": [],
   "source": [
    "# Dict is collection of a key-value pairs.\n",
    "human1={\n",
    "    'height':180,\n",
    "    'weight':80,\n",
    "    'eye-color': 'green',\n",
    "    'language': 'berber'\n",
    "}"
   ]
  },
  {
   "cell_type": "code",
   "execution_count": 151,
   "id": "734fe0fc",
   "metadata": {},
   "outputs": [
    {
     "data": {
      "text/plain": [
       "{'height': 180, 'weight': 80, 'eye-color': 'green', 'language': 'berber'}"
      ]
     },
     "execution_count": 151,
     "metadata": {},
     "output_type": "execute_result"
    }
   ],
   "source": [
    "human1"
   ]
  },
  {
   "cell_type": "code",
   "execution_count": 153,
   "id": "1daeef90",
   "metadata": {},
   "outputs": [
    {
     "data": {
      "text/plain": [
       "['__class__',\n",
       " '__class_getitem__',\n",
       " '__contains__',\n",
       " '__delattr__',\n",
       " '__delitem__',\n",
       " '__dir__',\n",
       " '__doc__',\n",
       " '__eq__',\n",
       " '__format__',\n",
       " '__ge__',\n",
       " '__getattribute__',\n",
       " '__getitem__',\n",
       " '__getstate__',\n",
       " '__gt__',\n",
       " '__hash__',\n",
       " '__init__',\n",
       " '__init_subclass__',\n",
       " '__ior__',\n",
       " '__iter__',\n",
       " '__le__',\n",
       " '__len__',\n",
       " '__lt__',\n",
       " '__ne__',\n",
       " '__new__',\n",
       " '__or__',\n",
       " '__reduce__',\n",
       " '__reduce_ex__',\n",
       " '__repr__',\n",
       " '__reversed__',\n",
       " '__ror__',\n",
       " '__setattr__',\n",
       " '__setitem__',\n",
       " '__sizeof__',\n",
       " '__str__',\n",
       " '__subclasshook__',\n",
       " 'clear',\n",
       " 'copy',\n",
       " 'fromkeys',\n",
       " 'get',\n",
       " 'items',\n",
       " 'keys',\n",
       " 'pop',\n",
       " 'popitem',\n",
       " 'setdefault',\n",
       " 'update',\n",
       " 'values']"
      ]
     },
     "execution_count": 153,
     "metadata": {},
     "output_type": "execute_result"
    }
   ],
   "source": [
    "dir(human1)"
   ]
  },
  {
   "cell_type": "code",
   "execution_count": 154,
   "id": "e498fcfd",
   "metadata": {},
   "outputs": [
    {
     "data": {
      "text/plain": [
       "dict_items([('height', 180), ('weight', 80), ('eye-color', 'green'), ('language', 'berber')])"
      ]
     },
     "execution_count": 154,
     "metadata": {},
     "output_type": "execute_result"
    }
   ],
   "source": [
    "human1.items()"
   ]
  },
  {
   "cell_type": "code",
   "execution_count": 155,
   "id": "3f8a66bc",
   "metadata": {},
   "outputs": [
    {
     "data": {
      "text/plain": [
       "dict_items"
      ]
     },
     "execution_count": 155,
     "metadata": {},
     "output_type": "execute_result"
    }
   ],
   "source": [
    "type(human1.items())"
   ]
  },
  {
   "cell_type": "code",
   "execution_count": 156,
   "id": "1ce63cb1",
   "metadata": {},
   "outputs": [
    {
     "name": "stdout",
     "output_type": "stream",
     "text": [
      "dict_items([('height', 180), ('weight', 80), ('eye-color', 'green'), ('language', 'berber')])\n"
     ]
    }
   ],
   "source": [
    "print(human1.items())"
   ]
  },
  {
   "cell_type": "code",
   "execution_count": 157,
   "id": "441b8c2e",
   "metadata": {},
   "outputs": [
    {
     "data": {
      "text/plain": [
       "dict_keys(['height', 'weight', 'eye-color', 'language'])"
      ]
     },
     "execution_count": 157,
     "metadata": {},
     "output_type": "execute_result"
    }
   ],
   "source": [
    "human1.keys()"
   ]
  },
  {
   "cell_type": "code",
   "execution_count": 158,
   "id": "7196ccba",
   "metadata": {},
   "outputs": [
    {
     "data": {
      "text/plain": [
       "dict_values([180, 80, 'green', 'berber'])"
      ]
     },
     "execution_count": 158,
     "metadata": {},
     "output_type": "execute_result"
    }
   ],
   "source": [
    "human1.values()"
   ]
  },
  {
   "cell_type": "code",
   "execution_count": 159,
   "id": "cf211289",
   "metadata": {},
   "outputs": [
    {
     "data": {
      "text/plain": [
       "4"
      ]
     },
     "execution_count": 159,
     "metadata": {},
     "output_type": "execute_result"
    }
   ],
   "source": [
    "len(human1)"
   ]
  },
  {
   "cell_type": "code",
   "execution_count": 160,
   "id": "b0ab418d",
   "metadata": {},
   "outputs": [],
   "source": [
    "human1['sex']='male'"
   ]
  },
  {
   "cell_type": "code",
   "execution_count": 161,
   "id": "0d4fb730",
   "metadata": {},
   "outputs": [
    {
     "data": {
      "text/plain": [
       "{'height': 180,\n",
       " 'weight': 80,\n",
       " 'eye-color': 'green',\n",
       " 'language': 'berber',\n",
       " 'sex': 'male'}"
      ]
     },
     "execution_count": 161,
     "metadata": {},
     "output_type": "execute_result"
    }
   ],
   "source": [
    "human1"
   ]
  },
  {
   "cell_type": "code",
   "execution_count": 162,
   "id": "aea101de",
   "metadata": {},
   "outputs": [
    {
     "data": {
      "text/plain": [
       "{'height': 180,\n",
       " 'weight': 82,\n",
       " 'eye-color': 'green',\n",
       " 'language': 'berber',\n",
       " 'sex': 'male'}"
      ]
     },
     "execution_count": 162,
     "metadata": {},
     "output_type": "execute_result"
    }
   ],
   "source": [
    "human1['weight']=82\n",
    "human1"
   ]
  },
  {
   "cell_type": "code",
   "execution_count": 163,
   "id": "4558a2ea",
   "metadata": {},
   "outputs": [
    {
     "data": {
      "text/plain": [
       "dict"
      ]
     },
     "execution_count": 163,
     "metadata": {},
     "output_type": "execute_result"
    }
   ],
   "source": [
    "type(human1)"
   ]
  },
  {
   "cell_type": "code",
   "execution_count": 164,
   "id": "932aebea",
   "metadata": {},
   "outputs": [
    {
     "data": {
      "text/plain": [
       "{'eye-color', 'height', 'language', 'sex', 'weight'}"
      ]
     },
     "execution_count": 164,
     "metadata": {},
     "output_type": "execute_result"
    }
   ],
   "source": [
    "#convert to set (by default it takes keys)\n",
    "my_set=set(human1)\n",
    "my_set"
   ]
  },
  {
   "cell_type": "code",
   "execution_count": 165,
   "id": "f8163eae",
   "metadata": {},
   "outputs": [
    {
     "data": {
      "text/plain": [
       "{180, 82, 'berber', 'green', 'male'}"
      ]
     },
     "execution_count": 165,
     "metadata": {},
     "output_type": "execute_result"
    }
   ],
   "source": [
    "my_set=set(human1.values())\n",
    "my_set"
   ]
  },
  {
   "cell_type": "code",
   "execution_count": 166,
   "id": "e4018798",
   "metadata": {},
   "outputs": [
    {
     "data": {
      "text/plain": [
       "['height', 'weight', 'eye-color', 'language', 'sex']"
      ]
     },
     "execution_count": 166,
     "metadata": {},
     "output_type": "execute_result"
    }
   ],
   "source": [
    "my_list=list(human1) #convrt to list\n",
    "my_list"
   ]
  },
  {
   "cell_type": "code",
   "execution_count": 167,
   "id": "320af302",
   "metadata": {},
   "outputs": [
    {
     "data": {
      "text/plain": [
       "[180, 82, 'green', 'berber', 'male']"
      ]
     },
     "execution_count": 167,
     "metadata": {},
     "output_type": "execute_result"
    }
   ],
   "source": [
    "my_list=list(human1.values())\n",
    "my_list"
   ]
  },
  {
   "cell_type": "code",
   "execution_count": 168,
   "id": "20b5c262",
   "metadata": {},
   "outputs": [
    {
     "data": {
      "text/plain": [
       "{'height': 180, 'weight': 82, 'eye-color': 'green', 'language': 'berber'}"
      ]
     },
     "execution_count": 168,
     "metadata": {},
     "output_type": "execute_result"
    }
   ],
   "source": [
    "del human1['sex']\n",
    "human1"
   ]
  },
  {
   "cell_type": "code",
   "execution_count": 169,
   "id": "d3e84b1a",
   "metadata": {},
   "outputs": [
    {
     "data": {
      "text/plain": [
       "{'name': 'Hamza', 'age': 65, 'language': ['francais', 'anglais']}"
      ]
     },
     "execution_count": 169,
     "metadata": {},
     "output_type": "execute_result"
    }
   ],
   "source": [
    "human2={'name': 'Hamza', 'age':65, 'language': ['francais', 'anglais']}\n",
    "human2"
   ]
  },
  {
   "cell_type": "code",
   "execution_count": 170,
   "id": "f2e0b272",
   "metadata": {},
   "outputs": [
    {
     "data": {
      "text/plain": [
       "'Anglais'"
      ]
     },
     "execution_count": 170,
     "metadata": {},
     "output_type": "execute_result"
    }
   ],
   "source": [
    "human2['language'][1].title()"
   ]
  },
  {
   "cell_type": "code",
   "execution_count": 173,
   "id": "9f314af1",
   "metadata": {},
   "outputs": [
    {
     "data": {
      "text/plain": [
       "{1: {'name': 'Hamza', 'age': '27', 'sex': 'Male'},\n",
       " 2: {'name': 'Marie', 'age': '22', 'sex': 'Female'},\n",
       " 3: {'name': 'John', 'age': '62', 'sex': 'Male'}}"
      ]
     },
     "execution_count": 173,
     "metadata": {},
     "output_type": "execute_result"
    }
   ],
   "source": [
    "#nested dictionaries:\n",
    "humans={\n",
    "    1:{'name':'Hamza', 'age':'27', 'sex':'Male'},\n",
    "    2:{'name':'Marie', 'age':'22', 'sex':'Female'},\n",
    "    3:{'name':'John', 'age':'62', 'sex':'Male'}\n",
    "}\n",
    "humans"
   ]
  },
  {
   "cell_type": "code",
   "execution_count": 174,
   "id": "7d00d0fb",
   "metadata": {},
   "outputs": [
    {
     "data": {
      "text/plain": [
       "{'name': 'Hamza', 'age': '27', 'sex': 'Male'}"
      ]
     },
     "execution_count": 174,
     "metadata": {},
     "output_type": "execute_result"
    }
   ],
   "source": [
    "humans[1]"
   ]
  },
  {
   "cell_type": "code",
   "execution_count": 175,
   "id": "c52d9506",
   "metadata": {},
   "outputs": [
    {
     "data": {
      "text/plain": [
       "'Hamza'"
      ]
     },
     "execution_count": 175,
     "metadata": {},
     "output_type": "execute_result"
    }
   ],
   "source": [
    "humans[1]['name']"
   ]
  },
  {
   "cell_type": "code",
   "execution_count": 176,
   "id": "bd75daea",
   "metadata": {},
   "outputs": [
    {
     "data": {
      "text/plain": [
       "'HAMZA'"
      ]
     },
     "execution_count": 176,
     "metadata": {},
     "output_type": "execute_result"
    }
   ],
   "source": [
    "humans[1]['name'].upper()"
   ]
  },
  {
   "cell_type": "code",
   "execution_count": 177,
   "id": "9e07e9fd",
   "metadata": {},
   "outputs": [
    {
     "data": {
      "text/plain": [
       "'female'"
      ]
     },
     "execution_count": 177,
     "metadata": {},
     "output_type": "execute_result"
    }
   ],
   "source": [
    "humans[2]['sex'].lower()"
   ]
  },
  {
   "cell_type": "code",
   "execution_count": 178,
   "id": "bbeadd8c",
   "metadata": {},
   "outputs": [
    {
     "data": {
      "text/plain": [
       "{1: {'name': 'Hamza', 'age': '27', 'sex': 'Male'},\n",
       " 2: {'name': 'Marie', 'age': '22', 'sex': 'Female'},\n",
       " 3: {'name': 'John', 'age': '62', 'sex': 'Male'},\n",
       " 4: {'name': 'Jamal', 'age': '47', 'married': 'No'}}"
      ]
     },
     "execution_count": 178,
     "metadata": {},
     "output_type": "execute_result"
    }
   ],
   "source": [
    "humans[4]={'name': 'Jamal', 'age': '47', 'married': 'No'}\n",
    "humans"
   ]
  },
  {
   "cell_type": "code",
   "execution_count": 179,
   "id": "9ce98c70",
   "metadata": {},
   "outputs": [],
   "source": [
    "del humans[4]['married']"
   ]
  },
  {
   "cell_type": "code",
   "execution_count": 180,
   "id": "fd797a56",
   "metadata": {},
   "outputs": [
    {
     "data": {
      "text/plain": [
       "{1: {'name': 'Hamza', 'age': '27', 'sex': 'Male'},\n",
       " 2: {'name': 'Marie', 'age': '22', 'sex': 'Female'},\n",
       " 3: {'name': 'John', 'age': '62', 'sex': 'Male'},\n",
       " 4: {'name': 'Jamal', 'age': '47'}}"
      ]
     },
     "execution_count": 180,
     "metadata": {},
     "output_type": "execute_result"
    }
   ],
   "source": [
    "humans"
   ]
  },
  {
   "cell_type": "code",
   "execution_count": 181,
   "id": "ecfe64aa",
   "metadata": {},
   "outputs": [
    {
     "data": {
      "text/plain": [
       "{1: {'name': 'Hamza', 'age': '27', 'sex': 'Male'},\n",
       " 3: {'name': 'John', 'age': '62', 'sex': 'Male'}}"
      ]
     },
     "execution_count": 181,
     "metadata": {},
     "output_type": "execute_result"
    }
   ],
   "source": [
    "del humans[2], humans[4]\n",
    "humans"
   ]
  },
  {
   "cell_type": "code",
   "execution_count": null,
   "id": "d87c3d9b",
   "metadata": {},
   "outputs": [],
   "source": []
  }
 ],
 "metadata": {
  "kernelspec": {
   "display_name": "Python 3 (ipykernel)",
   "language": "python",
   "name": "python3"
  },
  "language_info": {
   "codemirror_mode": {
    "name": "ipython",
    "version": 3
   },
   "file_extension": ".py",
   "mimetype": "text/x-python",
   "name": "python",
   "nbconvert_exporter": "python",
   "pygments_lexer": "ipython3",
   "version": "3.11.5"
  }
 },
 "nbformat": 4,
 "nbformat_minor": 5
}
