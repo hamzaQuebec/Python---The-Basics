{
 "cells": [
  {
   "cell_type": "code",
   "execution_count": 1,
   "id": "ea590ba3",
   "metadata": {},
   "outputs": [
    {
     "data": {
      "text/plain": [
       "'\\nif (bool (<something>)==True):\\n    <do something>....\\n'"
      ]
     },
     "execution_count": 1,
     "metadata": {},
     "output_type": "execute_result"
    }
   ],
   "source": [
    "\"\"\"\n",
    "if <condional test>:\n",
    "    <do something>\n",
    "else:\n",
    "    <do something>\n",
    "\"\"\"\n",
    "\n",
    "\"\"\"\n",
    "if (bool (<something>)==True):\n",
    "    <do something>....\n",
    "\"\"\""
   ]
  },
  {
   "cell_type": "code",
   "execution_count": 2,
   "id": "4a46b274",
   "metadata": {},
   "outputs": [
    {
     "name": "stdout",
     "output_type": "stream",
     "text": [
      "Yes it is\n"
     ]
    }
   ],
   "source": [
    "car = \"BMW\"\n",
    "if car ==\"BMW\":\n",
    "    print('Yes it is')"
   ]
  },
  {
   "cell_type": "code",
   "execution_count": 3,
   "id": "e1dc87a2",
   "metadata": {},
   "outputs": [
    {
     "name": "stdout",
     "output_type": "stream",
     "text": [
      "Yes it is\n"
     ]
    }
   ],
   "source": [
    "car = \"BMW\"\n",
    "if True:\n",
    "    print('Yes it is')"
   ]
  },
  {
   "cell_type": "code",
   "execution_count": 4,
   "id": "5975b370",
   "metadata": {},
   "outputs": [],
   "source": [
    "car = \"BMW\"\n",
    "if False:\n",
    "    print('Yes it is')"
   ]
  },
  {
   "cell_type": "code",
   "execution_count": 5,
   "id": "9767ad6c",
   "metadata": {},
   "outputs": [
    {
     "ename": "IndentationError",
     "evalue": "expected an indented block after 'if' statement on line 3 (1375509907.py, line 4)",
     "output_type": "error",
     "traceback": [
      "\u001b[1;36m  Cell \u001b[1;32mIn[5], line 4\u001b[1;36m\u001b[0m\n\u001b[1;33m    print('Yes it is')\u001b[0m\n\u001b[1;37m    ^\u001b[0m\n\u001b[1;31mIndentationError\u001b[0m\u001b[1;31m:\u001b[0m expected an indented block after 'if' statement on line 3\n"
     ]
    }
   ],
   "source": [
    "#IndentationError:\n",
    "car = \"BMW\"\n",
    "if True:\n",
    "print('Yes it is')"
   ]
  },
  {
   "cell_type": "code",
   "execution_count": 6,
   "id": "bb36289f",
   "metadata": {},
   "outputs": [
    {
     "name": "stdout",
     "output_type": "stream",
     "text": [
      "Yes it is\n"
     ]
    }
   ],
   "source": [
    "car = \"BMW\"\n",
    "if car:\n",
    "    print('Yes it is')"
   ]
  },
  {
   "cell_type": "code",
   "execution_count": 7,
   "id": "99f1c4c0",
   "metadata": {},
   "outputs": [],
   "source": [
    "car = '' #empty text , bool(empty text)==False\n",
    "if car:\n",
    "    print('Yes it is')"
   ]
  },
  {
   "cell_type": "code",
   "execution_count": 8,
   "id": "89ed1d8b",
   "metadata": {},
   "outputs": [
    {
     "name": "stdout",
     "output_type": "stream",
     "text": [
      "Nonezero values are true, so this will print!!!\n"
     ]
    }
   ],
   "source": [
    "if 1:\n",
    "    print('Nonezero values are true, so this will print!!!')"
   ]
  },
  {
   "cell_type": "code",
   "execution_count": 9,
   "id": "ef333d85",
   "metadata": {},
   "outputs": [],
   "source": [
    "if 0:\n",
    "    print('Zero is False, so this will not print')"
   ]
  },
  {
   "cell_type": "code",
   "execution_count": 10,
   "id": "130c98d9",
   "metadata": {},
   "outputs": [
    {
     "name": "stdout",
     "output_type": "stream",
     "text": [
      "How old are you: 64\n"
     ]
    }
   ],
   "source": [
    "#remember that 'is', 'is not', 'not', 'in', 'and', 'or', chaining ops can all be used for comparaison\n",
    "age =int(input('How old are you: '))\n",
    "if 45>=age>=60:\n",
    "    print('You are still young!!')"
   ]
  },
  {
   "cell_type": "code",
   "execution_count": 11,
   "id": "1d077dc4",
   "metadata": {},
   "outputs": [
    {
     "name": "stdout",
     "output_type": "stream",
     "text": [
      "How old are you: 61\n",
      "Sorry!!!\n"
     ]
    }
   ],
   "source": [
    "#if ..else\n",
    "age =int(input('How old are you: '))\n",
    "if 45>=age>=60:\n",
    "    print('You are still young!!')\n",
    "else:\n",
    "    print('Sorry!!!')"
   ]
  },
  {
   "cell_type": "code",
   "execution_count": 12,
   "id": "9a341466",
   "metadata": {},
   "outputs": [
    {
     "name": "stdout",
     "output_type": "stream",
     "text": [
      "How old are you: 56\n",
      "You are still young!!\n"
     ]
    }
   ],
   "source": [
    "#if ..elif ...else\n",
    "age =int(input('How old are you: '))\n",
    "if 60>=age>=45:\n",
    "    print('You are still young!!')\n",
    "elif age <45:\n",
    "    print('Sorry!!!')\n",
    "else:\n",
    "    print(\"A bit old!\")"
   ]
  },
  {
   "cell_type": "code",
   "execution_count": 13,
   "id": "39fe87e7",
   "metadata": {},
   "outputs": [
    {
     "name": "stdout",
     "output_type": "stream",
     "text": [
      "B\n"
     ]
    }
   ],
   "source": [
    "grade =85\n",
    "if grade >=90:\n",
    "    print('A')\n",
    "elif grade >=80:\n",
    "    print(\"B\")\n",
    "elif grade >=70:\n",
    "    print(\"C\")\n",
    "elif grade >=60:\n",
    "    print(\"D\")\n",
    "else:\n",
    "    print('E')"
   ]
  },
  {
   "cell_type": "code",
   "execution_count": 14,
   "id": "5cdb5d4e",
   "metadata": {},
   "outputs": [
    {
     "name": "stdout",
     "output_type": "stream",
     "text": [
      "How old are you? 56\n",
      "Where are you from? FRANCE\n",
      "Bonjour, vous êtes encore jeune!!\n"
     ]
    }
   ],
   "source": [
    "#multiple test:\n",
    "age=int(input('How old are you? '))\n",
    "country =input('Where are you from? ')\n",
    "\n",
    "if 60>=float(age)>=45 and country.lower()=='france':\n",
    "    print('Bonjour, vous êtes encore jeune!!')\n",
    "else:\n",
    "    print('Hello!!')"
   ]
  },
  {
   "cell_type": "code",
   "execution_count": 15,
   "id": "3cc5d01e",
   "metadata": {},
   "outputs": [
    {
     "name": "stdout",
     "output_type": "stream",
     "text": [
      "Where are you from?    CAnada\n",
      "Gender ??    maLe\n",
      "Canada, Male\n"
     ]
    }
   ],
   "source": [
    "#try flags\n",
    "\n",
    "country =input('Where are you from?    ')\n",
    "gender=input('Gender ??    ')\n",
    "\n",
    "flags=''\n",
    "if country.lower()=='canada':\n",
    "    flags+='c'\n",
    "if gender.lower()=='male':\n",
    "    flags+='m'\n",
    "else:\n",
    "    flags+='f'\n",
    "if flags=='cm':\n",
    "    print('Canada, Male')\n",
    "elif flags=='cf':\n",
    "    print('Canada, Female')\n",
    "else:\n",
    "    print('???')"
   ]
  },
  {
   "cell_type": "code",
   "execution_count": 16,
   "id": "181544c6",
   "metadata": {},
   "outputs": [],
   "source": [
    "#nesting if statement\n",
    "#if ...:\n",
    "#    if ...\n",
    "#    else...\n",
    "#else:\n",
    "    "
   ]
  },
  {
   "cell_type": "code",
   "execution_count": 17,
   "id": "a3ed4de1",
   "metadata": {},
   "outputs": [
    {
     "data": {
      "text/plain": [
       "'Passed'"
      ]
     },
     "execution_count": 17,
     "metadata": {},
     "output_type": "execute_result"
    }
   ],
   "source": [
    "#Conditional Expressions\n",
    "grade =87\n",
    "if grade >=60:\n",
    "    result ='Passed'\n",
    "else:\n",
    "    result = 'Failed'\n",
    "result"
   ]
  },
  {
   "cell_type": "code",
   "execution_count": 18,
   "id": "5d987a03",
   "metadata": {},
   "outputs": [
    {
     "data": {
      "text/plain": [
       "'Passed'"
      ]
     },
     "execution_count": 18,
     "metadata": {},
     "output_type": "execute_result"
    }
   ],
   "source": [
    "'Passed' if grade >=60 else 'Failed'"
   ]
  },
  {
   "cell_type": "code",
   "execution_count": 19,
   "id": "1984204b",
   "metadata": {},
   "outputs": [
    {
     "name": "stdout",
     "output_type": "stream",
     "text": [
      "Enter a number? 53\n"
     ]
    }
   ],
   "source": [
    "num= int(input('Enter a number? '))"
   ]
  },
  {
   "cell_type": "code",
   "execution_count": 20,
   "id": "10eb4944",
   "metadata": {},
   "outputs": [
    {
     "data": {
      "text/plain": [
       "'Odd number'"
      ]
     },
     "execution_count": 20,
     "metadata": {},
     "output_type": "execute_result"
    }
   ],
   "source": [
    "'Even number' if num%2 ==0 else \"Odd number\""
   ]
  },
  {
   "cell_type": "code",
   "execution_count": 21,
   "id": "15828bf2",
   "metadata": {},
   "outputs": [
    {
     "data": {
      "text/plain": [
       "'E'"
      ]
     },
     "execution_count": 21,
     "metadata": {},
     "output_type": "execute_result"
    }
   ],
   "source": [
    "# grade =85\n",
    "# if grade >=90:\n",
    "#     print('A')\n",
    "# elif grade >=80:\n",
    "#     print(\"B\")\n",
    "# elif grade >=70:\n",
    "#     print(\"C\")\n",
    "# elif grade >=60:\n",
    "#     print(\"D\")\n",
    "# else:\n",
    "#     print('E')\n",
    "grade=59\n",
    "'A' if grade>=90 else (\"B\" if grade >=80 else('C' if grade>=70 else (' D'if grade>=60 else 'E')))"
   ]
  },
  {
   "cell_type": "code",
   "execution_count": 22,
   "id": "4a0346ad",
   "metadata": {},
   "outputs": [
    {
     "data": {
      "text/plain": [
       "[1, 20, 3, 40, 5, 60, 7, 80, 9, 100, 11, 120, 13, 140]"
      ]
     },
     "execution_count": 22,
     "metadata": {},
     "output_type": "execute_result"
    }
   ],
   "source": [
    "#list comprehensions\n",
    "\n",
    "my_list=[i*10 if i%2 == 0 else i for i in range(1,15)]\n",
    "\n",
    "#1, 2, 3, 4, 5, 6, 7, 8, 9, 10, 11, 12, 13, 14\n",
    "#[1, 20, 3, 40, 5, 60, 7, 80, 9, 100, 11, 120, 13, 140]\n",
    "my_list"
   ]
  },
  {
   "cell_type": "code",
   "execution_count": 23,
   "id": "b106285f",
   "metadata": {},
   "outputs": [],
   "source": [
    "#pass statement\n",
    "#to change the if statement later\n",
    "\n",
    "if True:\n",
    "    pass"
   ]
  },
  {
   "cell_type": "code",
   "execution_count": null,
   "id": "d8dbc295",
   "metadata": {},
   "outputs": [],
   "source": []
  }
 ],
 "metadata": {
  "kernelspec": {
   "display_name": "Python 3 (ipykernel)",
   "language": "python",
   "name": "python3"
  },
  "language_info": {
   "codemirror_mode": {
    "name": "ipython",
    "version": 3
   },
   "file_extension": ".py",
   "mimetype": "text/x-python",
   "name": "python",
   "nbconvert_exporter": "python",
   "pygments_lexer": "ipython3",
   "version": "3.11.5"
  }
 },
 "nbformat": 4,
 "nbformat_minor": 5
}
