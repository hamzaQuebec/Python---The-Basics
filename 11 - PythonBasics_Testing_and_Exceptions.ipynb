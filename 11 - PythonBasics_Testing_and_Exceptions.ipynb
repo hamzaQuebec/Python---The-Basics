{
 "cells": [
  {
   "cell_type": "code",
   "execution_count": 1,
   "id": "b4cd0138",
   "metadata": {},
   "outputs": [],
   "source": [
    "# exceptions object\n",
    "# try - except\n",
    "# Handling the ZeroDivisionError Exception"
   ]
  },
  {
   "cell_type": "code",
   "execution_count": 2,
   "id": "4db8fd78",
   "metadata": {},
   "outputs": [
    {
     "ename": "ZeroDivisionError",
     "evalue": "division by zero",
     "output_type": "error",
     "traceback": [
      "\u001b[1;31m---------------------------------------------------------------------------\u001b[0m",
      "\u001b[1;31mZeroDivisionError\u001b[0m                         Traceback (most recent call last)",
      "Cell \u001b[1;32mIn[2], line 1\u001b[0m\n\u001b[1;32m----> 1\u001b[0m \u001b[38;5;241m7\u001b[39m\u001b[38;5;241m/\u001b[39m\u001b[38;5;241m0\u001b[39m\n",
      "\u001b[1;31mZeroDivisionError\u001b[0m: division by zero"
     ]
    }
   ],
   "source": [
    "7/0"
   ]
  },
  {
   "cell_type": "code",
   "execution_count": null,
   "id": "d97a405c",
   "metadata": {},
   "outputs": [],
   "source": [
    "try: \n",
    "    7/0\n",
    "except:\n",
    "    print('Something wrong happened')"
   ]
  },
  {
   "cell_type": "code",
   "execution_count": null,
   "id": "ef86355a",
   "metadata": {},
   "outputs": [],
   "source": [
    "# get exception info\n",
    "try: \n",
    "    7/0\n",
    "except Exception as e:\n",
    "    print(dir(e))\n",
    "    print(e.__class__)\n",
    "    print(e.args[0])\n",
    "    print(e)"
   ]
  },
  {
   "cell_type": "code",
   "execution_count": 3,
   "id": "d6e8ba9c",
   "metadata": {},
   "outputs": [
    {
     "name": "stdout",
     "output_type": "stream",
     "text": [
      "You can not divide by zero!\n"
     ]
    }
   ],
   "source": [
    "try: \n",
    "    7/0\n",
    "except ZeroDivisionError:\n",
    "    print('You can not divide by zero!')"
   ]
  },
  {
   "cell_type": "code",
   "execution_count": 4,
   "id": "11c9d4fd",
   "metadata": {},
   "outputs": [
    {
     "ename": "NameError",
     "evalue": "name 'Hamza' is not defined",
     "output_type": "error",
     "traceback": [
      "\u001b[1;31m---------------------------------------------------------------------------\u001b[0m",
      "\u001b[1;31mNameError\u001b[0m                                 Traceback (most recent call last)",
      "Cell \u001b[1;32mIn[4], line 5\u001b[0m\n\u001b[0;32m      1\u001b[0m \u001b[38;5;66;03m#multiple excepts\u001b[39;00m\n\u001b[0;32m      2\u001b[0m \u001b[38;5;66;03m#default except  last\u001b[39;00m\n\u001b[0;32m      4\u001b[0m \u001b[38;5;28;01mtry\u001b[39;00m:\n\u001b[1;32m----> 5\u001b[0m     \u001b[38;5;28mprint\u001b[39m(Hamza)\n\u001b[0;32m      6\u001b[0m \u001b[38;5;28;01mexcept\u001b[39;00m \u001b[38;5;167;01mZeroDivisionError\u001b[39;00m:\n\u001b[0;32m      7\u001b[0m     \u001b[38;5;28mprint\u001b[39m(\u001b[38;5;124m'\u001b[39m\u001b[38;5;124mYou cannot divide by zero!\u001b[39m\u001b[38;5;124m'\u001b[39m)\n",
      "\u001b[1;31mNameError\u001b[0m: name 'Hamza' is not defined"
     ]
    }
   ],
   "source": [
    "#multiple excepts\n",
    "#default except  last\n",
    "\n",
    "try:\n",
    "    print(Hamza)\n",
    "except ZeroDivisionError:\n",
    "    print('You cannot divide by zero!')\n",
    "#except:\n",
    "#    print('Something wrong happened!!')  #default except  last"
   ]
  },
  {
   "cell_type": "code",
   "execution_count": 5,
   "id": "0c94d707",
   "metadata": {},
   "outputs": [
    {
     "name": "stdout",
     "output_type": "stream",
     "text": [
      "Something wrong happened!!\n"
     ]
    }
   ],
   "source": [
    "try:\n",
    "    print(Hamza)\n",
    "except ZeroDivisionError:\n",
    "    print('You cannot divide by zero!')\n",
    "except:\n",
    "    print('Something wrong happened!!')  #default except  last"
   ]
  },
  {
   "cell_type": "code",
   "execution_count": 6,
   "id": "e2f72faf",
   "metadata": {},
   "outputs": [
    {
     "name": "stdout",
     "output_type": "stream",
     "text": [
      "Something wrong happened which is:  name 'Hamza' is not defined\n"
     ]
    }
   ],
   "source": [
    "try:\n",
    "    print(Hamza)\n",
    "except ZeroDivisionError:\n",
    "    print('You cannot divide by zero!')\n",
    "except Exception as error:\n",
    "    print(f'Something wrong happened which is:  {error.args[0]}')  #default except  last"
   ]
  },
  {
   "cell_type": "code",
   "execution_count": 7,
   "id": "28d64ee9",
   "metadata": {},
   "outputs": [
    {
     "name": "stdout",
     "output_type": "stream",
     "text": [
      "Hamza\n",
      "No errors found\n"
     ]
    }
   ],
   "source": [
    "# 'else' if no errors raised\n",
    "try:\n",
    "    print('Hamza')\n",
    "except ZeroDivisionError:\n",
    "    print('You cannot divide by zero!')\n",
    "except :\n",
    "    print('Something wrong happened !!')\n",
    "else:\n",
    "    print('No errors found')"
   ]
  },
  {
   "cell_type": "code",
   "execution_count": 8,
   "id": "bea3c4f4",
   "metadata": {},
   "outputs": [
    {
     "name": "stdout",
     "output_type": "stream",
     "text": [
      "Something went wrong when opening to the file\n"
     ]
    }
   ],
   "source": [
    "# 'finally ' to be executed whether or not an error is raised\n",
    "\n",
    "try: \n",
    "    f = open('demo_exception_file.txt')\n",
    "    try:\n",
    "        f.write('Hamza Badr')\n",
    "    except:\n",
    "        print('Something went wrong when writing to the file')\n",
    "    finally:\n",
    "        f.close()\n",
    "except:\n",
    "    print('Something went wrong when opening to the file')"
   ]
  },
  {
   "cell_type": "code",
   "execution_count": 9,
   "id": "29b4c15a",
   "metadata": {},
   "outputs": [
    {
     "ename": "Exception",
     "evalue": "Sorry, no numbers below zero",
     "output_type": "error",
     "traceback": [
      "\u001b[1;31m---------------------------------------------------------------------------\u001b[0m",
      "\u001b[1;31mException\u001b[0m                                 Traceback (most recent call last)",
      "Cell \u001b[1;32mIn[9], line 5\u001b[0m\n\u001b[0;32m      3\u001b[0m x\u001b[38;5;241m=\u001b[39m \u001b[38;5;241m-\u001b[39m\u001b[38;5;241m1\u001b[39m\n\u001b[0;32m      4\u001b[0m \u001b[38;5;28;01mif\u001b[39;00m x \u001b[38;5;241m<\u001b[39m \u001b[38;5;241m0\u001b[39m:\n\u001b[1;32m----> 5\u001b[0m     \u001b[38;5;28;01mraise\u001b[39;00m \u001b[38;5;167;01mException\u001b[39;00m(\u001b[38;5;124m\"\u001b[39m\u001b[38;5;124mSorry, no numbers below zero\u001b[39m\u001b[38;5;124m\"\u001b[39m)\n",
      "\u001b[1;31mException\u001b[0m: Sorry, no numbers below zero"
     ]
    }
   ],
   "source": [
    "# raising exceptions with 'raise' statement\n",
    "\n",
    "x= -1\n",
    "if x < 0:\n",
    "    raise Exception(\"Sorry, no numbers below zero\")"
   ]
  },
  {
   "cell_type": "code",
   "execution_count": 10,
   "id": "bda7e4fc",
   "metadata": {},
   "outputs": [
    {
     "name": "stdout",
     "output_type": "stream",
     "text": [
      "Me connais tu ??\n"
     ]
    }
   ],
   "source": [
    "try:\n",
    "    raise Exception('Hi buddy')\n",
    "except Exception:\n",
    "    print('Me connais tu ??')"
   ]
  },
  {
   "cell_type": "code",
   "execution_count": 11,
   "id": "8d4ef394",
   "metadata": {},
   "outputs": [
    {
     "name": "stdout",
     "output_type": "stream",
     "text": [
      "As if nothing happened\n"
     ]
    }
   ],
   "source": [
    "# fail silently\n",
    "\n",
    "try:\n",
    "    10/0\n",
    "except:\n",
    "    pass\n",
    "print('As if nothing happened')"
   ]
  },
  {
   "cell_type": "code",
   "execution_count": null,
   "id": "36e7bc68",
   "metadata": {},
   "outputs": [],
   "source": []
  }
 ],
 "metadata": {
  "kernelspec": {
   "display_name": "Python 3 (ipykernel)",
   "language": "python",
   "name": "python3"
  },
  "language_info": {
   "codemirror_mode": {
    "name": "ipython",
    "version": 3
   },
   "file_extension": ".py",
   "mimetype": "text/x-python",
   "name": "python",
   "nbconvert_exporter": "python",
   "pygments_lexer": "ipython3",
   "version": "3.11.5"
  }
 },
 "nbformat": 4,
 "nbformat_minor": 5
}
