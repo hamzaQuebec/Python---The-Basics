{
 "cells": [
  {
   "cell_type": "code",
   "execution_count": 1,
   "id": "6da66028",
   "metadata": {},
   "outputs": [
    {
     "name": "stdout",
     "output_type": "stream",
     "text": [
      "Hello Hamza , python the basics\n"
     ]
    }
   ],
   "source": [
    "print('Hello Hamza , python the basics')"
   ]
  },
  {
   "cell_type": "markdown",
   "id": "3d57718a",
   "metadata": {},
   "source": [
    "# 1- Variables"
   ]
  },
  {
   "cell_type": "code",
   "execution_count": 2,
   "id": "17ae491a",
   "metadata": {},
   "outputs": [
    {
     "data": {
      "text/plain": [
       "13"
      ]
     },
     "execution_count": 2,
     "metadata": {},
     "output_type": "execute_result"
    }
   ],
   "source": [
    "13"
   ]
  },
  {
   "cell_type": "code",
   "execution_count": 3,
   "id": "b2877693",
   "metadata": {},
   "outputs": [
    {
     "data": {
      "text/plain": [
       "71"
      ]
     },
     "execution_count": 3,
     "metadata": {},
     "output_type": "execute_result"
    }
   ],
   "source": [
    "25+46"
   ]
  },
  {
   "cell_type": "code",
   "execution_count": 4,
   "id": "2ca50d8f",
   "metadata": {},
   "outputs": [
    {
     "data": {
      "text/plain": [
       "19.3"
      ]
     },
     "execution_count": 4,
     "metadata": {},
     "output_type": "execute_result"
    }
   ],
   "source": [
    "19.3"
   ]
  },
  {
   "cell_type": "code",
   "execution_count": 5,
   "id": "a201b8c8",
   "metadata": {},
   "outputs": [
    {
     "data": {
      "text/plain": [
       "32.42"
      ]
     },
     "execution_count": 5,
     "metadata": {},
     "output_type": "execute_result"
    }
   ],
   "source": [
    "6*(52.63-4)/9"
   ]
  },
  {
   "cell_type": "code",
   "execution_count": 6,
   "id": "866ed039",
   "metadata": {},
   "outputs": [
    {
     "data": {
      "text/plain": [
       "'Bonjour mon ami'"
      ]
     },
     "execution_count": 6,
     "metadata": {},
     "output_type": "execute_result"
    }
   ],
   "source": [
    "'Bonjour mon ami'"
   ]
  },
  {
   "cell_type": "markdown",
   "id": "bc6fdfca",
   "metadata": {},
   "source": [
    "## 1.1 Variables and assignment Statements"
   ]
  },
  {
   "cell_type": "code",
   "execution_count": 7,
   "id": "13823844",
   "metadata": {},
   "outputs": [],
   "source": [
    "x=7"
   ]
  },
  {
   "cell_type": "code",
   "execution_count": 8,
   "id": "738106a0",
   "metadata": {},
   "outputs": [],
   "source": [
    "y=45"
   ]
  },
  {
   "cell_type": "code",
   "execution_count": 9,
   "id": "1a866927",
   "metadata": {},
   "outputs": [
    {
     "data": {
      "text/plain": [
       "52"
      ]
     },
     "execution_count": 9,
     "metadata": {},
     "output_type": "execute_result"
    }
   ],
   "source": [
    "x+y"
   ]
  },
  {
   "cell_type": "code",
   "execution_count": 10,
   "id": "b125cab0",
   "metadata": {},
   "outputs": [],
   "source": [
    "total=x+y"
   ]
  },
  {
   "cell_type": "code",
   "execution_count": 11,
   "id": "cda021ee",
   "metadata": {},
   "outputs": [
    {
     "data": {
      "text/plain": [
       "52"
      ]
     },
     "execution_count": 11,
     "metadata": {},
     "output_type": "execute_result"
    }
   ],
   "source": [
    "total"
   ]
  },
  {
   "cell_type": "code",
   "execution_count": 12,
   "id": "71751298",
   "metadata": {},
   "outputs": [],
   "source": [
    "#float\n",
    "x=6.3"
   ]
  },
  {
   "cell_type": "code",
   "execution_count": 13,
   "id": "1176f50c",
   "metadata": {},
   "outputs": [],
   "source": [
    "#integer\n",
    "y=-2"
   ]
  },
  {
   "cell_type": "code",
   "execution_count": 14,
   "id": "56ce426e",
   "metadata": {},
   "outputs": [
    {
     "data": {
      "text/plain": [
       "8.3"
      ]
     },
     "execution_count": 14,
     "metadata": {},
     "output_type": "execute_result"
    }
   ],
   "source": [
    "x-y"
   ]
  },
  {
   "cell_type": "code",
   "execution_count": 15,
   "id": "ed66f01c",
   "metadata": {},
   "outputs": [
    {
     "data": {
      "text/plain": [
       "14000000000"
      ]
     },
     "execution_count": 15,
     "metadata": {},
     "output_type": "execute_result"
    }
   ],
   "source": [
    "#very large numbers can be more readable by underscores:\n",
    "universe_age = 14_000_000_000\n",
    "universe_age"
   ]
  },
  {
   "cell_type": "code",
   "execution_count": 16,
   "id": "63429a86",
   "metadata": {},
   "outputs": [
    {
     "data": {
      "text/plain": [
       "(1, 2, 3)"
      ]
     },
     "execution_count": 16,
     "metadata": {},
     "output_type": "execute_result"
    }
   ],
   "source": [
    "#multiple assignements\n",
    "x,y,z=1,2,3\n",
    "x, y , z"
   ]
  },
  {
   "cell_type": "code",
   "execution_count": 17,
   "id": "c70adafb",
   "metadata": {},
   "outputs": [
    {
     "data": {
      "text/plain": [
       "(150, 150)"
      ]
     },
     "execution_count": 17,
     "metadata": {},
     "output_type": "execute_result"
    }
   ],
   "source": [
    "x=y=150\n",
    "x, y"
   ]
  },
  {
   "cell_type": "markdown",
   "id": "17dd3c2d",
   "metadata": {},
   "source": [
    "## 1.2 Numbers"
   ]
  },
  {
   "cell_type": "code",
   "execution_count": 18,
   "id": "e118cddd",
   "metadata": {},
   "outputs": [
    {
     "name": "stdout",
     "output_type": "stream",
     "text": [
      "20\n",
      "10\n",
      "100\n",
      "100000000000000000000\n"
     ]
    }
   ],
   "source": [
    "x=10\n",
    "x+=10 # x= x+10\n",
    "print(x)\n",
    "\n",
    "x-=10 # x= x-10\n",
    "print(x)\n",
    "\n",
    "x*=10 # x= x*10\n",
    "print(x)\n",
    "\n",
    "x**=10 # x= x**10\n",
    "print(x)"
   ]
  },
  {
   "cell_type": "code",
   "execution_count": 19,
   "id": "a2f2ae5c",
   "metadata": {},
   "outputs": [
    {
     "data": {
      "text/plain": [
       "80"
      ]
     },
     "execution_count": 19,
     "metadata": {},
     "output_type": "execute_result"
    }
   ],
   "source": [
    "#multiplication \n",
    "10*8"
   ]
  },
  {
   "cell_type": "code",
   "execution_count": 20,
   "id": "daaf943e",
   "metadata": {},
   "outputs": [
    {
     "data": {
      "text/plain": [
       "1024"
      ]
     },
     "execution_count": 20,
     "metadata": {},
     "output_type": "execute_result"
    }
   ],
   "source": [
    "#exponentiation \n",
    "2**10"
   ]
  },
  {
   "cell_type": "code",
   "execution_count": 21,
   "id": "c371c7cf",
   "metadata": {},
   "outputs": [
    {
     "data": {
      "text/plain": [
       "3.0"
      ]
     },
     "execution_count": 21,
     "metadata": {},
     "output_type": "execute_result"
    }
   ],
   "source": [
    "9**(1/2) #square root"
   ]
  },
  {
   "cell_type": "code",
   "execution_count": 22,
   "id": "7d7c37d8",
   "metadata": {},
   "outputs": [
    {
     "data": {
      "text/plain": [
       "3.0"
      ]
     },
     "execution_count": 22,
     "metadata": {},
     "output_type": "execute_result"
    }
   ],
   "source": [
    "import math\n",
    "math.sqrt(9)"
   ]
  },
  {
   "cell_type": "code",
   "execution_count": 23,
   "id": "1131bb26",
   "metadata": {},
   "outputs": [],
   "source": [
    "#True division (/) vs floor division (//)"
   ]
  },
  {
   "cell_type": "code",
   "execution_count": 24,
   "id": "6d50bd74",
   "metadata": {},
   "outputs": [
    {
     "data": {
      "text/plain": [
       "1.75"
      ]
     },
     "execution_count": 24,
     "metadata": {},
     "output_type": "execute_result"
    }
   ],
   "source": [
    "7/4"
   ]
  },
  {
   "cell_type": "code",
   "execution_count": 25,
   "id": "f3edc5ed",
   "metadata": {},
   "outputs": [
    {
     "data": {
      "text/plain": [
       "1"
      ]
     },
     "execution_count": 25,
     "metadata": {},
     "output_type": "execute_result"
    }
   ],
   "source": [
    "7//4 "
   ]
  },
  {
   "cell_type": "code",
   "execution_count": 26,
   "id": "693cc376",
   "metadata": {},
   "outputs": [
    {
     "data": {
      "text/plain": [
       "0"
      ]
     },
     "execution_count": 26,
     "metadata": {},
     "output_type": "execute_result"
    }
   ],
   "source": [
    "3//5"
   ]
  },
  {
   "cell_type": "code",
   "execution_count": 27,
   "id": "f6abcc57",
   "metadata": {},
   "outputs": [
    {
     "data": {
      "text/plain": [
       "2"
      ]
     },
     "execution_count": 27,
     "metadata": {},
     "output_type": "execute_result"
    }
   ],
   "source": [
    "14//7"
   ]
  },
  {
   "cell_type": "code",
   "execution_count": 28,
   "id": "ead11cf5",
   "metadata": {},
   "outputs": [
    {
     "data": {
      "text/plain": [
       "-2"
      ]
     },
     "execution_count": 28,
     "metadata": {},
     "output_type": "execute_result"
    }
   ],
   "source": [
    "-14//7"
   ]
  },
  {
   "cell_type": "code",
   "execution_count": 29,
   "id": "c12c72b0",
   "metadata": {},
   "outputs": [
    {
     "data": {
      "text/plain": [
       "-3.25"
      ]
     },
     "execution_count": 29,
     "metadata": {},
     "output_type": "execute_result"
    }
   ],
   "source": [
    "-13/4"
   ]
  },
  {
   "cell_type": "code",
   "execution_count": 30,
   "id": "ea1b1fed",
   "metadata": {},
   "outputs": [
    {
     "data": {
      "text/plain": [
       "3"
      ]
     },
     "execution_count": 30,
     "metadata": {},
     "output_type": "execute_result"
    }
   ],
   "source": [
    "13//4"
   ]
  },
  {
   "cell_type": "code",
   "execution_count": 31,
   "id": "31324bef",
   "metadata": {},
   "outputs": [
    {
     "data": {
      "text/plain": [
       "-4"
      ]
     },
     "execution_count": 31,
     "metadata": {},
     "output_type": "execute_result"
    }
   ],
   "source": [
    "-13//4"
   ]
  },
  {
   "cell_type": "markdown",
   "id": "bffde321",
   "metadata": {},
   "source": [
    "###  Exception and Tracebacks"
   ]
  },
  {
   "cell_type": "code",
   "execution_count": 32,
   "id": "a6ed758d",
   "metadata": {},
   "outputs": [
    {
     "ename": "ZeroDivisionError",
     "evalue": "division by zero",
     "output_type": "error",
     "traceback": [
      "\u001b[1;31m---------------------------------------------------------------------------\u001b[0m",
      "\u001b[1;31mZeroDivisionError\u001b[0m                         Traceback (most recent call last)",
      "Cell \u001b[1;32mIn[32], line 2\u001b[0m\n\u001b[0;32m      1\u001b[0m \u001b[38;5;66;03m#zero division error\u001b[39;00m\n\u001b[1;32m----> 2\u001b[0m \u001b[38;5;241m1234\u001b[39m\u001b[38;5;241m/\u001b[39m\u001b[38;5;241m0\u001b[39m\n",
      "\u001b[1;31mZeroDivisionError\u001b[0m: division by zero"
     ]
    }
   ],
   "source": [
    "#zero division error\n",
    "1234/0"
   ]
  },
  {
   "cell_type": "code",
   "execution_count": 33,
   "id": "5898a0a8",
   "metadata": {},
   "outputs": [
    {
     "ename": "NameError",
     "evalue": "name 'q' is not defined",
     "output_type": "error",
     "traceback": [
      "\u001b[1;31m---------------------------------------------------------------------------\u001b[0m",
      "\u001b[1;31mNameError\u001b[0m                                 Traceback (most recent call last)",
      "Cell \u001b[1;32mIn[33], line 2\u001b[0m\n\u001b[0;32m      1\u001b[0m \u001b[38;5;66;03m#NameEror , exemple : name 'q' not defined\u001b[39;00m\n\u001b[1;32m----> 2\u001b[0m q\u001b[38;5;241m+\u001b[39m\u001b[38;5;241m1234\u001b[39m\n",
      "\u001b[1;31mNameError\u001b[0m: name 'q' is not defined"
     ]
    }
   ],
   "source": [
    "#NameEror , exemple : name 'q' not defined\n",
    "q+1234"
   ]
  },
  {
   "cell_type": "markdown",
   "id": "52b421c3",
   "metadata": {},
   "source": [
    "### Remainder Operator , Modulo"
   ]
  },
  {
   "cell_type": "code",
   "execution_count": 34,
   "id": "ef6090ea",
   "metadata": {},
   "outputs": [
    {
     "data": {
      "text/plain": [
       "2"
      ]
     },
     "execution_count": 34,
     "metadata": {},
     "output_type": "execute_result"
    }
   ],
   "source": [
    "17%5 # 3 2/5"
   ]
  },
  {
   "cell_type": "code",
   "execution_count": 35,
   "id": "ad237d28",
   "metadata": {},
   "outputs": [
    {
     "data": {
      "text/plain": [
       "0.5"
      ]
     },
     "execution_count": 35,
     "metadata": {},
     "output_type": "execute_result"
    }
   ],
   "source": [
    "7.5%3.5"
   ]
  },
  {
   "cell_type": "code",
   "execution_count": 36,
   "id": "7fcb257a",
   "metadata": {},
   "outputs": [
    {
     "data": {
      "text/plain": [
       "0"
      ]
     },
     "execution_count": 36,
     "metadata": {},
     "output_type": "execute_result"
    }
   ],
   "source": [
    "4%2"
   ]
  },
  {
   "cell_type": "markdown",
   "id": "973e885c",
   "metadata": {},
   "source": [
    "### Grouping Expressions with Parenthesis"
   ]
  },
  {
   "cell_type": "code",
   "execution_count": 37,
   "id": "c6b48376",
   "metadata": {},
   "outputs": [
    {
     "data": {
      "text/plain": [
       "80"
      ]
     },
     "execution_count": 37,
     "metadata": {},
     "output_type": "execute_result"
    }
   ],
   "source": [
    "10*(5+3)"
   ]
  },
  {
   "cell_type": "code",
   "execution_count": 38,
   "id": "a5dc6699",
   "metadata": {},
   "outputs": [
    {
     "data": {
      "text/plain": [
       "53"
      ]
     },
     "execution_count": 38,
     "metadata": {},
     "output_type": "execute_result"
    }
   ],
   "source": [
    "10 * 5 + 3"
   ]
  },
  {
   "cell_type": "markdown",
   "id": "1a1f88bf",
   "metadata": {},
   "source": [
    "## 1.3 String "
   ]
  },
  {
   "cell_type": "code",
   "execution_count": 39,
   "id": "0b70c7d3",
   "metadata": {},
   "outputs": [
    {
     "data": {
      "text/plain": [
       "'This is a string'"
      ]
     },
     "execution_count": 39,
     "metadata": {},
     "output_type": "execute_result"
    }
   ],
   "source": [
    "\"This is a string\""
   ]
  },
  {
   "cell_type": "code",
   "execution_count": 40,
   "id": "a6c7ed70",
   "metadata": {},
   "outputs": [
    {
     "data": {
      "text/plain": [
       "'This is also a string'"
      ]
     },
     "execution_count": 40,
     "metadata": {},
     "output_type": "execute_result"
    }
   ],
   "source": [
    "'This is also a string'"
   ]
  },
  {
   "cell_type": "code",
   "execution_count": 41,
   "id": "ffa0a965",
   "metadata": {},
   "outputs": [
    {
     "data": {
      "text/plain": [
       "\"The language 'Python' is named after Monty Python, not the snake.\""
      ]
     },
     "execution_count": 41,
     "metadata": {},
     "output_type": "execute_result"
    }
   ],
   "source": [
    "\"The language 'Python' is named after Monty Python, not the snake.\""
   ]
  },
  {
   "cell_type": "code",
   "execution_count": 42,
   "id": "b083a19a",
   "metadata": {},
   "outputs": [
    {
     "data": {
      "text/plain": [
       "'I told my friend, \"Python is my favorite language!\"'"
      ]
     },
     "execution_count": 42,
     "metadata": {},
     "output_type": "execute_result"
    }
   ],
   "source": [
    "'I told my friend, \"Python is my favorite language!\"'"
   ]
  },
  {
   "cell_type": "code",
   "execution_count": 43,
   "id": "fd34f2f6",
   "metadata": {},
   "outputs": [
    {
     "data": {
      "text/plain": [
       "\"One of Python's strenghts is its diverse an supportive community.\""
      ]
     },
     "execution_count": 43,
     "metadata": {},
     "output_type": "execute_result"
    }
   ],
   "source": [
    "\"One of Python's strenghts is its diverse an supportive community.\""
   ]
  },
  {
   "cell_type": "markdown",
   "id": "fad7f94b",
   "metadata": {},
   "source": [
    "### Escape characters"
   ]
  },
  {
   "cell_type": "code",
   "execution_count": 44,
   "id": "c2d24d5b",
   "metadata": {},
   "outputs": [],
   "source": [
    "#\\' \\\" \\\\ \\n \\r \\t \\b \\f \\ooo \\xhh "
   ]
  },
  {
   "cell_type": "code",
   "execution_count": 45,
   "id": "b8ea78f4",
   "metadata": {},
   "outputs": [
    {
     "data": {
      "text/plain": [
       "'I told my friend, \"Python\" is my favorite language! '"
      ]
     },
     "execution_count": 45,
     "metadata": {},
     "output_type": "execute_result"
    }
   ],
   "source": [
    "\"I told my friend, \\\"Python\\\" is my favorite language! \""
   ]
  },
  {
   "cell_type": "markdown",
   "id": "3cb7894a",
   "metadata": {},
   "source": [
    "### triple-quoted string "
   ]
  },
  {
   "cell_type": "code",
   "execution_count": 46,
   "id": "2822390c",
   "metadata": {},
   "outputs": [],
   "source": [
    "triple_quoted_string= \"\"\"This is a triple-quoted string \n",
    "that spans two lines\"\"\""
   ]
  },
  {
   "cell_type": "code",
   "execution_count": 47,
   "id": "3e376090",
   "metadata": {},
   "outputs": [
    {
     "name": "stdout",
     "output_type": "stream",
     "text": [
      "This is a triple-quoted string \n",
      "that spans two lines\n"
     ]
    }
   ],
   "source": [
    "print(triple_quoted_string)"
   ]
  },
  {
   "cell_type": "code",
   "execution_count": 48,
   "id": "faa32cc3",
   "metadata": {},
   "outputs": [
    {
     "data": {
      "text/plain": [
       "'This is a triple-quoted string \\nthat spans two lines'"
      ]
     },
     "execution_count": 48,
     "metadata": {},
     "output_type": "execute_result"
    }
   ],
   "source": [
    "triple_quoted_string"
   ]
  },
  {
   "cell_type": "markdown",
   "id": "0fdeb7e3",
   "metadata": {},
   "source": [
    "### Buillt-in functions"
   ]
  },
  {
   "cell_type": "code",
   "execution_count": 49,
   "id": "4902d9fa",
   "metadata": {},
   "outputs": [],
   "source": [
    "# ex. abs(), dict(), print(), float(), map(), tuple(), type()"
   ]
  },
  {
   "cell_type": "code",
   "execution_count": 50,
   "id": "c67dffea",
   "metadata": {},
   "outputs": [
    {
     "data": {
      "text/plain": [
       "25"
      ]
     },
     "execution_count": 50,
     "metadata": {},
     "output_type": "execute_result"
    }
   ],
   "source": [
    "abs(-25)"
   ]
  },
  {
   "cell_type": "code",
   "execution_count": 51,
   "id": "75a56ae0",
   "metadata": {},
   "outputs": [
    {
     "data": {
      "text/plain": [
       "'Y'"
      ]
     },
     "execution_count": 51,
     "metadata": {},
     "output_type": "execute_result"
    }
   ],
   "source": [
    "chr(89)"
   ]
  },
  {
   "cell_type": "code",
   "execution_count": 52,
   "id": "b07c8c73",
   "metadata": {},
   "outputs": [
    {
     "data": {
      "text/plain": [
       "(43, 201)"
      ]
     },
     "execution_count": 52,
     "metadata": {},
     "output_type": "execute_result"
    }
   ],
   "source": [
    "ord('+'), ord(\"É\")"
   ]
  },
  {
   "cell_type": "code",
   "execution_count": 53,
   "id": "b86786f9",
   "metadata": {},
   "outputs": [
    {
     "data": {
      "text/plain": [
       "5"
      ]
     },
     "execution_count": 53,
     "metadata": {},
     "output_type": "execute_result"
    }
   ],
   "source": [
    "len('Hamza')"
   ]
  },
  {
   "cell_type": "code",
   "execution_count": 54,
   "id": "6e41e8ff",
   "metadata": {},
   "outputs": [
    {
     "data": {
      "text/plain": [
       "789"
      ]
     },
     "execution_count": 54,
     "metadata": {},
     "output_type": "execute_result"
    }
   ],
   "source": [
    "max(45, 86, 1, 789, 124)"
   ]
  },
  {
   "cell_type": "code",
   "execution_count": 55,
   "id": "a898e986",
   "metadata": {},
   "outputs": [
    {
     "data": {
      "text/plain": [
       "-9"
      ]
     },
     "execution_count": 55,
     "metadata": {},
     "output_type": "execute_result"
    }
   ],
   "source": [
    "min(12,45,3,-9,45)"
   ]
  },
  {
   "cell_type": "code",
   "execution_count": 56,
   "id": "720f115d",
   "metadata": {},
   "outputs": [
    {
     "data": {
      "text/plain": [
       "57"
      ]
     },
     "execution_count": 56,
     "metadata": {},
     "output_type": "execute_result"
    }
   ],
   "source": [
    "sum([12, 45])"
   ]
  },
  {
   "cell_type": "code",
   "execution_count": 57,
   "id": "dcb1ee96",
   "metadata": {},
   "outputs": [
    {
     "name": "stdout",
     "output_type": "stream",
     "text": [
      " My name is Hamza and i'm 40 year old\n"
     ]
    }
   ],
   "source": [
    "age=40\n",
    "name=\"Hamza\"\n",
    "print(f\" My name is {name} and i'm {age} year old\")"
   ]
  },
  {
   "cell_type": "code",
   "execution_count": 58,
   "id": "8022ac86",
   "metadata": {},
   "outputs": [
    {
     "name": "stdout",
     "output_type": "stream",
     "text": [
      "\tPython\n"
     ]
    }
   ],
   "source": [
    "print(\"\\tPython\")"
   ]
  },
  {
   "cell_type": "code",
   "execution_count": 59,
   "id": "fefd860a",
   "metadata": {},
   "outputs": [
    {
     "name": "stdout",
     "output_type": "stream",
     "text": [
      "Language:\n",
      "Python\n",
      "C\n",
      "JavaScript\n"
     ]
    }
   ],
   "source": [
    "print(\"Language:\\nPython\\nC\\nJavaScript\")"
   ]
  },
  {
   "cell_type": "code",
   "execution_count": 60,
   "id": "7d7ec506",
   "metadata": {},
   "outputs": [
    {
     "name": "stdout",
     "output_type": "stream",
     "text": [
      "Language:\n",
      "\tPython\n",
      "\tC\n",
      "\tJavaScript\n"
     ]
    }
   ],
   "source": [
    "print(\"Language:\\n\\tPython\\n\\tC\\n\\tJavaScript\")"
   ]
  },
  {
   "cell_type": "code",
   "execution_count": 61,
   "id": "ce490c97",
   "metadata": {},
   "outputs": [
    {
     "name": "stdout",
     "output_type": "stream",
     "text": [
      "Hello Hamza\n",
      "Hello \r",
      "Hamza\n",
      "Hello Ham\r",
      "za\n"
     ]
    }
   ],
   "source": [
    "print(\"Hello Hamza\")\n",
    "print(\"Hello \\rHamza\")\n",
    "print(\"Hello Ham\\rza\")"
   ]
  },
  {
   "cell_type": "markdown",
   "id": "9e5eda1a",
   "metadata": {},
   "source": [
    "### Getting input from the User"
   ]
  },
  {
   "cell_type": "code",
   "execution_count": 62,
   "id": "4c314891",
   "metadata": {},
   "outputs": [
    {
     "name": "stdout",
     "output_type": "stream",
     "text": [
      "What is your name? Hamza\n"
     ]
    }
   ],
   "source": [
    "name= input(\"What is your name? \")"
   ]
  },
  {
   "cell_type": "code",
   "execution_count": 63,
   "id": "2f6d1679",
   "metadata": {},
   "outputs": [
    {
     "data": {
      "text/plain": [
       "'Hamza'"
      ]
     },
     "execution_count": 63,
     "metadata": {},
     "output_type": "execute_result"
    }
   ],
   "source": [
    "name"
   ]
  },
  {
   "cell_type": "code",
   "execution_count": 64,
   "id": "13766d66",
   "metadata": {},
   "outputs": [
    {
     "name": "stdout",
     "output_type": "stream",
     "text": [
      "Hamza\n"
     ]
    }
   ],
   "source": [
    "print(name)"
   ]
  },
  {
   "cell_type": "code",
   "execution_count": 65,
   "id": "90cb37c6",
   "metadata": {},
   "outputs": [
    {
     "name": "stdout",
     "output_type": "stream",
     "text": [
      "What is your name? Hamza\n",
      "Hello Mr. Hamza\n"
     ]
    }
   ],
   "source": [
    "name= input(\"What is your name? \")\n",
    "print('Hello Mr. '+ name)"
   ]
  },
  {
   "cell_type": "code",
   "execution_count": 66,
   "id": "23b601eb",
   "metadata": {},
   "outputs": [
    {
     "name": "stdout",
     "output_type": "stream",
     "text": [
      "Enter first number: 23\n",
      "Enter second number: 53\n"
     ]
    },
    {
     "data": {
      "text/plain": [
       "'2353'"
      ]
     },
     "execution_count": 66,
     "metadata": {},
     "output_type": "execute_result"
    }
   ],
   "source": [
    "# Function input() always returns a string\n",
    "value1=input('Enter first number: ')\n",
    "value2=input('Enter second number: ')\n",
    "\n",
    "value1+value2 #string concatenation"
   ]
  },
  {
   "cell_type": "code",
   "execution_count": 67,
   "id": "2ad35b3a",
   "metadata": {},
   "outputs": [
    {
     "name": "stdout",
     "output_type": "stream",
     "text": [
      "What is your name? Hamza\n",
      "What is your age? 89\n",
      "\n",
      "Hi Hamza, you are 89 years old\n"
     ]
    }
   ],
   "source": [
    "name=input('What is your name? ')\n",
    "age=input('What is your age? ')\n",
    "print(f\"\\nHi {name}, you are {age} years old\")"
   ]
  },
  {
   "cell_type": "code",
   "execution_count": 68,
   "id": "e01a489f",
   "metadata": {},
   "outputs": [
    {
     "name": "stdout",
     "output_type": "stream",
     "text": [
      "What is your name?Hamza\n",
      "And what is your year of birth?1924\n",
      "\n",
      "Hi  Hamza , you are  100  years old\n"
     ]
    }
   ],
   "source": [
    "#Getting an inteher from the user and using int() function\n",
    "\n",
    "name=input(\"What is your name?\")\n",
    "yob=input(\"And what is your year of birth?\")\n",
    "\n",
    "age=2024 - int(yob) #type cast\n",
    "\n",
    "print(\"\\nHi \", name, \", you are \", age, \" years old\")"
   ]
  },
  {
   "cell_type": "code",
   "execution_count": 69,
   "id": "7ac52c1e",
   "metadata": {},
   "outputs": [
    {
     "name": "stdout",
     "output_type": "stream",
     "text": [
      "Enter an integer: 23\n",
      "23\n",
      "Befor casting:  <class 'str'>\n",
      "After casting: <class 'int'>\n"
     ]
    }
   ],
   "source": [
    "value=input(\"Enter an integer: \")\n",
    "\n",
    "\n",
    "print(value)\n",
    "print(\"Befor casting: \", type(value))\n",
    "\n",
    "value= int(value)\n",
    "print(\"After casting:\", type(value))"
   ]
  },
  {
   "cell_type": "code",
   "execution_count": 70,
   "id": "c448b2bb",
   "metadata": {},
   "outputs": [
    {
     "data": {
      "text/plain": [
       "11"
      ]
     },
     "execution_count": 70,
     "metadata": {},
     "output_type": "execute_result"
    }
   ],
   "source": [
    "int(11.56)"
   ]
  },
  {
   "cell_type": "code",
   "execution_count": 71,
   "id": "f722c11f",
   "metadata": {},
   "outputs": [
    {
     "data": {
      "text/plain": [
       "12.0"
      ]
     },
     "execution_count": 71,
     "metadata": {},
     "output_type": "execute_result"
    }
   ],
   "source": [
    "float(12)"
   ]
  },
  {
   "cell_type": "markdown",
   "id": "c77ee830",
   "metadata": {},
   "source": [
    "### Everything is object"
   ]
  },
  {
   "cell_type": "code",
   "execution_count": 72,
   "id": "27f2a6ad",
   "metadata": {},
   "outputs": [
    {
     "data": {
      "text/plain": [
       "int"
      ]
     },
     "execution_count": 72,
     "metadata": {},
     "output_type": "execute_result"
    }
   ],
   "source": [
    "#using type()\n",
    "type(7)"
   ]
  },
  {
   "cell_type": "code",
   "execution_count": 73,
   "id": "4e40e20e",
   "metadata": {},
   "outputs": [
    {
     "data": {
      "text/plain": [
       "float"
      ]
     },
     "execution_count": 73,
     "metadata": {},
     "output_type": "execute_result"
    }
   ],
   "source": [
    "type(10.2)"
   ]
  },
  {
   "cell_type": "code",
   "execution_count": 74,
   "id": "76a3f5e7",
   "metadata": {},
   "outputs": [
    {
     "data": {
      "text/plain": [
       "str"
      ]
     },
     "execution_count": 74,
     "metadata": {},
     "output_type": "execute_result"
    }
   ],
   "source": [
    "type(\"Python\")"
   ]
  },
  {
   "cell_type": "code",
   "execution_count": 75,
   "id": "7bd5b9c9",
   "metadata": {},
   "outputs": [
    {
     "data": {
      "text/plain": [
       "str"
      ]
     },
     "execution_count": 75,
     "metadata": {},
     "output_type": "execute_result"
    }
   ],
   "source": [
    "type('Python')"
   ]
  },
  {
   "cell_type": "code",
   "execution_count": 76,
   "id": "07143ce3",
   "metadata": {},
   "outputs": [
    {
     "data": {
      "text/plain": [
       "str"
      ]
     },
     "execution_count": 76,
     "metadata": {},
     "output_type": "execute_result"
    }
   ],
   "source": [
    "type(\"\"\"Python\"\"\")"
   ]
  },
  {
   "cell_type": "code",
   "execution_count": 77,
   "id": "e8d1d231",
   "metadata": {},
   "outputs": [
    {
     "data": {
      "text/plain": [
       "int"
      ]
     },
     "execution_count": 77,
     "metadata": {},
     "output_type": "execute_result"
    }
   ],
   "source": [
    "x=13\n",
    "type(x)"
   ]
  },
  {
   "cell_type": "code",
   "execution_count": 78,
   "id": "0fa49e0a",
   "metadata": {},
   "outputs": [
    {
     "data": {
      "text/plain": [
       "2197"
      ]
     },
     "execution_count": 78,
     "metadata": {},
     "output_type": "execute_result"
    }
   ],
   "source": [
    "x**3"
   ]
  },
  {
   "cell_type": "code",
   "execution_count": 79,
   "id": "0ae1f90d",
   "metadata": {},
   "outputs": [
    {
     "data": {
      "text/plain": [
       "str"
      ]
     },
     "execution_count": 79,
     "metadata": {},
     "output_type": "execute_result"
    }
   ],
   "source": [
    "y=\"Python\"\n",
    "type(y)"
   ]
  },
  {
   "cell_type": "code",
   "execution_count": 80,
   "id": "f8e406dc",
   "metadata": {},
   "outputs": [
    {
     "ename": "TypeError",
     "evalue": "unsupported operand type(s) for ** or pow(): 'str' and 'int'",
     "output_type": "error",
     "traceback": [
      "\u001b[1;31m---------------------------------------------------------------------------\u001b[0m",
      "\u001b[1;31mTypeError\u001b[0m                                 Traceback (most recent call last)",
      "Cell \u001b[1;32mIn[80], line 2\u001b[0m\n\u001b[0;32m      1\u001b[0m \u001b[38;5;66;03m#TypeError\u001b[39;00m\n\u001b[1;32m----> 2\u001b[0m y\u001b[38;5;241m*\u001b[39m\u001b[38;5;241m*\u001b[39m\u001b[38;5;241m3\u001b[39m\n",
      "\u001b[1;31mTypeError\u001b[0m: unsupported operand type(s) for ** or pow(): 'str' and 'int'"
     ]
    }
   ],
   "source": [
    "#TypeError\n",
    "y**3"
   ]
  },
  {
   "cell_type": "code",
   "execution_count": 81,
   "id": "37d5c277",
   "metadata": {},
   "outputs": [
    {
     "data": {
      "text/plain": [
       "str"
      ]
     },
     "execution_count": 81,
     "metadata": {},
     "output_type": "execute_result"
    }
   ],
   "source": [
    "some_text='This is text'\n",
    "type(some_text)"
   ]
  },
  {
   "cell_type": "code",
   "execution_count": 82,
   "id": "29aea93b",
   "metadata": {},
   "outputs": [
    {
     "data": {
      "text/plain": [
       "int"
      ]
     },
     "execution_count": 82,
     "metadata": {},
     "output_type": "execute_result"
    }
   ],
   "source": [
    "#Dynamic Typing\n",
    "type(x)"
   ]
  },
  {
   "cell_type": "code",
   "execution_count": 83,
   "id": "93c54979",
   "metadata": {},
   "outputs": [
    {
     "data": {
      "text/plain": [
       "float"
      ]
     },
     "execution_count": 83,
     "metadata": {},
     "output_type": "execute_result"
    }
   ],
   "source": [
    "x=4.1\n",
    "type(x)"
   ]
  },
  {
   "cell_type": "code",
   "execution_count": 84,
   "id": "ea4cbd09",
   "metadata": {},
   "outputs": [
    {
     "data": {
      "text/plain": [
       "str"
      ]
     },
     "execution_count": 84,
     "metadata": {},
     "output_type": "execute_result"
    }
   ],
   "source": [
    "x='Dog'\n",
    "type(x)"
   ]
  },
  {
   "cell_type": "code",
   "execution_count": 85,
   "id": "833dcbcb",
   "metadata": {},
   "outputs": [],
   "source": [
    "z: int =102 "
   ]
  },
  {
   "cell_type": "code",
   "execution_count": 86,
   "id": "a64f9d48",
   "metadata": {},
   "outputs": [
    {
     "data": {
      "text/plain": [
       "102"
      ]
     },
     "execution_count": 86,
     "metadata": {},
     "output_type": "execute_result"
    }
   ],
   "source": [
    "z"
   ]
  },
  {
   "cell_type": "code",
   "execution_count": 87,
   "id": "9b8da9ee",
   "metadata": {},
   "outputs": [
    {
     "data": {
      "text/plain": [
       "int"
      ]
     },
     "execution_count": 87,
     "metadata": {},
     "output_type": "execute_result"
    }
   ],
   "source": [
    "type(z)"
   ]
  },
  {
   "cell_type": "code",
   "execution_count": 88,
   "id": "54865340",
   "metadata": {},
   "outputs": [
    {
     "ename": "SyntaxError",
     "evalue": "invalid syntax (2717535508.py, line 1)",
     "output_type": "error",
     "traceback": [
      "\u001b[1;36m  Cell \u001b[1;32mIn[88], line 1\u001b[1;36m\u001b[0m\n\u001b[1;33m    z.\u001b[0m\n\u001b[1;37m      ^\u001b[0m\n\u001b[1;31mSyntaxError\u001b[0m\u001b[1;31m:\u001b[0m invalid syntax\n"
     ]
    }
   ],
   "source": [
    "z."
   ]
  },
  {
   "cell_type": "code",
   "execution_count": 89,
   "id": "71ebc791",
   "metadata": {},
   "outputs": [
    {
     "name": "stdout",
     "output_type": "stream",
     "text": [
      "Ada Lovelace\n"
     ]
    }
   ],
   "source": [
    "#String as Objects\n",
    "name = \"ada lovelace\"\n",
    "print(name.title())  #title() is called a  method\n"
   ]
  },
  {
   "cell_type": "code",
   "execution_count": 90,
   "id": "d112b7ff",
   "metadata": {},
   "outputs": [
    {
     "name": "stdout",
     "output_type": "stream",
     "text": [
      "ADA LOVELACE\n",
      "ada lovelace\n"
     ]
    }
   ],
   "source": [
    "name=\"Ada Lovelace\"\n",
    "print(name.upper())\n",
    "print(name.lower())"
   ]
  },
  {
   "cell_type": "code",
   "execution_count": 91,
   "id": "445040da",
   "metadata": {},
   "outputs": [
    {
     "data": {
      "text/plain": [
       "['Ada', 'Lovelace']"
      ]
     },
     "execution_count": 91,
     "metadata": {},
     "output_type": "execute_result"
    }
   ],
   "source": [
    "name.split()"
   ]
  },
  {
   "cell_type": "code",
   "execution_count": 92,
   "id": "ff213335",
   "metadata": {},
   "outputs": [
    {
     "name": "stdout",
     "output_type": "stream",
     "text": [
      "Hello, Ada Lovelace!\n"
     ]
    }
   ],
   "source": [
    "#concatenation\n",
    "first_name=\"ada\"\n",
    "last_name=\"lovelace\"\n",
    "full_name=first_name + \" \"+ last_name\n",
    "\n",
    "print(\"Hello, \"+ full_name.title() + \"!\")\n"
   ]
  },
  {
   "cell_type": "code",
   "execution_count": 93,
   "id": "21f3b7ca",
   "metadata": {},
   "outputs": [
    {
     "data": {
      "text/plain": [
       "'HAMZA'"
      ]
     },
     "execution_count": 93,
     "metadata": {},
     "output_type": "execute_result"
    }
   ],
   "source": [
    "'Hamza'.upper()"
   ]
  },
  {
   "cell_type": "code",
   "execution_count": 94,
   "id": "03103cef",
   "metadata": {},
   "outputs": [],
   "source": [
    "#remove space r of l\n",
    "name= ' Hamza'"
   ]
  },
  {
   "cell_type": "code",
   "execution_count": 95,
   "id": "6fad9f50",
   "metadata": {},
   "outputs": [
    {
     "data": {
      "text/plain": [
       "'Hamza'"
      ]
     },
     "execution_count": 95,
     "metadata": {},
     "output_type": "execute_result"
    }
   ],
   "source": [
    "name.lstrip()"
   ]
  },
  {
   "cell_type": "code",
   "execution_count": 96,
   "id": "0aa3c0bf",
   "metadata": {},
   "outputs": [
    {
     "data": {
      "text/plain": [
       "'Hamza    '"
      ]
     },
     "execution_count": 96,
     "metadata": {},
     "output_type": "execute_result"
    }
   ],
   "source": [
    "name= 'Hamza    '\n",
    "name"
   ]
  },
  {
   "cell_type": "code",
   "execution_count": 97,
   "id": "56257bc8",
   "metadata": {},
   "outputs": [
    {
     "data": {
      "text/plain": [
       "'Hamza'"
      ]
     },
     "execution_count": 97,
     "metadata": {},
     "output_type": "execute_result"
    }
   ],
   "source": [
    "name.rstrip()"
   ]
  },
  {
   "cell_type": "code",
   "execution_count": 98,
   "id": "65885e7f",
   "metadata": {},
   "outputs": [
    {
     "data": {
      "text/plain": [
       "' Hamza     Badr  '"
      ]
     },
     "execution_count": 98,
     "metadata": {},
     "output_type": "execute_result"
    }
   ],
   "source": [
    "full_name=' Hamza     Badr  '\n",
    "full_name"
   ]
  },
  {
   "cell_type": "code",
   "execution_count": 99,
   "id": "fb6212ee",
   "metadata": {},
   "outputs": [
    {
     "data": {
      "text/plain": [
       "'Hamza     Badr'"
      ]
     },
     "execution_count": 99,
     "metadata": {},
     "output_type": "execute_result"
    }
   ],
   "source": [
    "full_name.strip()"
   ]
  },
  {
   "cell_type": "code",
   "execution_count": 100,
   "id": "cea3c49c",
   "metadata": {},
   "outputs": [
    {
     "ename": "TypeError",
     "evalue": "can only concatenate str (not \"int\") to str",
     "output_type": "error",
     "traceback": [
      "\u001b[1;31m---------------------------------------------------------------------------\u001b[0m",
      "\u001b[1;31mTypeError\u001b[0m                                 Traceback (most recent call last)",
      "Cell \u001b[1;32mIn[100], line 3\u001b[0m\n\u001b[0;32m      1\u001b[0m \u001b[38;5;66;03m#TypeError concat\u001b[39;00m\n\u001b[0;32m      2\u001b[0m age\u001b[38;5;241m=\u001b[39m\u001b[38;5;241m25\u001b[39m\n\u001b[1;32m----> 3\u001b[0m message\u001b[38;5;241m=\u001b[39m\u001b[38;5;124m\"\u001b[39m\u001b[38;5;124mHappy \u001b[39m\u001b[38;5;124m\"\u001b[39m\u001b[38;5;241m+\u001b[39mage\u001b[38;5;241m+\u001b[39m\u001b[38;5;124m\"\u001b[39m\u001b[38;5;124mth Birthday\u001b[39m\u001b[38;5;124m\"\u001b[39m\n\u001b[0;32m      4\u001b[0m message\n",
      "\u001b[1;31mTypeError\u001b[0m: can only concatenate str (not \"int\") to str"
     ]
    }
   ],
   "source": [
    "#TypeError concat\n",
    "age=25\n",
    "message=\"Happy \"+age+\"th Birthday\"\n",
    "message"
   ]
  },
  {
   "cell_type": "code",
   "execution_count": 101,
   "id": "89da86ef",
   "metadata": {},
   "outputs": [
    {
     "data": {
      "text/plain": [
       "'Happy 25th Birthday'"
      ]
     },
     "execution_count": 101,
     "metadata": {},
     "output_type": "execute_result"
    }
   ],
   "source": [
    "#casting int\n",
    "message=\"Happy \"+str(age)+\"th Birthday\"\n",
    "message"
   ]
  },
  {
   "cell_type": "code",
   "execution_count": 102,
   "id": "0d4d7499",
   "metadata": {},
   "outputs": [],
   "source": [
    "#Number as objects"
   ]
  },
  {
   "cell_type": "code",
   "execution_count": 103,
   "id": "e9255600",
   "metadata": {},
   "outputs": [
    {
     "data": {
      "text/plain": [
       "7"
      ]
     },
     "execution_count": 103,
     "metadata": {},
     "output_type": "execute_result"
    }
   ],
   "source": [
    "x=109\n",
    "x.bit_length()"
   ]
  },
  {
   "cell_type": "code",
   "execution_count": 104,
   "id": "755777b6",
   "metadata": {},
   "outputs": [
    {
     "data": {
      "text/plain": [
       "(109, 1)"
      ]
     },
     "execution_count": 104,
     "metadata": {},
     "output_type": "execute_result"
    }
   ],
   "source": [
    "x.as_integer_ratio()"
   ]
  },
  {
   "cell_type": "code",
   "execution_count": 105,
   "id": "7a649fc6",
   "metadata": {},
   "outputs": [
    {
     "data": {
      "text/plain": [
       "(5491576795624899, 140737488355328)"
      ]
     },
     "execution_count": 105,
     "metadata": {},
     "output_type": "execute_result"
    }
   ],
   "source": [
    "y=39.02\n",
    "y.as_integer_ratio()"
   ]
  },
  {
   "cell_type": "code",
   "execution_count": 106,
   "id": "b0ccac71",
   "metadata": {},
   "outputs": [
    {
     "data": {
      "text/plain": [
       "109.0"
      ]
     },
     "execution_count": 106,
     "metadata": {},
     "output_type": "execute_result"
    }
   ],
   "source": [
    "float(x)"
   ]
  },
  {
   "cell_type": "code",
   "execution_count": 107,
   "id": "4e533d28",
   "metadata": {},
   "outputs": [
    {
     "data": {
      "text/plain": [
       "int"
      ]
     },
     "execution_count": 107,
     "metadata": {},
     "output_type": "execute_result"
    }
   ],
   "source": [
    "type(x)"
   ]
  },
  {
   "cell_type": "code",
   "execution_count": 108,
   "id": "2b94fa73",
   "metadata": {},
   "outputs": [
    {
     "name": "stdout",
     "output_type": "stream",
     "text": [
      "1600.0\n",
      "11\n"
     ]
    }
   ],
   "source": [
    "z=1.6e3\n",
    "print(z)\n",
    "print(int(z).bit_length())"
   ]
  },
  {
   "cell_type": "code",
   "execution_count": 109,
   "id": "c15df4a4",
   "metadata": {},
   "outputs": [
    {
     "data": {
      "text/plain": [
       "'0b11001000000'"
      ]
     },
     "execution_count": 109,
     "metadata": {},
     "output_type": "execute_result"
    }
   ],
   "source": [
    "bin(int(z))"
   ]
  },
  {
   "cell_type": "code",
   "execution_count": 110,
   "id": "41485343",
   "metadata": {},
   "outputs": [
    {
     "data": {
      "text/plain": [
       "'0b1'"
      ]
     },
     "execution_count": 110,
     "metadata": {},
     "output_type": "execute_result"
    }
   ],
   "source": [
    "bin(1)"
   ]
  },
  {
   "cell_type": "code",
   "execution_count": 111,
   "id": "6899106c",
   "metadata": {},
   "outputs": [
    {
     "data": {
      "text/plain": [
       "'0b11111111'"
      ]
     },
     "execution_count": 111,
     "metadata": {},
     "output_type": "execute_result"
    }
   ],
   "source": [
    "bin(255)"
   ]
  },
  {
   "cell_type": "code",
   "execution_count": 112,
   "id": "5318f488",
   "metadata": {},
   "outputs": [
    {
     "data": {
      "text/plain": [
       "['__add__',\n",
       " '__class__',\n",
       " '__contains__',\n",
       " '__delattr__',\n",
       " '__dir__',\n",
       " '__doc__',\n",
       " '__eq__',\n",
       " '__format__',\n",
       " '__ge__',\n",
       " '__getattribute__',\n",
       " '__getitem__',\n",
       " '__getnewargs__',\n",
       " '__getstate__',\n",
       " '__gt__',\n",
       " '__hash__',\n",
       " '__init__',\n",
       " '__init_subclass__',\n",
       " '__iter__',\n",
       " '__le__',\n",
       " '__len__',\n",
       " '__lt__',\n",
       " '__mod__',\n",
       " '__mul__',\n",
       " '__ne__',\n",
       " '__new__',\n",
       " '__reduce__',\n",
       " '__reduce_ex__',\n",
       " '__repr__',\n",
       " '__rmod__',\n",
       " '__rmul__',\n",
       " '__setattr__',\n",
       " '__sizeof__',\n",
       " '__str__',\n",
       " '__subclasshook__',\n",
       " 'capitalize',\n",
       " 'casefold',\n",
       " 'center',\n",
       " 'count',\n",
       " 'encode',\n",
       " 'endswith',\n",
       " 'expandtabs',\n",
       " 'find',\n",
       " 'format',\n",
       " 'format_map',\n",
       " 'index',\n",
       " 'isalnum',\n",
       " 'isalpha',\n",
       " 'isascii',\n",
       " 'isdecimal',\n",
       " 'isdigit',\n",
       " 'isidentifier',\n",
       " 'islower',\n",
       " 'isnumeric',\n",
       " 'isprintable',\n",
       " 'isspace',\n",
       " 'istitle',\n",
       " 'isupper',\n",
       " 'join',\n",
       " 'ljust',\n",
       " 'lower',\n",
       " 'lstrip',\n",
       " 'maketrans',\n",
       " 'partition',\n",
       " 'removeprefix',\n",
       " 'removesuffix',\n",
       " 'replace',\n",
       " 'rfind',\n",
       " 'rindex',\n",
       " 'rjust',\n",
       " 'rpartition',\n",
       " 'rsplit',\n",
       " 'rstrip',\n",
       " 'split',\n",
       " 'splitlines',\n",
       " 'startswith',\n",
       " 'strip',\n",
       " 'swapcase',\n",
       " 'title',\n",
       " 'translate',\n",
       " 'upper',\n",
       " 'zfill']"
      ]
     },
     "execution_count": 112,
     "metadata": {},
     "output_type": "execute_result"
    }
   ],
   "source": [
    "#Using dir() function to display possible attributes\n",
    "name=\"Hamza\"\n",
    "dir(name)"
   ]
  },
  {
   "cell_type": "code",
   "execution_count": 113,
   "id": "dccd674c",
   "metadata": {},
   "outputs": [
    {
     "data": {
      "text/plain": [
       "['__abs__',\n",
       " '__add__',\n",
       " '__and__',\n",
       " '__bool__',\n",
       " '__ceil__',\n",
       " '__class__',\n",
       " '__delattr__',\n",
       " '__dir__',\n",
       " '__divmod__',\n",
       " '__doc__',\n",
       " '__eq__',\n",
       " '__float__',\n",
       " '__floor__',\n",
       " '__floordiv__',\n",
       " '__format__',\n",
       " '__ge__',\n",
       " '__getattribute__',\n",
       " '__getnewargs__',\n",
       " '__getstate__',\n",
       " '__gt__',\n",
       " '__hash__',\n",
       " '__index__',\n",
       " '__init__',\n",
       " '__init_subclass__',\n",
       " '__int__',\n",
       " '__invert__',\n",
       " '__le__',\n",
       " '__lshift__',\n",
       " '__lt__',\n",
       " '__mod__',\n",
       " '__mul__',\n",
       " '__ne__',\n",
       " '__neg__',\n",
       " '__new__',\n",
       " '__or__',\n",
       " '__pos__',\n",
       " '__pow__',\n",
       " '__radd__',\n",
       " '__rand__',\n",
       " '__rdivmod__',\n",
       " '__reduce__',\n",
       " '__reduce_ex__',\n",
       " '__repr__',\n",
       " '__rfloordiv__',\n",
       " '__rlshift__',\n",
       " '__rmod__',\n",
       " '__rmul__',\n",
       " '__ror__',\n",
       " '__round__',\n",
       " '__rpow__',\n",
       " '__rrshift__',\n",
       " '__rshift__',\n",
       " '__rsub__',\n",
       " '__rtruediv__',\n",
       " '__rxor__',\n",
       " '__setattr__',\n",
       " '__sizeof__',\n",
       " '__str__',\n",
       " '__sub__',\n",
       " '__subclasshook__',\n",
       " '__truediv__',\n",
       " '__trunc__',\n",
       " '__xor__',\n",
       " 'as_integer_ratio',\n",
       " 'bit_count',\n",
       " 'bit_length',\n",
       " 'conjugate',\n",
       " 'denominator',\n",
       " 'from_bytes',\n",
       " 'imag',\n",
       " 'numerator',\n",
       " 'real',\n",
       " 'to_bytes']"
      ]
     },
     "execution_count": 113,
     "metadata": {},
     "output_type": "execute_result"
    }
   ],
   "source": [
    "age=23\n",
    "dir(age)"
   ]
  },
  {
   "cell_type": "code",
   "execution_count": 114,
   "id": "2cb9fc5a",
   "metadata": {},
   "outputs": [
    {
     "data": {
      "text/plain": [
       "b'\\x17'"
      ]
     },
     "execution_count": 114,
     "metadata": {},
     "output_type": "execute_result"
    }
   ],
   "source": [
    "age.to_bytes()"
   ]
  },
  {
   "cell_type": "markdown",
   "id": "eaf93a06",
   "metadata": {},
   "source": [
    "### Boolean"
   ]
  },
  {
   "cell_type": "code",
   "execution_count": 115,
   "id": "b442f0f1",
   "metadata": {},
   "outputs": [
    {
     "data": {
      "text/plain": [
       "(bool, bool)"
      ]
     },
     "execution_count": 115,
     "metadata": {},
     "output_type": "execute_result"
    }
   ],
   "source": [
    "type(True), type(False)"
   ]
  },
  {
   "cell_type": "code",
   "execution_count": 116,
   "id": "d61608ca",
   "metadata": {},
   "outputs": [
    {
     "data": {
      "text/plain": [
       "(True, False)"
      ]
     },
     "execution_count": 116,
     "metadata": {},
     "output_type": "execute_result"
    }
   ],
   "source": [
    "True, False"
   ]
  },
  {
   "cell_type": "code",
   "execution_count": 117,
   "id": "f259e6e8",
   "metadata": {},
   "outputs": [
    {
     "data": {
      "text/plain": [
       "True"
      ]
     },
     "execution_count": 117,
     "metadata": {},
     "output_type": "execute_result"
    }
   ],
   "source": [
    "True and True"
   ]
  },
  {
   "cell_type": "code",
   "execution_count": 118,
   "id": "58643b4c",
   "metadata": {},
   "outputs": [
    {
     "data": {
      "text/plain": [
       "True"
      ]
     },
     "execution_count": 118,
     "metadata": {},
     "output_type": "execute_result"
    }
   ],
   "source": [
    "True or True"
   ]
  },
  {
   "cell_type": "code",
   "execution_count": 119,
   "id": "797cc88f",
   "metadata": {},
   "outputs": [
    {
     "data": {
      "text/plain": [
       "False"
      ]
     },
     "execution_count": 119,
     "metadata": {},
     "output_type": "execute_result"
    }
   ],
   "source": [
    "False and False"
   ]
  },
  {
   "cell_type": "code",
   "execution_count": 120,
   "id": "e3a7b078",
   "metadata": {},
   "outputs": [
    {
     "data": {
      "text/plain": [
       "False"
      ]
     },
     "execution_count": 120,
     "metadata": {},
     "output_type": "execute_result"
    }
   ],
   "source": [
    "False or False"
   ]
  },
  {
   "cell_type": "code",
   "execution_count": 121,
   "id": "5d62a327",
   "metadata": {},
   "outputs": [
    {
     "data": {
      "text/plain": [
       "False"
      ]
     },
     "execution_count": 121,
     "metadata": {},
     "output_type": "execute_result"
    }
   ],
   "source": [
    "False and True"
   ]
  },
  {
   "cell_type": "code",
   "execution_count": 122,
   "id": "9e222405",
   "metadata": {},
   "outputs": [
    {
     "data": {
      "text/plain": [
       "True"
      ]
     },
     "execution_count": 122,
     "metadata": {},
     "output_type": "execute_result"
    }
   ],
   "source": [
    "True or False"
   ]
  },
  {
   "cell_type": "code",
   "execution_count": 123,
   "id": "13afda2c",
   "metadata": {},
   "outputs": [],
   "source": [
    "#comparaison operators:"
   ]
  },
  {
   "cell_type": "code",
   "execution_count": 124,
   "id": "507410ee",
   "metadata": {},
   "outputs": [
    {
     "data": {
      "text/plain": [
       "False"
      ]
     },
     "execution_count": 124,
     "metadata": {},
     "output_type": "execute_result"
    }
   ],
   "source": [
    "1==2 #equal"
   ]
  },
  {
   "cell_type": "code",
   "execution_count": 125,
   "id": "07237fde",
   "metadata": {},
   "outputs": [
    {
     "data": {
      "text/plain": [
       "True"
      ]
     },
     "execution_count": 125,
     "metadata": {},
     "output_type": "execute_result"
    }
   ],
   "source": [
    "4>2 #greater than"
   ]
  },
  {
   "cell_type": "code",
   "execution_count": 126,
   "id": "5b02e55a",
   "metadata": {},
   "outputs": [
    {
     "data": {
      "text/plain": [
       "True"
      ]
     },
     "execution_count": 126,
     "metadata": {},
     "output_type": "execute_result"
    }
   ],
   "source": [
    "not 1==2"
   ]
  },
  {
   "cell_type": "code",
   "execution_count": 127,
   "id": "b7b53386",
   "metadata": {},
   "outputs": [
    {
     "data": {
      "text/plain": [
       "True"
      ]
     },
     "execution_count": 127,
     "metadata": {},
     "output_type": "execute_result"
    }
   ],
   "source": [
    "12!=18"
   ]
  },
  {
   "cell_type": "code",
   "execution_count": 128,
   "id": "f3d03814",
   "metadata": {},
   "outputs": [
    {
     "data": {
      "text/plain": [
       "bool"
      ]
     },
     "execution_count": 128,
     "metadata": {},
     "output_type": "execute_result"
    }
   ],
   "source": [
    "type( not 89 < 100)"
   ]
  },
  {
   "cell_type": "code",
   "execution_count": 129,
   "id": "22f3a293",
   "metadata": {},
   "outputs": [
    {
     "data": {
      "text/plain": [
       "True"
      ]
     },
     "execution_count": 129,
     "metadata": {},
     "output_type": "execute_result"
    }
   ],
   "source": [
    "#chaining comparaison operators\n",
    "x=3\n",
    "1<= x <=5"
   ]
  },
  {
   "cell_type": "code",
   "execution_count": 130,
   "id": "d407f646",
   "metadata": {},
   "outputs": [
    {
     "data": {
      "text/plain": [
       "True"
      ]
     },
     "execution_count": 130,
     "metadata": {},
     "output_type": "execute_result"
    }
   ],
   "source": [
    "# 0 is False, any other number is True\n",
    "bool(98954.3)"
   ]
  },
  {
   "cell_type": "code",
   "execution_count": 131,
   "id": "d089f002",
   "metadata": {},
   "outputs": [
    {
     "data": {
      "text/plain": [
       "True"
      ]
     },
     "execution_count": 131,
     "metadata": {},
     "output_type": "execute_result"
    }
   ],
   "source": [
    "bool(-526)"
   ]
  },
  {
   "cell_type": "code",
   "execution_count": 132,
   "id": "88642b73",
   "metadata": {},
   "outputs": [
    {
     "data": {
      "text/plain": [
       "False"
      ]
     },
     "execution_count": 132,
     "metadata": {},
     "output_type": "execute_result"
    }
   ],
   "source": [
    "bool(0)"
   ]
  },
  {
   "cell_type": "code",
   "execution_count": 133,
   "id": "86c5fa90",
   "metadata": {},
   "outputs": [
    {
     "data": {
      "text/plain": [
       "True"
      ]
     },
     "execution_count": 133,
     "metadata": {},
     "output_type": "execute_result"
    }
   ],
   "source": [
    "#Empty string is False, any other string is True\n",
    "bool('Hamza')"
   ]
  },
  {
   "cell_type": "code",
   "execution_count": 134,
   "id": "7bedd3de",
   "metadata": {},
   "outputs": [
    {
     "data": {
      "text/plain": [
       "False"
      ]
     },
     "execution_count": 134,
     "metadata": {},
     "output_type": "execute_result"
    }
   ],
   "source": [
    "bool(\"\")"
   ]
  },
  {
   "cell_type": "code",
   "execution_count": 135,
   "id": "796e4c4a",
   "metadata": {},
   "outputs": [
    {
     "data": {
      "text/plain": [
       "True"
      ]
     },
     "execution_count": 135,
     "metadata": {},
     "output_type": "execute_result"
    }
   ],
   "source": [
    "bool(\"     \")"
   ]
  },
  {
   "cell_type": "code",
   "execution_count": 136,
   "id": "eb5395f9",
   "metadata": {},
   "outputs": [
    {
     "data": {
      "text/plain": [
       "('True', 'False')"
      ]
     },
     "execution_count": 136,
     "metadata": {},
     "output_type": "execute_result"
    }
   ],
   "source": [
    "#Converting to and from boolean\n",
    "str(True), str(False)"
   ]
  },
  {
   "cell_type": "code",
   "execution_count": 137,
   "id": "e895b26a",
   "metadata": {},
   "outputs": [
    {
     "data": {
      "text/plain": [
       "(1, 0)"
      ]
     },
     "execution_count": 137,
     "metadata": {},
     "output_type": "execute_result"
    }
   ],
   "source": [
    "int(True), int(False)"
   ]
  },
  {
   "cell_type": "code",
   "execution_count": 138,
   "id": "6dd85350",
   "metadata": {},
   "outputs": [
    {
     "data": {
      "text/plain": [
       "7"
      ]
     },
     "execution_count": 138,
     "metadata": {},
     "output_type": "execute_result"
    }
   ],
   "source": [
    "6+True"
   ]
  },
  {
   "cell_type": "code",
   "execution_count": 139,
   "id": "7ec3f374",
   "metadata": {},
   "outputs": [
    {
     "data": {
      "text/plain": [
       "9"
      ]
     },
     "execution_count": 139,
     "metadata": {},
     "output_type": "execute_result"
    }
   ],
   "source": [
    "9-False"
   ]
  },
  {
   "cell_type": "code",
   "execution_count": 140,
   "id": "c5f52930",
   "metadata": {},
   "outputs": [
    {
     "data": {
      "text/plain": [
       "0"
      ]
     },
     "execution_count": 140,
     "metadata": {},
     "output_type": "execute_result"
    }
   ],
   "source": [
    "13*False"
   ]
  },
  {
   "cell_type": "code",
   "execution_count": 141,
   "id": "3f65a75c",
   "metadata": {},
   "outputs": [
    {
     "name": "stdout",
     "output_type": "stream",
     "text": [
      "True\n"
     ]
    }
   ],
   "source": [
    "#Boolean assignment\n",
    "boolean_true= 25 >=25\n",
    "print(boolean_true)"
   ]
  },
  {
   "cell_type": "code",
   "execution_count": 142,
   "id": "258d0a8b",
   "metadata": {},
   "outputs": [
    {
     "name": "stdout",
     "output_type": "stream",
     "text": [
      "False\n"
     ]
    }
   ],
   "source": [
    "print(not boolean_true)"
   ]
  },
  {
   "cell_type": "code",
   "execution_count": 143,
   "id": "984e86be",
   "metadata": {},
   "outputs": [
    {
     "name": "stdout",
     "output_type": "stream",
     "text": [
      "True\n",
      "True\n"
     ]
    }
   ],
   "source": [
    "print(not (not boolean_true))\n",
    "print( not not boolean_true)"
   ]
  },
  {
   "cell_type": "code",
   "execution_count": 144,
   "id": "aa476c8e",
   "metadata": {},
   "outputs": [
    {
     "data": {
      "text/plain": [
       "False"
      ]
     },
     "execution_count": 144,
     "metadata": {},
     "output_type": "execute_result"
    }
   ],
   "source": [
    "boolean_false= 0!=0\n",
    "boolean_false"
   ]
  },
  {
   "cell_type": "code",
   "execution_count": 145,
   "id": "8d71551c",
   "metadata": {},
   "outputs": [
    {
     "data": {
      "text/plain": [
       "True"
      ]
     },
     "execution_count": 145,
     "metadata": {},
     "output_type": "execute_result"
    }
   ],
   "source": [
    "boolean_true"
   ]
  },
  {
   "cell_type": "code",
   "execution_count": 146,
   "id": "1e93b0fb",
   "metadata": {},
   "outputs": [
    {
     "data": {
      "text/plain": [
       "False"
      ]
     },
     "execution_count": 146,
     "metadata": {},
     "output_type": "execute_result"
    }
   ],
   "source": [
    "boolean_true and boolean_false"
   ]
  },
  {
   "cell_type": "code",
   "execution_count": 147,
   "id": "cde27cf8",
   "metadata": {},
   "outputs": [
    {
     "data": {
      "text/plain": [
       "True"
      ]
     },
     "execution_count": 147,
     "metadata": {},
     "output_type": "execute_result"
    }
   ],
   "source": [
    "boolean_true or boolean_false"
   ]
  },
  {
   "cell_type": "code",
   "execution_count": 148,
   "id": "1ce47451",
   "metadata": {},
   "outputs": [
    {
     "data": {
      "text/plain": [
       "True"
      ]
     },
     "execution_count": 148,
     "metadata": {},
     "output_type": "execute_result"
    }
   ],
   "source": [
    "# is and in keywords\n",
    "'H' in 'Hamza'"
   ]
  },
  {
   "cell_type": "code",
   "execution_count": 149,
   "id": "9f02cdbd",
   "metadata": {},
   "outputs": [
    {
     "data": {
      "text/plain": [
       "False"
      ]
     },
     "execution_count": 149,
     "metadata": {},
     "output_type": "execute_result"
    }
   ],
   "source": [
    "'1' in [1,2,3]"
   ]
  },
  {
   "cell_type": "code",
   "execution_count": 150,
   "id": "fe86c580",
   "metadata": {},
   "outputs": [
    {
     "data": {
      "text/plain": [
       "True"
      ]
     },
     "execution_count": 150,
     "metadata": {},
     "output_type": "execute_result"
    }
   ],
   "source": [
    "1 in [1,2,3]"
   ]
  },
  {
   "cell_type": "code",
   "execution_count": 151,
   "id": "2388dc6c",
   "metadata": {},
   "outputs": [
    {
     "name": "stderr",
     "output_type": "stream",
     "text": [
      "<>:1: SyntaxWarning: \"is\" with a literal. Did you mean \"==\"?\n",
      "<>:1: SyntaxWarning: \"is\" with a literal. Did you mean \"==\"?\n",
      "C:\\Users\\DATABASE\\AppData\\Local\\Temp\\ipykernel_15616\\3424122506.py:1: SyntaxWarning: \"is\" with a literal. Did you mean \"==\"?\n",
      "  'hamza' is 'Hamza'\n"
     ]
    },
    {
     "data": {
      "text/plain": [
       "False"
      ]
     },
     "execution_count": 151,
     "metadata": {},
     "output_type": "execute_result"
    }
   ],
   "source": [
    "'hamza' is 'Hamza'"
   ]
  },
  {
   "cell_type": "code",
   "execution_count": 152,
   "id": "03abfc47",
   "metadata": {},
   "outputs": [
    {
     "name": "stderr",
     "output_type": "stream",
     "text": [
      "<>:1: SyntaxWarning: \"is\" with a literal. Did you mean \"==\"?\n",
      "<>:1: SyntaxWarning: \"is\" with a literal. Did you mean \"==\"?\n",
      "C:\\Users\\DATABASE\\AppData\\Local\\Temp\\ipykernel_15616\\1842982592.py:1: SyntaxWarning: \"is\" with a literal. Did you mean \"==\"?\n",
      "  'Hamza'is 'Hamza'\n"
     ]
    },
    {
     "data": {
      "text/plain": [
       "True"
      ]
     },
     "execution_count": 152,
     "metadata": {},
     "output_type": "execute_result"
    }
   ],
   "source": [
    "'Hamza'is 'Hamza'"
   ]
  },
  {
   "cell_type": "code",
   "execution_count": 153,
   "id": "b42b5567",
   "metadata": {},
   "outputs": [
    {
     "name": "stderr",
     "output_type": "stream",
     "text": [
      "<>:1: SyntaxWarning: \"is\" with a literal. Did you mean \"==\"?\n",
      "<>:1: SyntaxWarning: \"is\" with a literal. Did you mean \"==\"?\n",
      "C:\\Users\\DATABASE\\AppData\\Local\\Temp\\ipykernel_15616\\1442505601.py:1: SyntaxWarning: \"is\" with a literal. Did you mean \"==\"?\n",
      "  'Hamza ' is 'Hamza' #space\n"
     ]
    },
    {
     "data": {
      "text/plain": [
       "False"
      ]
     },
     "execution_count": 153,
     "metadata": {},
     "output_type": "execute_result"
    }
   ],
   "source": [
    "'Hamza ' is 'Hamza' #space"
   ]
  },
  {
   "cell_type": "code",
   "execution_count": 154,
   "id": "1c991bf8",
   "metadata": {},
   "outputs": [
    {
     "name": "stderr",
     "output_type": "stream",
     "text": [
      "<>:1: SyntaxWarning: \"is\" with a literal. Did you mean \"==\"?\n",
      "<>:1: SyntaxWarning: \"is\" with a literal. Did you mean \"==\"?\n",
      "C:\\Users\\DATABASE\\AppData\\Local\\Temp\\ipykernel_15616\\3861895916.py:1: SyntaxWarning: \"is\" with a literal. Did you mean \"==\"?\n",
      "  'Hamza' is \"Hamza\" #double quotes\n"
     ]
    },
    {
     "data": {
      "text/plain": [
       "True"
      ]
     },
     "execution_count": 154,
     "metadata": {},
     "output_type": "execute_result"
    }
   ],
   "source": [
    "'Hamza' is \"Hamza\" #double quotes"
   ]
  },
  {
   "cell_type": "code",
   "execution_count": 155,
   "id": "36f66ae6",
   "metadata": {},
   "outputs": [
    {
     "name": "stderr",
     "output_type": "stream",
     "text": [
      "<>:1: SyntaxWarning: \"is\" with a literal. Did you mean \"==\"?\n",
      "<>:1: SyntaxWarning: \"is\" with a literal. Did you mean \"==\"?\n",
      "C:\\Users\\DATABASE\\AppData\\Local\\Temp\\ipykernel_15616\\3938569512.py:1: SyntaxWarning: \"is\" with a literal. Did you mean \"==\"?\n",
      "  10 is 10\n"
     ]
    },
    {
     "data": {
      "text/plain": [
       "True"
      ]
     },
     "execution_count": 155,
     "metadata": {},
     "output_type": "execute_result"
    }
   ],
   "source": [
    "10 is 10"
   ]
  },
  {
   "cell_type": "code",
   "execution_count": 156,
   "id": "ad9a6b57",
   "metadata": {},
   "outputs": [
    {
     "data": {
      "text/plain": [
       "True"
      ]
     },
     "execution_count": 156,
     "metadata": {},
     "output_type": "execute_result"
    }
   ],
   "source": [
    "x=56\n",
    "y=56\n",
    "x is y"
   ]
  },
  {
   "cell_type": "code",
   "execution_count": 157,
   "id": "bbd2f275",
   "metadata": {},
   "outputs": [
    {
     "name": "stdout",
     "output_type": "stream",
     "text": [
      "140735732750856\n",
      "140735732750856\n"
     ]
    }
   ],
   "source": [
    "print(id(x))\n",
    "print(id(y))"
   ]
  },
  {
   "cell_type": "code",
   "execution_count": 158,
   "id": "c0a1ddfd",
   "metadata": {},
   "outputs": [
    {
     "data": {
      "text/plain": [
       "True"
      ]
     },
     "execution_count": 158,
     "metadata": {},
     "output_type": "execute_result"
    }
   ],
   "source": [
    "x==y"
   ]
  },
  {
   "cell_type": "code",
   "execution_count": 159,
   "id": "c0a65db5",
   "metadata": {},
   "outputs": [
    {
     "data": {
      "text/plain": [
       "True"
      ]
     },
     "execution_count": 159,
     "metadata": {},
     "output_type": "execute_result"
    }
   ],
   "source": [
    "x=[1,2,3]\n",
    "y=[1,2,3]\n",
    "x==y"
   ]
  },
  {
   "cell_type": "code",
   "execution_count": 160,
   "id": "d351193e",
   "metadata": {},
   "outputs": [
    {
     "data": {
      "text/plain": [
       "False"
      ]
     },
     "execution_count": 160,
     "metadata": {},
     "output_type": "execute_result"
    }
   ],
   "source": [
    "x is y #not same memory adresses"
   ]
  },
  {
   "cell_type": "code",
   "execution_count": 161,
   "id": "f123a9fc",
   "metadata": {},
   "outputs": [
    {
     "name": "stdout",
     "output_type": "stream",
     "text": [
      "2468593180160\n",
      "2468593172864\n"
     ]
    }
   ],
   "source": [
    "print(id(x))\n",
    "print(id(y))"
   ]
  },
  {
   "cell_type": "code",
   "execution_count": 162,
   "id": "01bb860b",
   "metadata": {},
   "outputs": [
    {
     "data": {
      "text/plain": [
       "'0x23ec39e9e00'"
      ]
     },
     "execution_count": 162,
     "metadata": {},
     "output_type": "execute_result"
    }
   ],
   "source": [
    "hex(id(x))"
   ]
  },
  {
   "cell_type": "code",
   "execution_count": 163,
   "id": "e16b6a15",
   "metadata": {},
   "outputs": [
    {
     "data": {
      "text/plain": [
       "'0x23ec39e8180'"
      ]
     },
     "execution_count": 163,
     "metadata": {},
     "output_type": "execute_result"
    }
   ],
   "source": [
    "hex(id(y))"
   ]
  },
  {
   "cell_type": "code",
   "execution_count": 164,
   "id": "c5da22ec",
   "metadata": {},
   "outputs": [
    {
     "data": {
      "text/plain": [
       "140735732749096"
      ]
     },
     "execution_count": 164,
     "metadata": {},
     "output_type": "execute_result"
    }
   ],
   "source": [
    "id(y[0])"
   ]
  },
  {
   "cell_type": "code",
   "execution_count": 165,
   "id": "4e2f4534",
   "metadata": {},
   "outputs": [
    {
     "data": {
      "text/plain": [
       "140735732749096"
      ]
     },
     "execution_count": 165,
     "metadata": {},
     "output_type": "execute_result"
    }
   ],
   "source": [
    "id(x[0])"
   ]
  },
  {
   "cell_type": "markdown",
   "id": "0ec73755",
   "metadata": {},
   "source": [
    "## None Type"
   ]
  },
  {
   "cell_type": "code",
   "execution_count": 166,
   "id": "d7dbd3b4",
   "metadata": {},
   "outputs": [
    {
     "data": {
      "text/plain": [
       "NoneType"
      ]
     },
     "execution_count": 166,
     "metadata": {},
     "output_type": "execute_result"
    }
   ],
   "source": [
    "type(None)"
   ]
  },
  {
   "cell_type": "code",
   "execution_count": 167,
   "id": "320f4845",
   "metadata": {},
   "outputs": [],
   "source": [
    "x=None"
   ]
  },
  {
   "cell_type": "code",
   "execution_count": 168,
   "id": "ec17ebe9",
   "metadata": {},
   "outputs": [],
   "source": [
    "x"
   ]
  },
  {
   "cell_type": "code",
   "execution_count": 169,
   "id": "ebf1e9b3",
   "metadata": {},
   "outputs": [
    {
     "name": "stdout",
     "output_type": "stream",
     "text": [
      "None\n"
     ]
    }
   ],
   "source": [
    "print(x)"
   ]
  },
  {
   "cell_type": "code",
   "execution_count": 170,
   "id": "9c54fb11",
   "metadata": {},
   "outputs": [
    {
     "name": "stdout",
     "output_type": "stream",
     "text": [
      "True\n"
     ]
    }
   ],
   "source": [
    "print(None is None)"
   ]
  },
  {
   "cell_type": "code",
   "execution_count": 171,
   "id": "87a98076",
   "metadata": {},
   "outputs": [
    {
     "name": "stdout",
     "output_type": "stream",
     "text": [
      "False\n"
     ]
    }
   ],
   "source": [
    "print(None == False)"
   ]
  },
  {
   "cell_type": "code",
   "execution_count": 172,
   "id": "a6022a5e",
   "metadata": {},
   "outputs": [
    {
     "data": {
      "text/plain": [
       "False"
      ]
     },
     "execution_count": 172,
     "metadata": {},
     "output_type": "execute_result"
    }
   ],
   "source": [
    "bool(None)"
   ]
  },
  {
   "cell_type": "code",
   "execution_count": 173,
   "id": "55ebe717",
   "metadata": {},
   "outputs": [
    {
     "data": {
      "text/plain": [
       "True"
      ]
     },
     "execution_count": 173,
     "metadata": {},
     "output_type": "execute_result"
    }
   ],
   "source": [
    "bool(None)==bool('')"
   ]
  },
  {
   "cell_type": "code",
   "execution_count": 174,
   "id": "a2cd494e",
   "metadata": {},
   "outputs": [
    {
     "data": {
      "text/plain": [
       "['__bool__',\n",
       " '__class__',\n",
       " '__delattr__',\n",
       " '__dir__',\n",
       " '__doc__',\n",
       " '__eq__',\n",
       " '__format__',\n",
       " '__ge__',\n",
       " '__getattribute__',\n",
       " '__getstate__',\n",
       " '__gt__',\n",
       " '__hash__',\n",
       " '__init__',\n",
       " '__init_subclass__',\n",
       " '__le__',\n",
       " '__lt__',\n",
       " '__ne__',\n",
       " '__new__',\n",
       " '__reduce__',\n",
       " '__reduce_ex__',\n",
       " '__repr__',\n",
       " '__setattr__',\n",
       " '__sizeof__',\n",
       " '__str__',\n",
       " '__subclasshook__']"
      ]
     },
     "execution_count": 174,
     "metadata": {},
     "output_type": "execute_result"
    }
   ],
   "source": [
    "dir(None)"
   ]
  },
  {
   "cell_type": "markdown",
   "id": "4d406e3a",
   "metadata": {},
   "source": [
    "### Comments"
   ]
  },
  {
   "cell_type": "code",
   "execution_count": 175,
   "id": "079f4d6b",
   "metadata": {},
   "outputs": [],
   "source": [
    "# This is a comment\n",
    "# what kind of comments should you write:\n",
    "#### collaboration\n",
    "#### notes\n",
    "#### missing code\n",
    "#### explanation\n",
    "#### bla bla bla"
   ]
  },
  {
   "cell_type": "markdown",
   "id": "97ace26b",
   "metadata": {},
   "source": [
    "### The zen of Python"
   ]
  },
  {
   "cell_type": "markdown",
   "id": "22a5fba3",
   "metadata": {},
   "source": [
    "#### Beautiful is better than ugly.\n",
    "#### Explicit is better than implicit ...."
   ]
  },
  {
   "cell_type": "code",
   "execution_count": 176,
   "id": "5898a619",
   "metadata": {},
   "outputs": [
    {
     "name": "stdout",
     "output_type": "stream",
     "text": [
      "The Zen of Python, by Tim Peters\n",
      "\n",
      "Beautiful is better than ugly.\n",
      "Explicit is better than implicit.\n",
      "Simple is better than complex.\n",
      "Complex is better than complicated.\n",
      "Flat is better than nested.\n",
      "Sparse is better than dense.\n",
      "Readability counts.\n",
      "Special cases aren't special enough to break the rules.\n",
      "Although practicality beats purity.\n",
      "Errors should never pass silently.\n",
      "Unless explicitly silenced.\n",
      "In the face of ambiguity, refuse the temptation to guess.\n",
      "There should be one-- and preferably only one --obvious way to do it.\n",
      "Although that way may not be obvious at first unless you're Dutch.\n",
      "Now is better than never.\n",
      "Although never is often better than *right* now.\n",
      "If the implementation is hard to explain, it's a bad idea.\n",
      "If the implementation is easy to explain, it may be a good idea.\n",
      "Namespaces are one honking great idea -- let's do more of those!\n"
     ]
    },
    {
     "data": {
      "text/plain": [
       "\"Gur Mra bs Clguba, ol Gvz Crgref\\n\\nOrnhgvshy vf orggre guna htyl.\\nRkcyvpvg vf orggre guna vzcyvpvg.\\nFvzcyr vf orggre guna pbzcyrk.\\nPbzcyrk vf orggre guna pbzcyvpngrq.\\nSyng vf orggre guna arfgrq.\\nFcnefr vf orggre guna qrafr.\\nErnqnovyvgl pbhagf.\\nFcrpvny pnfrf nera'g fcrpvny rabhtu gb oernx gur ehyrf.\\nNygubhtu cenpgvpnyvgl orngf chevgl.\\nReebef fubhyq arire cnff fvyragyl.\\nHayrff rkcyvpvgyl fvyraprq.\\nVa gur snpr bs nzovthvgl, ershfr gur grzcgngvba gb thrff.\\nGurer fubhyq or bar-- naq cersrenoyl bayl bar --boivbhf jnl gb qb vg.\\nNygubhtu gung jnl znl abg or boivbhf ng svefg hayrff lbh'er Qhgpu.\\nAbj vf orggre guna arire.\\nNygubhtu arire vf bsgra orggre guna *evtug* abj.\\nVs gur vzcyrzragngvba vf uneq gb rkcynva, vg'f n onq vqrn.\\nVs gur vzcyrzragngvba vf rnfl gb rkcynva, vg znl or n tbbq vqrn.\\nAnzrfcnprf ner bar ubaxvat terng vqrn -- yrg'f qb zber bs gubfr!\""
      ]
     },
     "execution_count": 176,
     "metadata": {},
     "output_type": "execute_result"
    }
   ],
   "source": [
    "import this\n",
    "this.s"
   ]
  },
  {
   "cell_type": "code",
   "execution_count": null,
   "id": "5c3987dd",
   "metadata": {},
   "outputs": [],
   "source": []
  }
 ],
 "metadata": {
  "kernelspec": {
   "display_name": "Python 3 (ipykernel)",
   "language": "python",
   "name": "python3"
  },
  "language_info": {
   "codemirror_mode": {
    "name": "ipython",
    "version": 3
   },
   "file_extension": ".py",
   "mimetype": "text/x-python",
   "name": "python",
   "nbconvert_exporter": "python",
   "pygments_lexer": "ipython3",
   "version": "3.11.5"
  }
 },
 "nbformat": 4,
 "nbformat_minor": 5
}
