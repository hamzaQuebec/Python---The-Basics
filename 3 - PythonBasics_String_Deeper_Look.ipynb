{
 "cells": [
  {
   "cell_type": "markdown",
   "id": "88d7351d",
   "metadata": {},
   "source": [
    "### format() method"
   ]
  },
  {
   "cell_type": "code",
   "execution_count": 1,
   "id": "3fdce13d",
   "metadata": {},
   "outputs": [
    {
     "data": {
      "text/plain": [
       "\"je m'appelle Hamza, j'ai 40 ans\""
      ]
     },
     "execution_count": 1,
     "metadata": {},
     "output_type": "execute_result"
    }
   ],
   "source": [
    "\"je m'appelle Hamza, j'ai 40 ans\""
   ]
  },
  {
   "cell_type": "code",
   "execution_count": 2,
   "id": "3b97c3e3",
   "metadata": {},
   "outputs": [
    {
     "name": "stdout",
     "output_type": "stream",
     "text": [
      "Je m'appelle  Hamza j'ai 40 ans.\n"
     ]
    }
   ],
   "source": [
    "name=\"Hamza\"\n",
    "age=40\n",
    "print(\"Je m'appelle \", name, \"j'ai\", age, \"ans.\")"
   ]
  },
  {
   "cell_type": "code",
   "execution_count": 3,
   "id": "d8c930cb",
   "metadata": {},
   "outputs": [
    {
     "data": {
      "text/plain": [
       "'abc is guru def is 65 hia (1, 5, 9)'"
      ]
     },
     "execution_count": 3,
     "metadata": {},
     "output_type": "execute_result"
    }
   ],
   "source": [
    "#{} as 'replacement fields'\n",
    "'abc is {} def is {} hia {}'.format('guru', 65, (1,5,9))"
   ]
  },
  {
   "cell_type": "code",
   "execution_count": 4,
   "id": "501b6b4e",
   "metadata": {},
   "outputs": [
    {
     "data": {
      "text/plain": [
       "'abc is 1 def is 3 hia 2'"
      ]
     },
     "execution_count": 4,
     "metadata": {},
     "output_type": "execute_result"
    }
   ],
   "source": [
    "#positional arguments\n",
    "'abc is {0} def is {2} hia {1}'.format(1,2,3)"
   ]
  },
  {
   "cell_type": "code",
   "execution_count": 5,
   "id": "52f50251",
   "metadata": {},
   "outputs": [
    {
     "data": {
      "text/plain": [
       "'abc is 65 def is 0 hia guru'"
      ]
     },
     "execution_count": 5,
     "metadata": {},
     "output_type": "execute_result"
    }
   ],
   "source": [
    "#replacement fields with keyword arguments (in different order)\n",
    "'abc is {a} def is {b} hia {c}'.format(c='guru', a=65, b=0)"
   ]
  },
  {
   "cell_type": "code",
   "execution_count": 6,
   "id": "818b8327",
   "metadata": {},
   "outputs": [
    {
     "data": {
      "text/plain": [
       "'abc is r def is 65 hia 9'"
      ]
     },
     "execution_count": 6,
     "metadata": {},
     "output_type": "execute_result"
    }
   ],
   "source": [
    "#replacement fields can reference attributes and elements of positional argument\n",
    "'abc is {a[2]} def is {b[0]} hia {c[2]}'.format(a='guru', b=[65,2],c= (1,5,9))"
   ]
  },
  {
   "cell_type": "code",
   "execution_count": 7,
   "id": "faa9f846",
   "metadata": {},
   "outputs": [
    {
     "data": {
      "text/plain": [
       "\"abc is 'Hamz\\\\xe0' \""
      ]
     },
     "execution_count": 7,
     "metadata": {},
     "output_type": "execute_result"
    }
   ],
   "source": [
    "#replacement fields with conversion: 'r' [repr()], 's' [str()], 'a' [ascii()]\n",
    "'abc is {a!a} ' .format(a='Hamzà')"
   ]
  },
  {
   "cell_type": "code",
   "execution_count": 8,
   "id": "fe6e06b9",
   "metadata": {},
   "outputs": [
    {
     "data": {
      "text/plain": [
       "\"'\\\\xe0'\""
      ]
     },
     "execution_count": 8,
     "metadata": {},
     "output_type": "execute_result"
    }
   ],
   "source": [
    "ascii('à')"
   ]
  },
  {
   "cell_type": "code",
   "execution_count": 9,
   "id": "bb58054f",
   "metadata": {},
   "outputs": [
    {
     "data": {
      "text/plain": [
       "'the value of pi is : 3.14159'"
      ]
     },
     "execution_count": 9,
     "metadata": {},
     "output_type": "execute_result"
    }
   ],
   "source": [
    "#replacement fields with format specification\n",
    "#float precision\n",
    "'the value of pi is : {:.5f}'.format(3.14159265) #with round up"
   ]
  },
  {
   "cell_type": "code",
   "execution_count": 10,
   "id": "30183b5e",
   "metadata": {},
   "outputs": [
    {
     "data": {
      "text/plain": [
       "'We can also zero-pad integers like this: 004, 00002'"
      ]
     },
     "execution_count": 10,
     "metadata": {},
     "output_type": "execute_result"
    }
   ],
   "source": [
    "'We can also zero-pad integers like this: {1:03}, {0:05}'.format(2, 4)"
   ]
  },
  {
   "cell_type": "markdown",
   "id": "085f6d3e",
   "metadata": {},
   "source": [
    "### Formatting f-strings"
   ]
  },
  {
   "cell_type": "code",
   "execution_count": 11,
   "id": "24c11416",
   "metadata": {},
   "outputs": [
    {
     "name": "stdout",
     "output_type": "stream",
     "text": [
      "Je m'appelle Hamza, j'ai 40 ans.\n"
     ]
    }
   ],
   "source": [
    "#after Python 3.6\n",
    "\n",
    "name=\"Hamza\"\n",
    "age=40\n",
    "print(f\"Je m'appelle {name }, j'ai {age} ans.\")"
   ]
  },
  {
   "cell_type": "code",
   "execution_count": 12,
   "id": "62767c5b",
   "metadata": {},
   "outputs": [
    {
     "data": {
      "text/plain": [
       "'17.54'"
      ]
     },
     "execution_count": 12,
     "metadata": {},
     "output_type": "execute_result"
    }
   ],
   "source": [
    "f'{17.5369:.2f}' #float"
   ]
  },
  {
   "cell_type": "code",
   "execution_count": 13,
   "id": "08911790",
   "metadata": {},
   "outputs": [
    {
     "data": {
      "text/plain": [
       "'010'"
      ]
     },
     "execution_count": 13,
     "metadata": {},
     "output_type": "execute_result"
    }
   ],
   "source": [
    "f'{10:03d}' #int"
   ]
  },
  {
   "cell_type": "code",
   "execution_count": 14,
   "id": "2e5a854e",
   "metadata": {},
   "outputs": [
    {
     "data": {
      "text/plain": [
       "'A a'"
      ]
     },
     "execution_count": 14,
     "metadata": {},
     "output_type": "execute_result"
    }
   ],
   "source": [
    "f'{65:c} {97:c}' #char"
   ]
  },
  {
   "cell_type": "code",
   "execution_count": 15,
   "id": "b79e4439",
   "metadata": {},
   "outputs": [
    {
     "name": "stdout",
     "output_type": "stream",
     "text": [
      "100000000000000000000000000000.000\n",
      "1.000e+29\n"
     ]
    }
   ],
   "source": [
    "from decimal import Decimal\n",
    "print(f\"{Decimal('100000000000000000000000000000.0'):.3f}\")\n",
    "print(f\"{Decimal('100000000000000000000000000000.0'):.3e}\")"
   ]
  },
  {
   "cell_type": "code",
   "execution_count": 16,
   "id": "9aa11158",
   "metadata": {},
   "outputs": [
    {
     "data": {
      "text/plain": [
       "'123,456,789'"
      ]
     },
     "execution_count": 16,
     "metadata": {},
     "output_type": "execute_result"
    }
   ],
   "source": [
    "#grouping digits\n",
    "f'{123456789:,d}'"
   ]
  },
  {
   "cell_type": "code",
   "execution_count": 17,
   "id": "e232f825",
   "metadata": {},
   "outputs": [
    {
     "data": {
      "text/plain": [
       "'123,456,789.42'"
      ]
     },
     "execution_count": 17,
     "metadata": {},
     "output_type": "execute_result"
    }
   ],
   "source": [
    "#grouping digits\n",
    "f'{123456789.42:,.2f}'"
   ]
  },
  {
   "cell_type": "code",
   "execution_count": 18,
   "id": "e5a46dd9",
   "metadata": {},
   "outputs": [],
   "source": [
    "#we can also use functions and methods inside replacement fields\n",
    "a='hAmZa'\n",
    "b=['kebab', 'couscous', 'tacos']"
   ]
  },
  {
   "cell_type": "code",
   "execution_count": 19,
   "id": "42117745",
   "metadata": {},
   "outputs": [
    {
     "data": {
      "text/plain": [
       "\"abc is HAMZA defdss is ['couscous', 'kebab', 'tacos'] and also try hwmza\""
      ]
     },
     "execution_count": 19,
     "metadata": {},
     "output_type": "execute_result"
    }
   ],
   "source": [
    "f\"abc is {a.upper()} defdss is {sorted(b)} and also try {a.replace('A', 'W').lower()}\""
   ]
  },
  {
   "cell_type": "markdown",
   "id": "0ea27e67",
   "metadata": {},
   "source": [
    "### Splitting and Joining String"
   ]
  },
  {
   "cell_type": "code",
   "execution_count": 20,
   "id": "d6449a90",
   "metadata": {},
   "outputs": [
    {
     "data": {
      "text/plain": [
       "['My',\n",
       " 'favourites',\n",
       " 'hobbies',\n",
       " 'are',\n",
       " 'soccer,',\n",
       " 'fishing,',\n",
       " 'reading',\n",
       " 'and',\n",
       " 'movies']"
      ]
     },
     "execution_count": 20,
     "metadata": {},
     "output_type": "execute_result"
    }
   ],
   "source": [
    "#str split() method\n",
    "text='My favourites hobbies are soccer, fishing, reading and movies'\n",
    "splitted_text=text.split() #by default split by space\n",
    "splitted_text"
   ]
  },
  {
   "cell_type": "code",
   "execution_count": 21,
   "id": "90e43283",
   "metadata": {},
   "outputs": [
    {
     "name": "stdout",
     "output_type": "stream",
     "text": [
      "<class 'list'>\n"
     ]
    }
   ],
   "source": [
    "print(type(splitted_text))"
   ]
  },
  {
   "cell_type": "code",
   "execution_count": 22,
   "id": "71293bd3",
   "metadata": {},
   "outputs": [
    {
     "data": {
      "text/plain": [
       "['My',\n",
       " 'favourites',\n",
       " 'hobbies',\n",
       " 'are',\n",
       " 'soccer,',\n",
       " 'fishing,',\n",
       " 'reading',\n",
       " 'and',\n",
       " 'movies']"
      ]
     },
     "execution_count": 22,
     "metadata": {},
     "output_type": "execute_result"
    }
   ],
   "source": [
    "text.split(' ') #"
   ]
  },
  {
   "cell_type": "code",
   "execution_count": 23,
   "id": "308f5f48",
   "metadata": {},
   "outputs": [
    {
     "data": {
      "text/plain": [
       "['My favourites hobbies are soccer', ' fishing', ' reading and movies']"
      ]
     },
     "execution_count": 23,
     "metadata": {},
     "output_type": "execute_result"
    }
   ],
   "source": [
    "text.split(',')"
   ]
  },
  {
   "cell_type": "code",
   "execution_count": 24,
   "id": "0b170471",
   "metadata": {},
   "outputs": [
    {
     "data": {
      "text/plain": [
       "['My favourites hobbies are soccer', ' fishing', ' reading and movies']"
      ]
     },
     "execution_count": 24,
     "metadata": {},
     "output_type": "execute_result"
    }
   ],
   "source": [
    "text_list=[item for item in text.split(',')]\n",
    "text_list"
   ]
  },
  {
   "cell_type": "code",
   "execution_count": 25,
   "id": "d336e6c8",
   "metadata": {},
   "outputs": [
    {
     "data": {
      "text/plain": [
       "'My favourites hobbies are soccer'"
      ]
     },
     "execution_count": 25,
     "metadata": {},
     "output_type": "execute_result"
    }
   ],
   "source": [
    "text_list[0].strip()"
   ]
  },
  {
   "cell_type": "code",
   "execution_count": 26,
   "id": "f1033069",
   "metadata": {},
   "outputs": [
    {
     "data": {
      "text/plain": [
       "'This is line 1\\nThis is line 2\\nThis is line 3'"
      ]
     },
     "execution_count": 26,
     "metadata": {},
     "output_type": "execute_result"
    }
   ],
   "source": [
    "lines=\"\"\"This is line 1\n",
    "This is line 2\n",
    "This is line 3\"\"\"\n",
    "lines"
   ]
  },
  {
   "cell_type": "code",
   "execution_count": 27,
   "id": "422b6eea",
   "metadata": {},
   "outputs": [
    {
     "data": {
      "text/plain": [
       "['This is line 1', 'This is line 2', 'This is line 3']"
      ]
     },
     "execution_count": 27,
     "metadata": {},
     "output_type": "execute_result"
    }
   ],
   "source": [
    "lines.splitlines()"
   ]
  },
  {
   "cell_type": "code",
   "execution_count": 28,
   "id": "07852e22",
   "metadata": {},
   "outputs": [
    {
     "data": {
      "text/plain": [
       "['This is line 1', 'This is line 2', 'This is line 3']"
      ]
     },
     "execution_count": 28,
     "metadata": {},
     "output_type": "execute_result"
    }
   ],
   "source": [
    "lines.split('\\n')"
   ]
  },
  {
   "cell_type": "code",
   "execution_count": 29,
   "id": "25297de7",
   "metadata": {},
   "outputs": [
    {
     "data": {
      "text/plain": [
       "['This is line 1\\n', 'This is line 2\\n', 'This is line 3']"
      ]
     },
     "execution_count": 29,
     "metadata": {},
     "output_type": "execute_result"
    }
   ],
   "source": [
    "lines.splitlines(True)"
   ]
  },
  {
   "cell_type": "code",
   "execution_count": 30,
   "id": "4f6561a5",
   "metadata": {},
   "outputs": [
    {
     "name": "stdout",
     "output_type": "stream",
     "text": [
      "['chess', 'estimation', 'computers', 'reading', 'handball']\n"
     ]
    },
    {
     "data": {
      "text/plain": [
       "'chess, estimation, computers, reading, handball'"
      ]
     },
     "execution_count": 30,
     "metadata": {},
     "output_type": "execute_result"
    }
   ],
   "source": [
    "#str join text\n",
    "text_list =['chess', 'estimation', 'computers', 'reading', 'handball']\n",
    "print(text_list)\n",
    "', '.join(text_list)"
   ]
  },
  {
   "cell_type": "code",
   "execution_count": 31,
   "id": "e39dfadd",
   "metadata": {},
   "outputs": [
    {
     "name": "stdout",
     "output_type": "stream",
     "text": [
      "('Hamza', ':', ' 89, 62, 78, 99 and also Mike: 30, 98, 54')\n"
     ]
    }
   ],
   "source": [
    "#partition() devides string at first occurence of a char\n",
    "#returns a tuple\n",
    "print('Hamza: 89, 62, 78, 99 and also Mike: 30, 98, 54'.partition(':') )"
   ]
  },
  {
   "cell_type": "markdown",
   "id": "46741f51",
   "metadata": {},
   "source": [
    "### Character Checks"
   ]
  },
  {
   "cell_type": "code",
   "execution_count": 32,
   "id": "d8ac1f01",
   "metadata": {},
   "outputs": [
    {
     "data": {
      "text/plain": [
       "False"
      ]
     },
     "execution_count": 32,
     "metadata": {},
     "output_type": "execute_result"
    }
   ],
   "source": [
    "\"-26\".isdigit() # - is not digit"
   ]
  },
  {
   "cell_type": "code",
   "execution_count": 33,
   "id": "59b7eb3e",
   "metadata": {},
   "outputs": [
    {
     "data": {
      "text/plain": [
       "True"
      ]
     },
     "execution_count": 33,
     "metadata": {},
     "output_type": "execute_result"
    }
   ],
   "source": [
    "'27'.isdigit()"
   ]
  },
  {
   "cell_type": "code",
   "execution_count": 34,
   "id": "85365ab3",
   "metadata": {},
   "outputs": [
    {
     "data": {
      "text/plain": [
       "True"
      ]
     },
     "execution_count": 34,
     "metadata": {},
     "output_type": "execute_result"
    }
   ],
   "source": [
    "\"A987546\".isalnum() #alphanumeric"
   ]
  },
  {
   "cell_type": "code",
   "execution_count": 35,
   "id": "2e6d5b97",
   "metadata": {},
   "outputs": [
    {
     "data": {
      "text/plain": [
       "False"
      ]
     },
     "execution_count": 35,
     "metadata": {},
     "output_type": "execute_result"
    }
   ],
   "source": [
    "'1234 Main Street'.isalnum() #space is not alphanumeric"
   ]
  },
  {
   "cell_type": "markdown",
   "id": "0e998e51",
   "metadata": {},
   "source": [
    "### Raw String"
   ]
  },
  {
   "cell_type": "code",
   "execution_count": 36,
   "id": "8820bbaa",
   "metadata": {},
   "outputs": [
    {
     "data": {
      "text/plain": [
       "'C:\\\\MyFolder\\\\Hamza\\\\Hamza.txt'"
      ]
     },
     "execution_count": 36,
     "metadata": {},
     "output_type": "execute_result"
    }
   ],
   "source": [
    "file_path='C:\\\\MyFolder\\\\Hamza\\\\Hamza.txt'\n",
    "file_path"
   ]
  },
  {
   "cell_type": "code",
   "execution_count": 37,
   "id": "1574f35b",
   "metadata": {},
   "outputs": [
    {
     "name": "stdout",
     "output_type": "stream",
     "text": [
      "C:\\MyFolder\\Hamza\\Hamza.txt\n"
     ]
    }
   ],
   "source": [
    "print(file_path)"
   ]
  },
  {
   "cell_type": "code",
   "execution_count": 38,
   "id": "e8d5c7d9",
   "metadata": {},
   "outputs": [],
   "source": [
    "file_path=r'C:\\\\MyFolder\\\\Hamza\\\\Hamza.txt'"
   ]
  },
  {
   "cell_type": "code",
   "execution_count": 39,
   "id": "b054b763",
   "metadata": {},
   "outputs": [
    {
     "data": {
      "text/plain": [
       "'C:\\\\\\\\MyFolder\\\\\\\\Hamza\\\\\\\\Hamza.txt'"
      ]
     },
     "execution_count": 39,
     "metadata": {},
     "output_type": "execute_result"
    }
   ],
   "source": [
    "file_path"
   ]
  },
  {
   "cell_type": "code",
   "execution_count": 40,
   "id": "73672670",
   "metadata": {},
   "outputs": [
    {
     "name": "stdout",
     "output_type": "stream",
     "text": [
      "C:\\\\MyFolder\\\\Hamza\\\\Hamza.txt\n"
     ]
    }
   ],
   "source": [
    "print(file_path)"
   ]
  },
  {
   "cell_type": "code",
   "execution_count": null,
   "id": "6f5cc792",
   "metadata": {},
   "outputs": [],
   "source": []
  }
 ],
 "metadata": {
  "kernelspec": {
   "display_name": "Python 3 (ipykernel)",
   "language": "python",
   "name": "python3"
  },
  "language_info": {
   "codemirror_mode": {
    "name": "ipython",
    "version": 3
   },
   "file_extension": ".py",
   "mimetype": "text/x-python",
   "name": "python",
   "nbconvert_exporter": "python",
   "pygments_lexer": "ipython3",
   "version": "3.11.5"
  }
 },
 "nbformat": 4,
 "nbformat_minor": 5
}
